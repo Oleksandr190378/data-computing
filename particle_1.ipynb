{
 "cells": [
  {
   "cell_type": "code",
   "execution_count": 1,
   "id": "7cef6903-4269-4974-b331-cd14d28f2f21",
   "metadata": {},
   "outputs": [],
   "source": [
    "from dotenv import load_dotenv\n",
    "import getpass\n",
    "import os\n",
    "\n",
    "\n",
    "# Завантажуємо змінні середовища з файлу .env\n",
    "load_dotenv()\n",
    "\n",
    "def _set_env(var: str):\n",
    "    # Перевіряємо, чи змінна вже встановлена\n",
    "    env_value = os.getenv(var)\n",
    "    if not env_value:\n",
    "        # Якщо не встановлена, запитуємо користувача\n",
    "        env_value = getpass.getpass(f\"{var}: \")\n",
    "        # Встановлюємо змінну для поточного середовища\n",
    "        os.environ[var] = env_value\n",
    "    return env_value\n",
    "\n",
    "# Отримуємо значення змінних середовища\n",
    "langchain_api_key = _set_env(\"LANGCHAIN_API_KEY\")\n",
    "openai_api_key = _set_env(\"OPENAI_API_KEY\")\n",
    "anthropic_api_key = _set_env(\"ANTHROPIC_API_KEY\")\n",
    "tavily_api_key = _set_env(\"TAVILY_API_KEY\")"
   ]
  },
  {
   "cell_type": "code",
   "execution_count": 3,
   "id": "3253d793-8cc1-442d-b160-1bda91d987f9",
   "metadata": {},
   "outputs": [
    {
     "name": "stdin",
     "output_type": "stream",
     "text": [
      "SERPER_API_KEY:  ········\n"
     ]
    }
   ],
   "source": [
    "serper_api_key = _set_env(\"SERPER_API_KEY\")"
   ]
  },
  {
   "cell_type": "code",
   "execution_count": 4,
   "id": "c291ec88-e2e2-4b49-b8d4-a88ec3123e3d",
   "metadata": {},
   "outputs": [],
   "source": [
    "from langchain_community.utilities import GoogleSerperAPIWrapper\n",
    "search = GoogleSerperAPIWrapper()"
   ]
  },
  {
   "cell_type": "code",
   "execution_count": 76,
   "id": "6e6c7b6c-b581-4deb-8f49-8283937c8b57",
   "metadata": {},
   "outputs": [
    {
     "name": "stdout",
     "output_type": "stream",
     "text": [
      "{'searchParameters': {'q': 'latest news about Biden  06 January 2025 ',\n",
      "                      'gl': 'us',\n",
      "                      'hl': 'en',\n",
      "                      'type': 'news',\n",
      "                      'num': 10,\n",
      "                      'engine': 'google'},\n",
      " 'news': [{'title': 'Breaking News: President Will Sign H.R. 82 Into Law on '\n",
      "                    'January 6, 2025',\n",
      "           'link': 'https://trta.org/breaking-news-president-will-sign-h-r-82-into-law-on-january-6-2025/',\n",
      "           'snippet': 'Members of the Texas Retired Teachers Association '\n",
      "                      '(TRTA), we are pleased to inform you that President Joe '\n",
      "                      'Biden has announced he officially...',\n",
      "           'date': '5 hours ago',\n",
      "           'source': 'Texas Retired Teachers Association',\n",
      "           'imageUrl': 'https://encrypted-tbn0.gstatic.com/images?q=tbn:ANd9GcSlD1RCkUXYDF5oqD5GdyM5w3sqovOwFCm7BmWCJfYXMG2TIhcTYgUJE4rCnQ&s',\n",
      "           'position': 1},\n",
      "          {'title': 'Biden calls on Americans not to forget Jan 6 attack',\n",
      "           'link': 'https://www.reuters.com/world/us/biden-calls-americans-not-forget-jan-6-attack-2025-01-06/',\n",
      "           'snippet': 'President Joe Biden implored Americans in an op-ed '\n",
      "                      'published on Sunday not to forget the Jan. 6, 2021, '\n",
      "                      'attack on the U.S. Capitol,...',\n",
      "           'date': '9 hours ago',\n",
      "           'source': 'Reuters',\n",
      "           'imageUrl': 'https://encrypted-tbn0.gstatic.com/images?q=tbn:ANd9GcQhnn7wDB6ZzXpVCzMYjyzEx6QuT7BKXtNK8LNJeRzxtg5xOiTdPmq4-1k-eg&s',\n",
      "           'position': 2},\n",
      "          {'title': 'Biden speaks about January 6th and peaceful transfer of '\n",
      "                    'power',\n",
      "           'link': 'https://billingsgazette.com/news/nation-world/government-politics/biden-speaks-about-january-6th-and-peaceful-transfer-of-power/video_2857952c-ca49-551f-8c05-22f4cbec2002.html',\n",
      "           'snippet': 'On Sunday President Joe Biden spoke to new Democratic '\n",
      "                      'members of Congress about the January 6th, 2021 Capitol '\n",
      "                      'riot and the importance of the...',\n",
      "           'date': '4 hours ago',\n",
      "           'source': 'Billings Gazette',\n",
      "           'imageUrl': 'https://encrypted-tbn0.gstatic.com/images?q=tbn:ANd9GcTbzB-kMAPRb5hObRyMwPsNc2how2InOkv8RDFzdJSZJeU2wEGvEAiueCBaVg&s',\n",
      "           'position': 3},\n",
      "          {'title': 'Biden Warns Americans Not to Forget the Jan. 6 Attack',\n",
      "           'link': 'https://www.nytimes.com/2025/01/06/us/politics/biden-trump-warnings-jan-6.html',\n",
      "           'snippet': 'In an essay in The Washington Post, President Biden '\n",
      "                      'accused President-elect Donald J. Trump and his '\n",
      "                      'supporters of trying to erase the...',\n",
      "           'date': '44 minutes ago',\n",
      "           'source': 'The New York Times',\n",
      "           'imageUrl': 'https://encrypted-tbn0.gstatic.com/images?q=tbn:ANd9GcRk8RTPWMiX_wNHXz-hNz8A4sowD0LIez3OX333lhTgtAlCGi8oem26Gc82rA&s',\n",
      "           'position': 4},\n",
      "          {'title': 'World News Live Today January 6, 2025: Indian student '\n",
      "                    'alleges bias in UK university amid hate campaign claims',\n",
      "           'link': 'https://www.hindustantimes.com/world-news/world-news-live-latest-updates-on-politics-economy-conflicts-climate-change-today-january-6-2025-101736103418451.html',\n",
      "           'snippet': 'World News Live: Get real-time updates on international '\n",
      "                      'politics, economic changes, conflicts, and '\n",
      "                      'environmental issues. Access the latest...',\n",
      "           'date': '47 minutes ago',\n",
      "           'source': 'Hindustan Times',\n",
      "           'imageUrl': 'https://encrypted-tbn0.gstatic.com/images?q=tbn:ANd9GcQ4ubUCdzzt0Dva0iI3Fh2Q9IwlXtX4iI5Et4Hq04nxewHenal2xJ8nZsi5kA&s',\n",
      "           'position': 5},\n",
      "          {'title': 'Biden is traveling to New Orleans following the French '\n",
      "                    'Quarter attack that killed 14 and injured 30',\n",
      "           'link': 'https://www.clickorlando.com/news/politics/2025/01/06/biden-is-traveling-to-new-orleans-following-the-french-quarter-attack-that-killed-14-and-injured-30/',\n",
      "           'snippet': 'President Joe Biden is heading to New Orleans as the '\n",
      "                      \"city reels from the deadly New Year's attack in which \"\n",
      "                      'an Army veteran plowed a truck...',\n",
      "           'date': '1 hour ago',\n",
      "           'source': 'WKMG',\n",
      "           'imageUrl': 'https://encrypted-tbn0.gstatic.com/images?q=tbn:ANd9GcTvsPcPZuIhwAkxJ5xVT1xeLwSRLFk14Xqv5QUDFtsD2h1LsEMwhQ28FI3otA&s',\n",
      "           'position': 6},\n",
      "          {'title': 'Donald Trump is about to get the Jan. 6 that he denied '\n",
      "                    'Joe Biden',\n",
      "           'link': 'https://www.politico.com/news/2025/01/05/trump-january-6-peaceful-00196493',\n",
      "           'snippet': \"Monday's certification of Trump's victory will be the \"\n",
      "                      'antithesis of the carnage at the Capitol four years '\n",
      "                      'ago.',\n",
      "           'date': '1 day ago',\n",
      "           'source': 'Politico',\n",
      "           'imageUrl': 'https://encrypted-tbn0.gstatic.com/images?q=tbn:ANd9GcSZJQzk8Zpu_TWj7wES0HNpijvqsRLQR4XTYeKnFWu8dZ4h8iqfur1YoTm4zQ&s',\n",
      "           'position': 7},\n",
      "          {'title': 'Biden to attend Trump inauguration in bid to restore '\n",
      "                    'traditions of peaceful transition of power',\n",
      "           'link': 'https://www.deccanherald.com/world/biden-to-attend-trump-inauguration-in-bid-to-restore-traditions-of-peaceful-transition-of-power-3343043',\n",
      "           'snippet': 'Biden also noted that Vice President Kamala Harris, as '\n",
      "                      'president of the Senate, is also set to preside as '\n",
      "                      'Congress counts the Electoral...',\n",
      "           'date': '3 hours ago',\n",
      "           'source': 'Deccan Herald',\n",
      "           'imageUrl': 'https://encrypted-tbn0.gstatic.com/images?q=tbn:ANd9GcTW7sIn6zns8828MNeUs_Wxu1P5Qa2h4C9qct-Ie9Qp7ZLowxnRVh6E8HJjRQ&s',\n",
      "           'position': 8},\n",
      "          {'title': \"No Jan. 6 disruptions are expected as Trump's win boosts \"\n",
      "                    \"Republicans' faith in elections -- for now\",\n",
      "           'link': 'https://abcnews.go.com/US/wireStory/jan-6-disruptions-expected-trumps-win-boosts-republicans-117342807',\n",
      "           'snippet': 'Four years ago, then-President Donald Trump rallied his '\n",
      "                      'supporters to march to the U.S. Capitol and urged his '\n",
      "                      'vice president to stop the...',\n",
      "           'date': '1 day ago',\n",
      "           'source': 'ABC News - Breaking News, Latest News and Videos',\n",
      "           'imageUrl': 'https://encrypted-tbn0.gstatic.com/images?q=tbn:ANd9GcRdfygn9gaW4rm9f7iGowuQJaBd8xZV3Aq6RfhlKSppOWQbakJKrzMp1BkZug&s',\n",
      "           'position': 9},\n",
      "          {'title': 'Blinken ‘confident’ Gaza ceasefire deal will come, '\n",
      "                    'possibly after Biden',\n",
      "           'link': 'https://english.alarabiya.net/News/middle-east/2025/01/06/blinken-confident-gaza-ceasefire-deal-will-come-possibly-after-biden',\n",
      "           'snippet': 'US Secretary of State Antony Blinken voiced confidence '\n",
      "                      'Monday that a ceasefire deal in Gaza would come '\n",
      "                      'together, but possibly after...',\n",
      "           'date': '8 hours ago',\n",
      "           'source': 'Al Arabiya English',\n",
      "           'imageUrl': 'https://encrypted-tbn0.gstatic.com/images?q=tbn:ANd9GcQIAX8vMmnoGXL8c8KklPEh350NInBua6UC-TcNWtO5VVqNEasLUfCxC4m1ig&s',\n",
      "           'position': 10}],\n",
      " 'credits': 1}\n"
     ]
    }
   ],
   "source": [
    "import pprint\n",
    "search2 = GoogleSerperAPIWrapper(type=\"news\")\n",
    "results = search2.results(\"\"\"latest news about Biden  06 January 2025 \"\"\")\n",
    "pprint.pp(results)"
   ]
  },
  {
   "cell_type": "code",
   "execution_count": 31,
   "id": "87e055e7-980c-4e24-80c7-1c8168815357",
   "metadata": {},
   "outputs": [
    {
     "name": "stdout",
     "output_type": "stream",
     "text": [
      "Link: https://trta.org/breaking-news-president-will-sign-h-r-82-into-law-on-january-6-2025/\n",
      "Source: Texas Retired Teachers Association\n",
      "--------------------------------------------------\n",
      "Link: https://www.cbsnews.com/news/social-security-fairness-act-signed-by-president-biden/\n",
      "Source: CBS News\n",
      "--------------------------------------------------\n",
      "Link: https://abcnews.go.com/Politics/biden-signs-social-security-fairness-act-law/story?id=117350914\n",
      "Source: ABC News - Breaking News, Latest News and Videos\n",
      "--------------------------------------------------\n",
      "Link: https://federalnewsnetwork.com/retirement/2025/01/biden-signs-social-security-fairness-act-into-law/\n",
      "Source: Federal News Network\n",
      "--------------------------------------------------\n",
      "Link: https://time.com/7204861/social-security-fairness-act-joe-biden/\n",
      "Source: Time Magazine\n",
      "--------------------------------------------------\n",
      "Link: https://www.usatoday.com/story/money/2025/01/05/president-joe-biden-social-security-fairness-act/77477832007/\n",
      "Source: USA Today\n",
      "--------------------------------------------------\n",
      "Link: https://www.nbcnews.com/business/business-news/biden-blocks-japans-nippon-steel-acquiring-us-steel-rcna186073\n",
      "Source: NBC News\n",
      "--------------------------------------------------\n",
      "Link: https://thehill.com/homenews/administration/5068237-biden-signs-social-security-bill-says-american-retirees-deserve-economic-security-and-dignity/\n",
      "Source: The Hill\n",
      "--------------------------------------------------\n",
      "Link: https://www.nytimes.com/2025/01/04/us/politics/biden-medals-freedom.html\n",
      "Source: The New York Times\n",
      "--------------------------------------------------\n",
      "Link: https://www.livenowfox.com/news/social-security-fairness-act-january-payments-biden-sign-bill\n",
      "Source: LiveNOW from FOX\n",
      "--------------------------------------------------\n"
     ]
    }
   ],
   "source": [
    "for item in results['news']:\n",
    "    print(f\"Link: {item['link']}\")\n",
    "    print(f\"Source: {item['source']}\")\n",
    "    print(\"-\" * 50)"
   ]
  },
  {
   "cell_type": "code",
   "execution_count": 25,
   "id": "e34fcf04-359e-4070-a984-b86aa3dd1491",
   "metadata": {},
   "outputs": [],
   "source": [
    "from trafilatura import fetch_url\n",
    "url1 = 'https://www.bbc.com/news/articles/ced961egp65o'\n",
    "document = fetch_url(url1)"
   ]
  },
  {
   "cell_type": "code",
   "execution_count": 26,
   "id": "8fa7b18e-1311-4530-8604-08aec71cdea7",
   "metadata": {},
   "outputs": [
    {
     "name": "stdout",
     "output_type": "stream",
     "text": [
      "What Trump could do on day one in the White House\n",
      "Donald Trump and his Republican Party have an ambitious agenda and control of US Congress.\n",
      "Trump has said he will \"make heads spin\" as he moves full-speed ahead after his inauguration on 20 January.\n",
      "His team has said to expect a flurry of executive orders - directives from the US president - out of the Oval Office in the first week.\n",
      "Policy experts and lawyers are already drafting those orders as part of the administration's transition.\n",
      "Still, advocacy groups and Democratic state governors have vowed to challenge at least some of those plans.\n",
      "Here is what the president-elect has said about his second-term priorities.\n",
      "Immigration and the border\n",
      "Trump press secretary Karoline Leavitt told Fox News on Sunday \"we know he promised to sign an executive order to secure the southern border\".\n",
      "\"We know that on day one he is going to launch the largest mass deportation of illegal immigrants in American history,\" she said.\n",
      "In the week since his re-election, Trump has prioritised filling leadership positions that would oversee immigration, suggesting he is preparing to tackle his plans for border policy early.\n",
      "He tapped veteran immigration official Tom Homan as his \"border tsar\"; selected South Dakota Governor Kristi Noem to oversee homeland security; and appointed Steven Miller as White House deputy chief of staff for policy. Mr Miller is best known for shaping some of Trump's most restrictive policies on illegal immigration during his first term.\n",
      "Any mass deportation programme could face logistical difficulties as well as a flurry of legal challenges from immigration and human rights activists.\n",
      "Trump could also re-implement his \"Remain in Mexico\" policy that required asylum seekers to wait in Mexico while claims are processed.\n",
      "President Joe Biden had called the programme \"inhumane\" and tried to end it on his first day in office, but faced legal challenges. In 2022, the Supreme Court allowed him to move ahead.\n",
      "During the Trump administration, about 70,000 asylum seekers were returned to Mexico to wait for their hearings.\n",
      "Another day one promise was to end birthright citizenship - the 150-year-old principle that says anyone born on US soil is an American citizen.\n",
      "\"We're going to end that because it's ridiculous,\" Trump told NBC News anchor Kristen Welker on Meet the Press in December.\n",
      "But it's not clear how Trump plans to achieve this policy. He has pledged an executive order but birthright citizenship is explicitly guaranteed by the US Constitution, meaning it can only be altered under specific circumstances.\n",
      "He would need states to agree to a national convention or a two-thirds vote in favour in the narrowly split Congress to propose a change, then subsequent approval by three-fourths of state legislatures - of which Republicans control just over half.\n",
      "6 January\n",
      "Trump did not mention pardons in his victory speech, but he has long suggested that pardoning those convicted of storming the Capitol in 2021 would be a priority.\n",
      "Asked by Ms Welker on Meet the Press, Trump said he \"most likely\" would issue pardons.\n",
      "\"I'll do it very quickly,\" he said, calling the convictions \"unfair\".\n",
      "US presidents have wide authority to forgive people convicted of federal crimes or end their prison sentences. Prosecutors may also decide to drop pending cases depending on who Trump might choose to pardon.\n",
      "What's less clear is who might get a pardon.\n",
      "At one point, Trump told CNN: \"I am inclined to pardon many of them. I can't say for every single one, because a couple of them, probably they got out of control.\"\n",
      "Ms Leavitt told the Washington Post that he will decide “on a case-by-case basis when he is back in the White House”.\n",
      "More than 1,500 people were arrested in connection with the Capitol riot. According to federal numbers, more than 750 of them were sentenced for crimes ranging from trespassing to assaulting police officers and seditious conspiracy.\n",
      "Jack Smith\n",
      "Trump has also faced his own legal challenges over his actions following the 2020 election and a separate classified documents case.\n",
      "Special Counsel Jack Smith, a veteran prosecutor appointed to oversee the US Department of Justice's investigations into Trump, filed charges, to which the president-elect has pleaded not guilty.\n",
      "This week, sources told CBS News that Mr Smith plans to resign before Trump takes office and avoid Trump's promises to fire him. The BBC's US media partner also reported that his office would wind down the two cases it was pursuing against Trump.\n",
      "It remains unclear whether Trump and his supporters will still try to punish Mr Smith. Congressional Republicans have reportedly implied they intend to investigate his work.\n",
      "\"Jack Smith’s abuse of the justice system cannot go unpunished\", billionaire and Trump ally Elon Musk posted on social media.\n",
      "Trump regularly railed against the special counsel in interviews and online, calling him a \"crooked person\", a \"scoundrel\" and other insults.\n",
      "Smith's cases were already facing an uncertain future. The Supreme Court ruled in July that presidents have partial immunity from criminal prosecution for their conduct in office, undermining Mr Smith's work.\n",
      "Trump's electoral win also gives him the power to pardon himself of any federal crimes, though no president has done so before.\n",
      "Paris climate agreement\n",
      "In his 2016 campaign, Trump made withdrawing from the Paris climate agreement a priority. Within six months of taking office, the United States moved to exit the landmark deal.\n",
      "President Joe Biden made rejoining the agreement one of his top priorities when he ran against Trump in 2020. Biden signed a letter requesting the US be readmitted on his first day in office.\n",
      "How will Trump respond in his second term? Media reports suggest that his team is preparing orders to withdraw once again when he takes office in January.\n",
      "Leaving the agreement would mean the US is no longer beholden to meeting set carbon emissions reductions.\n",
      "Among other priorities at odds with the Paris standards, Trump has said he wants to prioritise US production of oil and gas. He promised to quickly expedite permitting and fracking - \"We’re drilling, drilling, drilling,\" he told Fox News host Sean Hannity last year.\n",
      "Trump has also criticised the Biden administration's plans to expand wind energy and increase electric car production, which could be early targets in his new administration.\n",
      "Russia and Ukraine\n",
      "On the campaign trail, Trump said he could end the war in Ukraine \"in a day\". He has also repeatedly criticised the US government's continued support of Ukraine, casting the war as a drain on resources.\n",
      "He has not yet given specifics on how he would negotiate the war's end beyond saying he would help the two countries strike a deal.\n",
      "Since his re-election, Trump has spoken to Ukrainian President Volodymyr Zelensky in a call that lasted \"about half an hour\", with billionaire Elon Musk also taking part. A source told the BBC that \"it was not really a conversation to talk about very substantial things\".\n",
      "The Kremlin denied that Trump held a call with Vladimir Putin, though media reports said Trump warned the Russian president against escalating the war in Ukraine.\n",
      "Trade and economy\n",
      "The economy is an issue that Trump heavily campaigned on, vowing to end inflation as soon as he takes office.\n",
      "“We will target everything from car affordability to housing affordability to insurance costs to supply chain issues,” Trump has said.\n",
      "“I will instruct my cabinet that I expect results within the first 100 days, or much sooner than that.”\n",
      "He said he would sign an executive order that directs every cabinet secretary and agency head to “use every tool and authority at their disposal” to defeat inflation and to bring consumer prices down.\n",
      "Trump’s plan includes imposing tariffs on imported goods, especially those coming in from China, arguing that these taxes would keep manufacturing jobs in the US.\n",
      "\"I'm a big believer in tariffs. I think tariffs are the most beautiful word. I think they're beautiful. It's going to make us rich,\" the Republican said on Meet the Press.\n",
      "It’s still unclear how widespread these tariffs will be, but Trump has raised the prospect of at least a 10% across-the-board tariff on imported goods, as well as a 60% import tax on goods from China.\n",
      "He also vowed to target Canada and Mexico with his tariffs.\n",
      "“I’m going to inform (the Mexican president) on Day 1 or sooner that if they don’t stop this onslaught of criminals and drugs coming into our country, I’m going to immediately impose a 25% tariff on everything they send into the US,” he has said.\n",
      "In December, Canadian Prime Minister Justin Trudeau made a last-minute trip to visit Trump at Mar-a-Lago, reportedly seeking to head-off what would be a punishing tax on Canadian goods.\n",
      "These tariffs would probably not need congressional approval.\n",
      "Trump already introduced tariffs in his first term, citing Section 232 of the Trade Expansion Act of 1962, which empowers a president to impose duties on goods that could affect US national security.\n",
      "Another promise is to “end the Biden-Harris war on American energy”, Trump has said, vowing to ramp up oil drilling and fracking as a way to lower the cost of energy bills for consumers.\n",
      "Trump can do this with an executive order that rolls back environmental protections, which would allow him to halt clean energy projects and scrap climate targets set by the Biden administration.\n",
      "The president-elect has also vowed to fire Gary Gensler, the chairman of the Securities and Exchange Commission, on day one. Gensler, who was appointed by Biden, pushed for climate disclosure rules and strong enforcement of the cryptocurrency market.\n",
      "Trump has championed cryptocurrency, and his election saw the value of Bitcoin go up by 30% in a week due to an expectation that his administration will be more crypto-friendly.\n",
      "Title X\n",
      "Donald Trump has vowed to undo the changes made by President Biden to Title X, the country’s only national, federally-funded family planning programme.\n",
      "In 2019, during his first term, Trump’s administration implemented a new rule that prohibited any health provider in the Title X network from mentioning abortion to patients, even if a patient raised questions about it themselves.\n",
      "The change effectively stripped tens of millions of dollars from organisations such as Planned Parenthood that offer or refer patients for abortions.\n",
      "But just months later, when Biden took office, he had that policy reversed.\n",
      "Now, it’s expected that Trump will change the rules again.\n"
     ]
    }
   ],
   "source": [
    "from trafilatura import extract\n",
    "\n",
    "text1 = extract(document)\n",
    "print(text1)"
   ]
  },
  {
   "cell_type": "code",
   "execution_count": 15,
   "id": "52919665-0c6b-4233-93a5-ff2bfcb2b68d",
   "metadata": {},
   "outputs": [
    {
     "name": "stdout",
     "output_type": "stream",
     "text": [
      "How Trump and Musk's interventions prompt fresh diplomatic challengeReutersIn Donald Trump's first term, governments around the world braced for his morning social media posts. What policy would be reversed, what insult thrown? Four years on, diplomats are once more getting twitchy when the sun rises on America's east coast.Back then, they learned to take Trump - as the adage had it - \"seriously but not literally\". Despite many campaign promises, he did not take the US out of Nato or lock up Hilary Clinton. But can ministers stay so sanguine a second time around?Trump's latest morning salvo criticised the UK government's decision to increase taxes on oil and gas firms working in the North Sea, in part to help fund renewable energy.On his platform, Truth Social, Trump responded to a report about a US oil firm leaving the region, saying: \"The U.K. is making a very big mistake. Open up the North Sea. Get rid of Windmills!\"Was this merely a familiar defence of a US firm by Trump and a repetition of his pro-fossil fuel instincts? Or was it evidence of a greater willingness by the president-elect to intervene in an ally's own domestic policies?The main difference - four years on - is that Trump is no longer alone at the keyboard; his increasingly powerful fellow traveller, Elon Musk, is even more prolific, using his own platform, X, to attack the British government across the board. He has criticised its handling of last summer's riots, the running of the economy and now especially its attitude towards child abuse scandals.Musk has issued a torrent of tweets attacking Sir Keir Starmer personally, accusing the prime minister of not doing enough to prosecute child grooming gangs while he was the director of public prosecutions.British politicians cannot stem these posts from across the Atlantic. But they can control their reaction. During Trump's first term, governments - and news desks - learned to pause and take a moment before responding to - or reporting - the latest electronic missives from the White House.Thus far the Conservatives have chosen to engage with and echo Musk's agenda. The party leader, Kemi Badenoch, said a full national inquiry into organised grooming gangs was \"long overdue\".PA MediaMusk has voiced support for the jailed far-right activist Stephen Yaxley-Lennon, also known as Tommy RobinsonBut the Conservatives balked at Musk's apparent support for the jailed far-right activist Stephen Yaxley-Lennon, also known as Tommy Robinson. Musk has shared several posts on X calling for the release of Yaxley-Lennon, who was jailed in October after admitting contempt of court by repeating false claims against a Syrian refugee.Alicia Kearns, the Conservative shadow safeguarding minister, said it was \"frankly dangerous\" of Musk to be \"lionising people like Tommy Robinson\".As for Labour, it seems keen to avoid picking a fight with one of the world's richest men who could one day fund a rival political party. Nigel Farage's Reform Party has said Musk is among \"a number of billionaires\" interested in donating money for their campaigns.Health Secretary Wes Streeting said Musk's comments about child grooming scandals were \"misjudged and certainly misinformed\" but asked the billionaire to work with the UK government to tackle online child abuse.UK politicians are not alone in being the target of Musk's increasingly eccentric interventions. He has described Chancellor Olaf Scholz of Germany as a \"fool\" and the country's head of state, President Frank-Walter Steinmeier, as \"an anti-democratic tyrant\". He has also called Prime Minister Justin Trudeau of Canada \"an insufferable tool\" who \"won't be in power for much longer\".Monitoring closelySo the challenge once again for politicians in Britain and around the world is to work out which, if any, of these social media outbursts and interventions merit a response.In Whitehall, there is some hope the arrival of Lord Mandelson as the new British ambassador might help stem the flow of personal vituperation across the Atlantic. There is also weight being placed on Trump's affection for the UK and the Royal Family; he had a good meeting with the Prince of Wales in Paris in December after the opening of Notre Dame. Other officials are even musing that the relationship between Trump and Musk might prove too combustible in office.But for now officials are monitoring their timelines closely. US social media diplomacy is back and some of it is heading our way.See alsoWhy 2025 promises plenty of political fireworksElon Musk's 'social experiment on humanity': How X evolved in 2024Why 2024 was Prince William's 'annus horribilis'Kemi BadenochElon MuskKeir StarmerTommy RobinsonDonald TrumpDiplomacy\n"
     ]
    }
   ],
   "source": [
    "from trafilatura import baseline\n",
    "\n",
    "lxml_object, text, length = baseline(downloaded)\n",
    "print(text)"
   ]
  },
  {
   "cell_type": "code",
   "execution_count": 21,
   "id": "9ac9d308-f4a8-461e-be1b-34489ff2d486",
   "metadata": {},
   "outputs": [
    {
     "name": "stdout",
     "output_type": "stream",
     "text": [
      "<trafilatura.settings.Document object at 0x000002210E0279F0>\n"
     ]
    }
   ],
   "source": [
    "from trafilatura import extract_metadata\n",
    "\n",
    "print(extract_metadata(document))"
   ]
  },
  {
   "cell_type": "code",
   "execution_count": 16,
   "id": "568263d3-667d-4e0a-8849-39c4bf98aeab",
   "metadata": {},
   "outputs": [
    {
     "name": "stdout",
     "output_type": "stream",
     "text": [
      "4708\n"
     ]
    }
   ],
   "source": [
    "print(length)"
   ]
  },
  {
   "cell_type": "code",
   "execution_count": 71,
   "id": "fd57c1d9-f079-4d68-8420-565d84e052cc",
   "metadata": {},
   "outputs": [],
   "source": [
    "from langchain_community.tools import TavilySearchResults\n",
    "\n",
    "tool = TavilySearchResults(\n",
    "    max_results=4,\n",
    "    search_depth=\"advanced\",\n",
    "    include_answer=True,\n",
    "    include_raw_content=True,\n",
    "    include_images=False,\n",
    "    include_domains=['https://www.breitbart.com/news', 'https://www.foxnews.com', 'https://www.nytimes.com/', \n",
    "                     'https://www.washingtonpost.com', 'https://www.cnbc.com/world', 'https://www.wsj.com',\n",
    "                    'https://edition.cnn.com/', 'https://www.bbc.com/news/us-canada'],\n",
    "    # exclude_domains=[...],\n",
    "    # name=\"...\",            # overwrite default tool name\n",
    "    # description=\"...\",     # overwrite default tool description\n",
    "    # args_schema=...,       # overwrite default args_schema: BaseModel\n",
    ")"
   ]
  },
  {
   "cell_type": "code",
   "execution_count": 72,
   "id": "4993cf4f-dc97-463e-ab54-66b54181c67d",
   "metadata": {},
   "outputs": [
    {
     "data": {
      "text/plain": [
       "[{'url': 'https://www.washingtonpost.com/opinions/2025/01/05/president-biden-jan-6-democracy/',\n",
       "  'content': 'Joe Biden: What Americans should remember about Jan. 6 Four years ago, our democracy was put to the test — and prevailed. January 5, 2025 at 9:00 p.m. EST Just now'},\n",
       " {'url': 'https://www.foxnews.com/category/person/joe-biden',\n",
       "  'content': \"Joe Biden News, Articles & Updates | President Joseph Biden on Fox News | Fox News Fox News Media Fox News Media Fox News Market data provided by Factset. Fox News correspondent Lucas Tomlinson explains what went down with President Biden during a White House event Sunday on ‘Fox Report.’ FOX Business' Liz Claman and Reason Magazine senior editor Robby Soave join 'Mediabuzz' to discuss the media's coverage of Biden's cognitive decline and supposed friction between President-elect Donald Trump and Elon Musk. The 'Fox News Sunday' panel discusses their reaction to President Biden's picks for the Medal of Freedom and why he is facing scrutiny for blocking a $14-billion steel deal with a Japanese company. Market data provided by Factset.\"},\n",
       " {'url': 'https://www.foxnews.com/',\n",
       "  'content': \"Here's how we start\\nBefore there was Veterans Day, there was Armistice Day\\nOn this day in history, November 11, 1921, Tomb of Unknown Soldier is dedicated at Arlington National Cemetery\\nMilitary\\nIsrael's use of AI in Hamas war can help limit collateral damage 'if executed properly,' expert says\\nBrothels that allegedly hosted political, military leaders raked in 'astounding' amounts of money: prosecutors\\nIndiana WWII soldier's remains identified after nearly 80 years\\nIran celebrates new hypersonic missile amid new threats by its proxies against US, allies\\nEntertainment\\n‘Golden Bachelor’ star details ‘first-ever’ STD test to qualify for show: ‘A little bit of a tender moment’\\nParis Hilton's Thanksgiving surprise: star welcomes baby girl less than a year after arrival of son\\nBruce Willis holds family tight during Thanksgiving while battling dementia\\nBrigitte Nielsen 'never' thinks about ex Sylvester Stallone: 'What was his name again?'\\nSports\\nDolphins' Jevon Holland rips stadium's 'trash' turf after Jaelan Phillips suffered apparent Achilles injury\\nAngel Reese's absence continues; star forward misses third straight LSU game\\nBartolo Colon, Robinson Cano among several former MLB stars to play in Dubai baseball league's first contest\\nDolphins' Jevon Holland closes out first half of Black Friday game with 99-yard pick-six\\nU.S.\\nFlight descends into chaos when 'possessed' woman begins screaming, jumping over seats: 'There's a real devil'\\nDerek Chauvin stabbed by inmate in federal prison, seriously injured: report\\nPhiladelphia warehouse worker dies after falling down elevator shaft: police\\nTexas cheer coach, mother to 3 kids, allegedly killed by boyfriend: 'Truly be missed'\\nFamily\\nBruce Willis holds family tight during Thanksgiving while battling dementia\\nGratitude's gifts go well beyond Thanksgiving: 'Greater motivator than worry or fear'\\nSen Marsha Blackburn on Thanksgiving blessings, including family, food, country: 'Time to express gratitude'\\nYoung Americans are skipping family gatherings to avoid political disagreements: Survey\\nPersonal Finance\\n5 ways to save money and boost your income this Black Friday\\nFlorida mom proves families on a tight budget can cook healthy meals\\nWarren Buffett donates Thanksgiving millions, praises USA\\nThis week's personal loan rates rise for 3- and 5-year loans\\nTechnology\\nStep into this pod that uses AI to diagnose and treat you in minutes\\nBeware of these 5 holiday scams\\nHow to remove unwanted photos invading your Facebook page\\nHow to take great family photos and include yourself in them\\nMovies\\nMarrakech kicks off film festival in the shadow of war in the Middle East\\nBruce Willis holds family tight during Thanksgiving while battling dementia\\nA new 'Karate Kid’ film is in the works: Here is a look back at the franchise's movies and spinoffs\\nDanica McKellar shares how husband is 'everything I ever dreamed of'\\nBusiness\\nBlack Friday, holiday shopping season off to a strong start\\nRoomba parent shares surge as Amazon deal nears: report\\nElon Musk to visit Israel, meet Netanyahu amid antisemitism claims: report\\nElon Musk’s social-media comments spark Tesla investor backlash\\nFaith & Values\\nGratitude's gifts go well beyond Thanksgiving: 'Greater motivator than worry or fear'\\nBe thankful for problems: There are good reasons you should\\n5 things to be grateful for even when the world is falling apart\\nPresident Lincoln's Thanksgiving proclamation proved the power of gratitude when life gives us hardship\\nAutos\\nHow rare earth elements factor into the clean energy transition\\nNew Jersey banning sale of new gasoline-powered vehicles by 2035\\nFord dramatically scales back EV plant amid plummeting sales in blow to Biden's green energy goals\\nMaryland students fatally struck by van on way to school identified: police\\nTravel + Outdoors\\nFlight descends into chaos when 'possessed' woman begins screaming, jumping over seats: 'There's a real devil'\\nAngel Reese's absence continues; star forward misses third straight LSU game\\nVenice rolls out day-tripper fee to try to regulate mass crowds on peak weekends\\n Thanksgiving clickjacking threat in popular browsers\\n5 things to be grateful for even when the world is falling apart\\nWorld\\nRace to rescue 41 Indian workers trapped inside tunnel is delayed again\\nHamas releases 13 Israeli hostages, 11 others as cease-fire holds\\n34 arrested in Ireland riots after child is stabbed in Dublin\\nProtesters target AIPAC president's home with 'baby killer' accusations, red paint\\nOpinion\\nTeam Biden's war on cigarettes will only end in tears\\nThis Black Friday, be a financially smart consumer and reap real rewards\\nBe thankful for problems: There are good reasons you should\\nHere's why every American should be talking about politics and religion on Thanksgiving\\nHealth\\nTaking selfies is now considered a 'public health problem,' requires 'safety messaging,' say researchers\\nExperimental weight loss drug could help treat fatty liver disease in people with obesity, study finds\\nColorado cardiac nurse, after three heart attacks, offers survival tips: ‘Listen to your gut’\\nIllinois virus outbreak linked to dollar burrito event for Northwestern University students\\nCrime\\nFlight descends into chaos when 'possessed' woman begins screaming, jumping over seats: 'There's a real devil'\\nDerek Chauvin stabbed by inmate in federal prison, seriously injured: report\\nSuspect dead after officer-involved shooting outside Salem, Oregon\\nTexas cheer coach, mother to 3 kids, allegedly killed by boyfriend: 'Truly be missed'\\nAmerica Together\\n5 things to be grateful for even when the world is falling apart\\nIt’s time to revive the American spirit. Taking selfies is now considered a 'public health problem,' requires 'safety messaging,' say researchers\\nMusic\\nThank Taylor Swift this year for bringing jobs and joy, WSJ columnist says: 'Person of the Year'\\nTony Bennett's daughter prepares for first Thanksgiving since his death: 'Never look back'\\nBarry Williams, Danica McKellar share their plans for Thanksgiving: 'I need a minute to reset'\\nAxl Rose accused of violent sexual assault by former model in 1989: lawsuit\\nFood + Drink\\nAir fryer turkey dinner for 2: Try the recipe\\nSimplify your Thanksgiving spread with these 1-pan side dish delights\\nHow to make a spooky Halloween charcuterie board complete with prop skull\\nKing’s Hawaiian 'Slider Sunday' recipes are perfect for the whole family\\nFOX Weather\\nSnowstorm, bitter blast of cold air expected to slow Thanksgiving return travel through Rockies, Plains\\nTropics to begin cooling down as end of hurricane season nears\\nPost-Thanksgiving travel timeline: Where weather across the US could impact flights, roads through the weekend\\nIceland volcanic activity continues to wane, reducing Grindavik eruption threat\\nGood News\\nArizona grandma and man she mistakenly texted in 2016 host 8th Thanksgiving with new stranger\\nGratitude's gifts go well beyond Thanksgiving: 'Greater motivator than worry or fear'\\nTim Tebow and Demi-Leigh Tebow share Thanksgiving message of gratitude, plus new charity partnership\\nSen Marsha Blackburn on Thanksgiving blessings, including family, food, country: 'Time to express gratitude'\\nFull Episodes\\nOutnumbered - Friday, November 24\\nThe Ingraham Angle - Thursday, November 23\\nGutfeld! - Derek Chauvin, ex-cop convicted of killing George Floyd, reportedly stabbed in federal facility\\nBiden’s Dem challenger goes all-in on campaign for ’24 nod — and stakes career on winning\\n13 Israelis taken hostage by Hamas, including 2-year-old, are released in first part of deal\\nVP Harris immediately hit with backlash on social media over Thanksgiving photo post\\n4 big-box stores offering the best discounts on Black Friday — and through the holidays\\nWATCH: Jets player booted from game after hitting referee as frustrations boil over\\nBBC reportedly sends staff instructions about major march against antisemitism\\nWATCH: Flight descends into chaos when ‘possessed’ woman goes on rampage\\nNBA star reportedly under investigation over alleged relationship with minor\\nBruce Willis holds family tight over the holidays as health battle takes toll\\nFox News Channel\\nPay TV Login Required\\nFox Business Channel\\nPay TV Login Required\\nFox Nation\\nSubscription Required\\nFOX Weather\\nFree to Watch\\nFox Radio\\nFree to Listen\\nLSU women's basketball team evacuates gym because of fire alarm\\nWatch Who is Hamas? Former college president slams administrators for allowing antisemitism to only get worse\\nNFL team reacts quickly to blowout Thanksgiving Day loss\\n77-year-old icon's outfit for Cowboys halftime show sparks wild reactions online\\nAnti-Israel protesters disrupt Black Friday shopping to call for Palestinian uprising\\nColorado ski resort jumps to number one on list of best places to hit the slopes\\n'Special Report' spotlight: China adds massive amounts to oil inventories\\nCities plagued by migrant crisis taking drastic steps to deter overflow\\nSylvester Stallone’s ex-wife dishes on their rocky romance that led to divorce\\nOscar winner suffers eye-popping wardrobe malfunction during ritzy event speech\\nTHANKSGIVING FOOD\\nThanksgiving leftovers: Turkey cranberry sliders that are 'savory' and 'tart'\\nThanksgiving meals will yield plenty of leftovers, so how do you store them safely?\\nCelebrity chef reveals best way to use those Thanksgiving leftovers\\nWoman preps Christmas dinner months in advance for free\\nResearchers sound the alarm on taking selfies, consider it a ‘public health concern’\\n\"},\n",
       " {'url': 'https://www.washingtonpost.com/politics/2025/01/05/biden-trump-jan-6/',\n",
       "  'content': 'Biden urges Americans not to rewrite, or forget, Jan. 6, 2021 The president sought to contrast the peaceful transfer of power this year with what happened in 2021. January 5, 2025 at 9:44 p.m. EST'}]"
      ]
     },
     "execution_count": 72,
     "metadata": {},
     "output_type": "execute_result"
    }
   ],
   "source": [
    "results2 = tool.invoke({\"query\": \"latest news about Biden  06 January 2025.\"})\n",
    "results2"
   ]
  },
  {
   "cell_type": "code",
   "execution_count": 52,
   "id": "b46ca79c-39c4-4942-b22f-8fdea2bfafff",
   "metadata": {},
   "outputs": [
    {
     "name": "stdout",
     "output_type": "stream",
     "text": [
      "https://www.nytimes.com/spotlight/joe-biden\n",
      "https://www.foxnews.com/category/person/joe-biden\n",
      "https://www.nytimes.com/2024/07/17/us/politics/biden-covid-positive.html\n",
      "https://www.nytimes.com/live/2024/07/06/us/biden-trump-election\n",
      "https://www.nytimes.com/2024/07/03/us/politics/biden-withdraw-election-debate.html\n",
      "https://www.washingtonpost.com/elections/2024/07/19/election-2024-biden-trump-campaign-updates/\n",
      "https://www.nytimes.com/2025/01/04/us/politics/biden-medals-freedom.html\n",
      "https://www.nytimes.com/2024/07/11/us/politics/biden-high-stakes-news-conference.html\n"
     ]
    }
   ],
   "source": [
    "urls =[]\n",
    "for item in results2:\n",
    "    print(item['url'])\n",
    "    urls.append(item['url'])\n",
    "    "
   ]
  },
  {
   "cell_type": "code",
   "execution_count": 53,
   "id": "d3462179-b5d6-4e94-a54e-75a4ab9f95f2",
   "metadata": {},
   "outputs": [
    {
     "data": {
      "text/plain": [
       "['https://www.nytimes.com/spotlight/joe-biden',\n",
       " 'https://www.foxnews.com/category/person/joe-biden',\n",
       " 'https://www.nytimes.com/2024/07/17/us/politics/biden-covid-positive.html',\n",
       " 'https://www.nytimes.com/live/2024/07/06/us/biden-trump-election',\n",
       " 'https://www.nytimes.com/2024/07/03/us/politics/biden-withdraw-election-debate.html',\n",
       " 'https://www.washingtonpost.com/elections/2024/07/19/election-2024-biden-trump-campaign-updates/',\n",
       " 'https://www.nytimes.com/2025/01/04/us/politics/biden-medals-freedom.html',\n",
       " 'https://www.nytimes.com/2024/07/11/us/politics/biden-high-stakes-news-conference.html']"
      ]
     },
     "execution_count": 53,
     "metadata": {},
     "output_type": "execute_result"
    }
   ],
   "source": [
    "urls"
   ]
  },
  {
   "cell_type": "code",
   "execution_count": 1,
   "id": "f1bfe57a-3609-4e40-accc-3188a3331d0d",
   "metadata": {},
   "outputs": [
    {
     "name": "stderr",
     "output_type": "stream",
     "text": [
      "USER_AGENT environment variable not set, consider setting it to identify your requests.\n"
     ]
    },
    {
     "name": "stdout",
     "output_type": "stream",
     "text": [
      "\n",
      "\n",
      "\n",
      "\n",
      "\n",
      " \n",
      "\n",
      "\n",
      "\n",
      "ISW: українські сили досягли тактичних успіхів під час наступальних операцій в Курській об\n",
      "{'source': 'https://www.radiosvoboda.org/a/news-kursk-nastupalna-operatsiya-uspikhy/33265813.html', 'title': 'ISW: українські сили досягли\\xa0тактичних успіхів\\xa0під час\\xa0наступальних операцій в Курській області РФ', 'description': 'ЗСУ просунулися вперед на північний схід від Суджі', 'language': 'uk'}\n"
     ]
    }
   ],
   "source": [
    "import nest_asyncio\n",
    "from langchain.document_loaders import WebBaseLoader\n",
    "\n",
    "# Дозволяємо запуск асинхронного коду в Jupyter\n",
    "nest_asyncio.apply()\n",
    "\n",
    "# URL сторінки\n",
    "page_url = \"https://www.radiosvoboda.org/a/news-kursk-nastupalna-operatsiya-uspikhy/33265813.html\"\n",
    "\n",
    "# Ініціалізація WebBaseLoader\n",
    "#loader = WebBaseLoader(web_paths=[page_url,])\n",
    "loader = WebBaseLoader([page_url])\n",
    "docs = []\n",
    "async for doc in loader.alazy_load():\n",
    "    docs.append(doc)\n",
    "\n",
    "    \n",
    "print(docs[0].page_content[:100])\n",
    "print(docs[0].metadata)\n"
   ]
  },
  {
   "cell_type": "code",
   "execution_count": 85,
   "id": "8ca9932e-51fd-494e-8fcd-c27e9f75c555",
   "metadata": {},
   "outputs": [],
   "source": [
    "from langchain_community.tools import BraveSearch\n",
    "api_key = \"********************"
   ]
  },
  {
   "cell_type": "code",
   "execution_count": 96,
   "id": "c4ed8a8a-b2a3-4628-9cff-3bab720f378c",
   "metadata": {},
   "outputs": [],
   "source": [
    "tool = BraveSearch.from_api_key(api_key=api_key, search_kwargs={\"count\": 5})"
   ]
  },
  {
   "cell_type": "code",
   "execution_count": 101,
   "id": "f2a9f8b0-1c97-475d-8f8e-adf1dd6502e3",
   "metadata": {},
   "outputs": [],
   "source": [
    "brave=tool.run(\"last aconomic news in USA\")\n"
   ]
  },
  {
   "cell_type": "code",
   "execution_count": 102,
   "id": "84bfd516-886d-4f67-9827-ff4612d5eb94",
   "metadata": {},
   "outputs": [
    {
     "name": "stdout",
     "output_type": "stream",
     "text": [
      "[{\"title\": \"Economic News\", \"link\": \"https://www.cnbc.com/economy/\", \"snippet\": \"Find the latest <strong>economic</strong> <strong>news</strong>, current events and headlines, as well as blogs and video from CNBC.com.\"}, {\"title\": \"US Economy Surprised Again in 2024 Despite Fed, Election Drama - Bloomberg\", \"link\": \"https://www.bloomberg.com/news/articles/2024-12-29/us-economy-surprised-again-in-2024-despite-fed-election-drama\", \"snippet\": \"Over the <strong>last</strong> few years, the US economy has consistently defied expectations for a slowdown, and 2024 was no different.\"}, {\"title\": \"Commerce Data Show Strong Economic Gains Due to Americans Making and Spending More | U.S. Department of Commerce\", \"link\": \"https://www.commerce.gov/news/blog/2024/11/commerce-data-show-strong-economic-gains-due-americans-making-and-spending-more\", \"snippet\": \"Share sensitive information only on official, secure websites. ... The U.S. Commerce Department\\u2019s Bureau of Economic Analysis (BEA) reported last week that <strong>real gross domestic product (GDP) increased at an annual rate of 2.8 percent in the third quarter of 2024</strong>.\"}, {\"title\": \"Economic News - MarketWatch\", \"link\": \"https://www.marketwatch.com/economy-politics\", \"snippet\": \"Latest <strong>news</strong> and insight about the impact of current events on our economy from MarketWatch.\"}, {\"title\": \"United States Economy\", \"link\": \"https://www.cnbc.com/us-economy/\", \"snippet\": \"USA \\u00b7 INTL \\u00b7 Livestream \\u00b7 Search ... Experts say high food prices are here to stay. Here&#x27;s why \\u00b7 Juhohn Leean hour ago \\u00b7 <strong>Treasury yields rise as investors weigh economic outlook for 2025</strong> \\u00b7...\"}]\n"
     ]
    }
   ],
   "source": [
    "print(brave)"
   ]
  },
  {
   "cell_type": "code",
   "execution_count": 69,
   "id": "b1f7e5e6-f8e1-4260-96e3-2b413e9dd314",
   "metadata": {},
   "outputs": [
    {
     "name": "stdout",
     "output_type": "stream",
     "text": [
      "Успішно отримано контент:\n",
      "Biden to Visit New Orleans Monday and Mourn with Grieving Families\n",
      "Mr. Biden’s trip to New Orleans, his latest as “consoler in chief,” joins a lengthy history of presidential visits to a city that has\n",
      "Успішно отримано контент:\n",
      "VIDEO 1 hour ago Biden issues 'sweeping ban' on oil, gas drilling ahead of Trump administration: 'Not worth the risks' FOX Business host Taylor Riggs joined 'Fox & Friends First' to discuss how the mo\n",
      "Успішно отримано контент:\n",
      "Biden Tests Positive for Covid\n",
      "President Biden will “self-isolate and will continue to carry out all of his duties fully during that time,” a White House spokeswoman said.\n",
      "Reporting from Washington\n",
      "Fo\n",
      "Успішно отримано контент:\n",
      "Biden Faces New Calls From Democrats to Step Aside After Interview\n",
      "President Biden will campaign in Pennsylvania on Sunday, his second trip to a battleground state in recent days as part of a crucible\n",
      "Успішно отримано контент:\n",
      "Biden Tells Allies He Knows He Has Only Days to Salvage Candidacy\n",
      "The president’s conversations are the first indication that he is seriously considering whether he can recover after a devastating deb\n",
      "Request Error:  for https://www.washingtonpost.com/elections/2024/07/19/election-2024-biden-trump-campaign-updates/\n",
      "Не вдалося отримати контент\n",
      "Успішно отримано контент:\n",
      "Supported by\n",
      "Biden Awards 18 Medals of Freedom, and Delivers One Unmistakable Message\n",
      "With a recipient list stocked with old-guard icons and political backers, the president signaled support for the e\n",
      "Успішно отримано контент:\n",
      "Supported by\n",
      "In News Conference, Biden Has Slips but Shows Strength on Foreign Policy\n",
      "In a nearly hourlong appearance, President Biden hit back at questions about his fitness for office and engaged in\n",
      "Отримано 8 результатів\n"
     ]
    }
   ],
   "source": [
    "import nest_asyncio\n",
    "import httpx\n",
    "from fake_useragent import UserAgent\n",
    "import asyncio\n",
    "from typing import Optional\n",
    "import trafilatura\n",
    "\n",
    "class AsyncScraper:\n",
    "    def __init__(self):\n",
    "        self.ua = UserAgent()\n",
    "        nest_asyncio.apply()\n",
    "    \n",
    "    def get_headers(self) -> dict:\n",
    "        \"\"\"Генерує заголовки для запиту\"\"\"\n",
    "        return {\n",
    "            'User-Agent': self.ua.random,\n",
    "            'Accept': 'text/html,application/xhtml+xml,application/xml;q=0.9,*/*;q=0.8',\n",
    "            'Accept-Language': 'en-US,en;q=0.5',\n",
    "            'Accept-Encoding': 'gzip, deflate, br',\n",
    "            'Connection': 'keep-alive',\n",
    "            'Upgrade-Insecure-Requests': '1',\n",
    "            'DNT': '1'  # Do Not Track\n",
    "        }\n",
    "    \n",
    "    async def scrape_url(self, url: str, timeout: int = 30) -> Optional[str]:\n",
    "        \"\"\"\n",
    "        Асинхронно отримує контент з URL з використанням rotating User-Agent\n",
    "        \n",
    "        Args:\n",
    "            url: URL для скрапінгу\n",
    "            timeout: Таймаут запиту в секундах\n",
    "        \n",
    "        Returns:\n",
    "            Optional[str]: HTML контент або None у випадку помилки\n",
    "        \"\"\"\n",
    "        try:\n",
    "            async with httpx.AsyncClient(\n",
    "                timeout=timeout,\n",
    "                follow_redirects=True,\n",
    "                headers=self.get_headers()\n",
    "            ) as client:\n",
    "                response = await client.get(url)\n",
    "                response.raise_for_status()  # Перевіряємо статус відповіді\n",
    "                return response.text\n",
    "        except httpx.HTTPStatusError as e:\n",
    "            print(f\"HTTP Error: {e.response.status_code} for {url}\")\n",
    "            return None\n",
    "        except httpx.RequestError as e:\n",
    "            print(f\"Request Error: {str(e)} for {url}\")\n",
    "            return None\n",
    "        except Exception as e:\n",
    "            print(f\"Unexpected error: {str(e)} for {url}\")\n",
    "            return None\n",
    "\n",
    "    def parse_content(self, html_content: Optional[str]) -> Optional[str]:\n",
    "        \"\"\"Парсить отриманий HTML контент\"\"\"\n",
    "        if html_content is None:\n",
    "            return None\n",
    "        return trafilatura.extract(html_content)\n",
    "\n",
    "    async def scrape_and_parse(self, url: str) -> Optional[str]:\n",
    "        \"\"\"Комбінує скрапінг та парсинг\"\"\"\n",
    "        html_content = await self.scrape_url(url)\n",
    "        return self.parse_content(html_content)\n",
    "\n",
    "# Приклад використання\n",
    "async def main(url):\n",
    "    scraper = AsyncScraper()\n",
    "    #url = \"https://www.nbcnews.com/politics/joe-biden/biden-deliver-two-major-speeches-final-days-office-rcna186257\"  # Замініть на потрібний URL\n",
    "    \n",
    "    # Отримання та парсинг контенту\n",
    "    content = await scraper.scrape_and_parse(url)\n",
    "    \n",
    "    if content:\n",
    "        \n",
    "        print(\"Успішно отримано контент:\")\n",
    "        print(content[:200])\n",
    "        return content# Виводимо перші 200 символів\n",
    "    else:\n",
    "        print(\"Не вдалося отримати контент\")\n",
    "\n",
    "# Асинхронна функція для обробки списку URL\n",
    "async def process_urls(urls):\n",
    "    result = []\n",
    "    for link in urls:\n",
    "        con = await main(link)\n",
    "        result.append(con)\n",
    "    return result\n",
    "\n",
    "    \n",
    "# Запуск\n",
    "if __name__ == \"__main__\":\n",
    "    url=\"https://time.com/7204861/social-security-fairness-act-joe-biden/\"\n",
    "    urls \n",
    "    results = asyncio.run(process_urls(urls))\n",
    "    print(f\"Отримано {len(results)} результатів\")"
   ]
  },
  {
   "cell_type": "code",
   "execution_count": 68,
   "id": "c88247e5-a71a-41e6-9e01-f54b32bb5d57",
   "metadata": {},
   "outputs": [
    {
     "data": {
      "text/plain": [
       "'Supported by\\nIn News Conference, Biden Has Slips but Shows Strength on Foreign Policy\\nIn a nearly hourlong appearance, President Biden hit back at questions about his fitness for office and engaged in long discourses on China and Gaza.\\nMichael D. Shear covers the White House and reported from Washington.\\nDuring a nearly hourlong news conference on Thursday, President Biden delivered a series of sometimes shaky answers but also demonstrated a command of foreign policy and avoided a repeat of the worst moments of his debate performance that prompted calls for him to abandon his re-election campaign.\\nAfter initially reading from a teleprompter and repeating his vow to stay in the race, Mr. Biden tried to hit back at questions about his age and fitness for office. At one point, he fumbled a question about Vice President Kamala Harris by saying that he “wouldn’t have picked Vice President Trump to be vice president” if he did not have confidence in her.\\nBefore the news conference even start'"
      ]
     },
     "execution_count": 68,
     "metadata": {},
     "output_type": "execute_result"
    }
   ],
   "source": [
    "result[7][:1000]"
   ]
  },
  {
   "cell_type": "code",
   "execution_count": 2,
   "id": "7ff8295c-6737-4118-97a5-1f87a5aea1fb",
   "metadata": {},
   "outputs": [
    {
     "name": "stdout",
     "output_type": "stream",
     "text": [
      "Content successfully fetched:\n",
      "Посилення українських наступальних операцій у Курській області може бути початковим етапом узгодженої української операції в Курській області чи в інших місцях на фронті, хоча в ISW не готові дати будь-який конкретний прогноз, йдеться у звіті американського Інституту вивчення війни (ISW).\n",
      "«Українські сили нещодавно досягли тактичних успіхів на тлі продовження інтенсивних наступальних операцій на у\n",
      "Fetched 1 results.\n"
     ]
    }
   ],
   "source": [
    "import nest_asyncio\n",
    "import httpx\n",
    "from fake_useragent import UserAgent\n",
    "import asyncio\n",
    "from typing import Optional\n",
    "import trafilatura\n",
    "\n",
    "# Apply nest_asyncio to allow running asyncio in Jupyter Notebook\n",
    "nest_asyncio.apply()\n",
    "\n",
    "class AsyncScraper:\n",
    "    def __init__(self):\n",
    "        self.ua = UserAgent()  # Initialize UserAgent for rotating headers\n",
    "    \n",
    "    def get_headers(self) -> dict:\n",
    "        \"\"\"Generate headers for HTTP requests with a random User-Agent.\"\"\"\n",
    "        return {\n",
    "            'User-Agent': self.ua.random,\n",
    "            'Accept': 'text/html,application/xhtml+xml,application/xml;q=0.9,*/*;q=0.8',\n",
    "            'Accept-Language': 'en-US,en;q=0.5',\n",
    "            'Accept-Encoding': 'gzip, deflate, br',\n",
    "            'Connection': 'keep-alive',\n",
    "            'Upgrade-Insecure-Requests': '1',\n",
    "            'DNT': '1'  # Do Not Track\n",
    "        }\n",
    "    \n",
    "    async def scrape_url(self, url: str, timeout: int = 30) -> Optional[str]:\n",
    "        \"\"\"\n",
    "        Asynchronously fetch HTML content from a URL using rotating User-Agent headers.\n",
    "        \n",
    "        Args:\n",
    "            url: The URL to scrape.\n",
    "            timeout: Request timeout in seconds.\n",
    "        \n",
    "        Returns:\n",
    "            Optional[str]: HTML content as a string, or None if an error occurs.\n",
    "        \"\"\"\n",
    "        try:\n",
    "            async with httpx.AsyncClient(\n",
    "                timeout=timeout,\n",
    "                follow_redirects=True,\n",
    "                headers=self.get_headers()\n",
    "            ) as client:\n",
    "                response = await client.get(url)\n",
    "                response.raise_for_status()  # Raise an exception for HTTP errors\n",
    "                return response.text\n",
    "        except httpx.HTTPStatusError as e:\n",
    "            print(f\"HTTP Error: {e.response.status_code} for {url}\")\n",
    "            return None\n",
    "        except httpx.RequestError as e:\n",
    "            print(f\"Request Error: {str(e)} for {url}\")\n",
    "            return None\n",
    "        except Exception as e:\n",
    "            print(f\"Unexpected error: {str(e)} for {url}\")\n",
    "            return None\n",
    "\n",
    "    def parse_content(self, html_content: Optional[str]) -> Optional[str]:\n",
    "        \"\"\"Extract and parse meaningful content from HTML using trafilatura.\"\"\"\n",
    "        if html_content is None:\n",
    "            return None\n",
    "        return trafilatura.extract(html_content)\n",
    "\n",
    "    async def scrape_and_parse(self, url: str) -> Optional[str]:\n",
    "        \"\"\"\n",
    "        Combine scraping and parsing into a single method.\n",
    "        \n",
    "        Args:\n",
    "            url: The URL to scrape and parse.\n",
    "        \n",
    "        Returns:\n",
    "            Optional[str]: Parsed content as a string, or None if an error occurs.\n",
    "        \"\"\"\n",
    "        html_content = await self.scrape_url(url)\n",
    "        return self.parse_content(html_content)\n",
    "\n",
    "# Function to fetch and parse content from a URL\n",
    "async def fetch_and_parse_content(url: str) -> Optional[str]:\n",
    "    \"\"\"\n",
    "    Fetch and parse content from a given URL.\n",
    "    \n",
    "    Args:\n",
    "        url: The URL to fetch content from.\n",
    "    \n",
    "    Returns:\n",
    "        Optional[str]: Parsed content as a string, or None if an error occurs.\n",
    "    \"\"\"\n",
    "    scraper = AsyncScraper()\n",
    "    content = await scraper.scrape_and_parse(url)\n",
    "    \n",
    "    if content:\n",
    "        print(\"Content successfully fetched:\")\n",
    "        print(content[:400])  # Print the first 200 characters of the content\n",
    "        return content\n",
    "    else:\n",
    "        print(f\"Failed to fetch content from {url}\")\n",
    "        return None\n",
    "\n",
    "# Function to process a list of URLs\n",
    "async def process_urls(urls: list) -> list:\n",
    "    \"\"\"\n",
    "    Process a list of URLs by fetching and parsing content from each one.\n",
    "    \n",
    "    Args:\n",
    "        urls: A list of URLs to process.\n",
    "    \n",
    "    Returns:\n",
    "        list: A list of parsed content for each URL.\n",
    "    \"\"\"\n",
    "    results = []\n",
    "    for link in urls:\n",
    "        content = await fetch_and_parse_content(link)\n",
    "        results.append(content)\n",
    "    return results\n",
    "\n",
    "# Example usage in Jupyter Notebook\n",
    "urls = [\n",
    "    \"https://www.radiosvoboda.org/a/news-kursk-nastupalna-operatsiya-uspikhy/33265813.html\",\n",
    "    # Add more URLs here\n",
    "]\n",
    "\n",
    "# Run the async function in Jupyter Notebook\n",
    "results = await process_urls(urls)\n",
    "print(f\"Fetched {len(results)} results.\")"
   ]
  },
  {
   "cell_type": "code",
   "execution_count": 3,
   "id": "9ec5687b-696d-4284-ac69-fd97b1230d9e",
   "metadata": {},
   "outputs": [
    {
     "name": "stdout",
     "output_type": "stream",
     "text": [
      "Посилення українських наступальних операцій у Курській області може бути початковим етапом узгодженої української операції в Курській області чи в інших місцях на фронті, хоча в ISW не готові дати будь-який конкретний прогноз, йдеться у звіті американського Інституту вивчення війни (ISW).\n",
      "«Українські сили нещодавно досягли тактичних успіхів на тлі продовження інтенсивних наступальних операцій на українському виступі в Курській області 6 січня. Геолокаційні кадри, опубліковані 5 і 6 січня, вказують на те, що українські сили нещодавно просунулися вперед у південному Бердині, центральній частині Руського Поперечного і центральній частині Новосотницького (всі на північний схід від Суджі)», – кажуть аналітики.\n",
      "В ISW зазначили, що 6 січня російські сили намагалися використати українські атаки на північний схід від Суджі, щоб атакувати в інших частинах українського виступу в Курській області. Геолокаційні кадри 5 січня показують, що війська Росії просунулися на захід від малої Локні (на північний захід від Суджі).\n",
      "5 січня керівник Центру протидії дезінформації РНБО Андрій Коваленко повідомив, що «російські війська в Курську зазнали атаки з кількох напрямків, що стало для них несподіванкою».\n",
      "За даними американського Інституту вивчення війни, українські війська відновили наступальні операції щонайменше на трьох напрямках в межах українського виступу в Курській області Росії і досягли тактичного просування 5 січня.\n",
      "Збройні сили України почали операцію в Курській області 6 серпня, зайнявши понад 1 тисячу квадратних кілометрів. Потім російська армія за допомогою військ КНДР змогла відбити частину території.\n",
      "У листопаді агенція Reuters із посиланням на високопоставлене українське військове джерело, яке працює в Генеральному штабі України, повідомила, що Україна через російські контратаки втратила понад 40% території в Курській області РФ, яку вона захопила під час бойових дій у серпні. За даними джерела, Росія розгорнула близько 59 тисяч військових у Курській області.\n",
      "Форум\n"
     ]
    }
   ],
   "source": [
    "print(results[0])"
   ]
  },
  {
   "cell_type": "code",
   "execution_count": 81,
   "id": "7c7ac223-1584-4270-9cfe-96b087debe9f",
   "metadata": {},
   "outputs": [
    {
     "name": "stdout",
     "output_type": "stream",
     "text": [
      "Content successfully fetched:\n",
      "Якщо Україна хоче закінчити війну з росією, то вона має провести «реалістичні дискусії» щодо територіальних питань.\n",
      "Таку думку висловив президент Франції Еммануель Макрон під час щорічної зустрічі фра\n",
      "Content successfully fetched:\n",
      "Як працюють санкції проти Росії\n",
      "Економіст компанії Ukraine Economic Outlook Адріан Пантюхов, передає 24 Канал з посиланням ефір телеканалу FREEДOM, попри все через санкції для Росії значно здорожчає в\n",
      "Fetched 2 results.\n"
     ]
    }
   ],
   "source": [
    "urls2 = [\n",
    "    \"https://www.slovoidilo.ua/2025/01/06/novyna/polityka/makron-zayavyv-ukrayini-potribna-realistychna-pozycziya-shhodo-terytorij\",\n",
    "    'https://24tv.ua/economy/sanktsiyi-proti-rosiyi-rosiyanam-dorozhche-viroblyati-ozbroyennya_n2723021'\n",
    "    # Add more URLs here\n",
    "]\n",
    "\n",
    "# Run the async function in Jupyter Notebook\n",
    "results2 = await process_urls(urls2)\n",
    "print(f\"Fetched {len(results2)} results.\")"
   ]
  },
  {
   "cell_type": "code",
   "execution_count": 84,
   "id": "9c4df337-6350-4265-9c96-a7748bd149e1",
   "metadata": {},
   "outputs": [
    {
     "name": "stdout",
     "output_type": "stream",
     "text": [
      "Як працюють санкції проти Росії\n",
      "Економіст компанії Ukraine Economic Outlook Адріан Пантюхов, передає 24 Канал з посиланням ефір телеканалу FREEДOM, попри все через санкції для Росії значно здорожчає виробництво озброєнь. Відтак Росія вже почала виготовляти менше озброєння, ніж могла б до введення обмежень.\n",
      "Читайте також Центробанк Росії переглянув рівень ключової ставки: чи вгамувався ріст інфляції\n",
      "Зауважте! Євросоюз вже запровадив проти Росії та її союзників 15 пакетів санкцій. Майже таку ж кількість застосували й США.\n",
      "Як пояснює економіст, суть санкцій полягає в тому, що ними не можна закрити одночасно всі \"лазівки\". Річ у тім, що до того, як санкції запроваджуються, цих \"лазівок\" просто не існує.\n",
      "Обхід санкцій якраз і передбачає, що для того, щоб пройти певні обмеження, шукається обхідний шлях через 234 особи. Це дуже здорожує весь процес купівлі, ускладнює логістику, але, однак, усе-таки дає змогу Росії отримувати компоненти для виробництва своїх озброєнь,\n",
      "– каже Адріан Пантюхов.\n",
      "Крім того, ситуація зараз така, що Росія досі отримує компоненти для ракет й може їх виробляти. Водночас невідомо, як би було насправді, якби санкцій не було взагалі.\n",
      "Який результат вторинних санкцій\n",
      "За словами економіста Пантюхова, міжнародні партнери починають працювати вже над вторинними санкціями. Це ускладнює процес для компаній, які через 2 – 4 країни планували перепродавати компоненти в бік Росії.\n",
      "Наприклад, за останні пів року можемо бачити, як китайські банки починають запитувати у Росію набагато більші відсотки. Крім того, вони запроваджують дуже жорсткі перевірки самих контрагентів, це призводить до того, що замість одного тижня саме постачання може затягнутися на місяці,\n",
      "– додає пан Адріан.\n",
      "Він зауважує, що попри все потрібно посилювати санкції, особливо вторинні, щоб ускладнювати процес постачання і виробництва озброєння, робити його дуже болючим і чутливим. Тобто щоб для Росії одна ракета обходилася якомога дорожче.\n"
     ]
    }
   ],
   "source": [
    "print(results2[1])"
   ]
  },
  {
   "cell_type": "code",
   "execution_count": null,
   "id": "d684a462-b632-4e00-abca-fd6540682ad8",
   "metadata": {},
   "outputs": [],
   "source": []
  }
 ],
 "metadata": {
  "kernelspec": {
   "display_name": "Python 3 (ipykernel)",
   "language": "python",
   "name": "python3"
  },
  "language_info": {
   "codemirror_mode": {
    "name": "ipython",
    "version": 3
   },
   "file_extension": ".py",
   "mimetype": "text/x-python",
   "name": "python",
   "nbconvert_exporter": "python",
   "pygments_lexer": "ipython3",
   "version": "3.13.1"
  }
 },
 "nbformat": 4,
 "nbformat_minor": 5
}
