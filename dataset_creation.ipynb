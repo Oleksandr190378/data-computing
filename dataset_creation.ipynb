{
 "cells": [
  {
   "cell_type": "code",
   "execution_count": null,
   "metadata": {},
   "outputs": [],
   "source": [
    "import pandas as pd\n",
    "import requests\n",
    "from bs4 import BeautifulSoup\n",
    "import re\n",
    "import openai\n",
    "from openai import OpenAI\n",
    "import random\n",
    "from dotenv import load_dotenv\n",
    "import os"
   ]
  },
  {
   "cell_type": "code",
   "execution_count": null,
   "metadata": {},
   "outputs": [],
   "source": [
    "load_dotenv()\n",
    "OPENAI_API_KEY = os.getenv('OPENAI_API_KEY')\n",
    "if not OPENAI_API_KEY:\n",
    "    raise ValueError(\"OpenAI API is not found\")"
   ]
  },
  {
   "cell_type": "code",
   "execution_count": null,
   "metadata": {},
   "outputs": [],
   "source": [
    "#Create a list of mountain names\n",
    "from openai import OpenAI\n",
    "def scrape_mountain_names():\n",
    "    url = \"https://en.wikipedia.org/wiki/List_of_mountains_by_elevation\"\n",
    "    response = requests.get(url)\n",
    "    soup = BeautifulSoup(response.content, 'html.parser')\n",
    "    \n",
    "    mountains = []\n",
    "    tables = soup.find_all('table', {'class': 'wikitable'})\n",
    "    \n",
    "    for table in tables:\n",
    "        rows = table.find_all('tr')[1:]  # Skip header row\n",
    "        for row in rows:\n",
    "            cells = row.find_all('td')\n",
    "            if len(cells) > 1:\n",
    "                mountain_name = cells[0].text.strip()\n",
    "                if '(' in mountain_name:\n",
    "                  mountain_name = mountain_name.split('(')\n",
    "                  mountains.append(mountain_name[0])\n",
    "                  if  '/' in mountain_name[1][:-1]:\n",
    "                    names = mountain_name[1][:-1].split('/')\n",
    "                    for name in names:\n",
    "                        mountains.append(name.strip()) \n",
    "                  elif  ';' in mountain_name[1][:-1]:\n",
    "                    names = mountain_name[1][:-1].split(';')\n",
    "                    for name in names:\n",
    "                        mountains.append(name.strip()) \n",
    "                  else:       \n",
    "                    mountains.append(mountain_name[1][:-1])\n",
    "                elif '/'  in mountain_name: \n",
    "                  mountain_name = mountain_name.split('/')\n",
    "                  mountains.append(mountain_name[0])\n",
    "                  mountains.append(mountain_name[1]) \n",
    "                else:\n",
    "                  mountains.append(mountain_name)\n",
    "    \n",
    "    return mountains"
   ]
  },
  {
   "cell_type": "code",
   "execution_count": null,
   "metadata": {},
   "outputs": [],
   "source": [
    "mountain_names = scrape_mountain_names()\n",
    "mountain_names[:10]"
   ]
  },
  {
   "cell_type": "code",
   "execution_count": null,
   "metadata": {},
   "outputs": [],
   "source": [
    "#Generate sentence for each mountain name\n",
    "client = OpenAI(\n",
    "  api_key=os.environ['OPENAI_API_KEY']\n",
    ")\n",
    "sentences = []\n",
    "for mountain in mountain_names:\n",
    "    prompt = f\"Generate a sentence about {mountain} without mentioning that it's a mountain.{mountain} can be in any part of the sentence.\"\n",
    "    \n",
    "    response = client.chat.completions.create(\n",
    "        model=\"gpt-4o-mini\",\n",
    "        messages=[{\"role\": \"user\", \"content\": prompt}],\n",
    "        max_tokens=30\n",
    "    )\n",
    "    \n",
    "    sentence = response.choices[0].message.content\n",
    "    sentences.append((sentence, mountain))\n",
    "sentences[:5] "
   ]
  },
  {
   "cell_type": "code",
   "execution_count": null,
   "metadata": {},
   "outputs": [],
   "source": [
    "# Create DataFrame\n",
    "df = pd.DataFrame(sentences, columns=['sentence', 'mountain'])\n",
    "df.head()"
   ]
  },
  {
   "cell_type": "code",
   "execution_count": null,
   "metadata": {},
   "outputs": [],
   "source": [
    "df.to_csv(r'./data/mountain_sentences.csv', index=False)\n",
    "print(\"Dataset created and saved to 'mountain_sentences.csv\")"
   ]
  }
 ],
 "metadata": {
  "language_info": {
   "name": "python"
  },
  "orig_nbformat": 4
 },
 "nbformat": 4,
 "nbformat_minor": 2
}
