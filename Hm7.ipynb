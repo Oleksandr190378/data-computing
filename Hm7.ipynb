{
  "nbformat": 4,
  "nbformat_minor": 0,
  "metadata": {
    "colab": {
      "provenance": [],
      "authorship_tag": "ABX9TyN1koDZ+MsnyeSuDR/RajZs",
      "include_colab_link": true
    },
    "kernelspec": {
      "name": "python3",
      "display_name": "Python 3"
    },
    "language_info": {
      "name": "python"
    }
  },
  "cells": [
    {
      "cell_type": "markdown",
      "metadata": {
        "id": "view-in-github",
        "colab_type": "text"
      },
      "source": [
        "<a href=\"https://colab.research.google.com/github/Oleksandr190378/data-computing/blob/main/Hm7.ipynb\" target=\"_parent\"><img src=\"https://colab.research.google.com/assets/colab-badge.svg\" alt=\"Open In Colab\"/></a>"
      ]
    },
    {
      "cell_type": "code",
      "execution_count": null,
      "metadata": {
        "colab": {
          "base_uri": "https://localhost:8080/"
        },
        "id": "3qMsFLBlIRf5",
        "outputId": "358ed680-5076-4c21-c363-5a4d2255b85e"
      },
      "outputs": [
        {
          "output_type": "stream",
          "name": "stdout",
          "text": [
            "Collecting scikit-surprise\n",
            "  Downloading scikit_surprise-1.1.4.tar.gz (154 kB)\n",
            "\u001b[2K     \u001b[90m━━━━━━━━━━━━━━━━━━━━━━━━━━━━━━━━━━━━━━━━\u001b[0m \u001b[32m154.4/154.4 kB\u001b[0m \u001b[31m3.4 MB/s\u001b[0m eta \u001b[36m0:00:00\u001b[0m\n",
            "\u001b[?25h  Installing build dependencies ... \u001b[?25l\u001b[?25hdone\n",
            "  Getting requirements to build wheel ... \u001b[?25l\u001b[?25hdone\n",
            "  Preparing metadata (pyproject.toml) ... \u001b[?25l\u001b[?25hdone\n",
            "Requirement already satisfied: joblib>=1.2.0 in /usr/local/lib/python3.10/dist-packages (from scikit-surprise) (1.4.2)\n",
            "Requirement already satisfied: numpy>=1.19.5 in /usr/local/lib/python3.10/dist-packages (from scikit-surprise) (1.25.2)\n",
            "Requirement already satisfied: scipy>=1.6.0 in /usr/local/lib/python3.10/dist-packages (from scikit-surprise) (1.11.4)\n",
            "Building wheels for collected packages: scikit-surprise\n",
            "  Building wheel for scikit-surprise (pyproject.toml) ... \u001b[?25l\u001b[?25hdone\n",
            "  Created wheel for scikit-surprise: filename=scikit_surprise-1.1.4-cp310-cp310-linux_x86_64.whl size=2357264 sha256=4bc6f21de827f1fdc7ca0e90a8107b6ce834b8ff1b61d8215d06b76e144d951a\n",
            "  Stored in directory: /root/.cache/pip/wheels/4b/3f/df/6acbf0a40397d9bf3ff97f582cc22fb9ce66adde75bc71fd54\n",
            "Successfully built scikit-surprise\n",
            "Installing collected packages: scikit-surprise\n",
            "Successfully installed scikit-surprise-1.1.4\n"
          ]
        }
      ],
      "source": [
        "\n",
        "!pip install scikit-surprise"
      ]
    },
    {
      "cell_type": "code",
      "source": [
        "import pandas as pd\n",
        "import numpy as np\n",
        "from surprise import Dataset\n",
        "from surprise import SVD\n",
        "from surprise.model_selection import train_test_split\n",
        "from surprise import accuracy\n",
        "\n",
        "data = Dataset.load_builtin('ml-100k')"
      ],
      "metadata": {
        "colab": {
          "base_uri": "https://localhost:8080/"
        },
        "id": "3fAr-chHJh93",
        "outputId": "89bad437-1c37-4cf3-856e-d06d61c4e274"
      },
      "execution_count": null,
      "outputs": [
        {
          "output_type": "stream",
          "name": "stdout",
          "text": [
            "Dataset ml-100k could not be found. Do you want to download it? [Y/n] y\n",
            "Trying to download dataset from https://files.grouplens.org/datasets/movielens/ml-100k.zip...\n",
            "Done! Dataset ml-100k has been saved to /root/.surprise_data/ml-100k\n"
          ]
        }
      ]
    },
    {
      "cell_type": "code",
      "source": [
        "trainset, testset = train_test_split(data, test_size=0.2)\n",
        "algo = SVD()\n",
        "algo.fit(trainset)\n",
        "predictions = algo.test(testset)\n",
        "mae = accuracy.mae(predictions)\n",
        "rmse = accuracy.rmse(predictions)\n",
        "mae, rmse"
      ],
      "metadata": {
        "colab": {
          "base_uri": "https://localhost:8080/"
        },
        "id": "-M6BgoHXKIij",
        "outputId": "dd699e0f-9ae9-489c-8049-655bea5746c3"
      },
      "execution_count": null,
      "outputs": [
        {
          "output_type": "stream",
          "name": "stdout",
          "text": [
            "MAE:  0.7306\n",
            "RMSE: 0.9275\n"
          ]
        },
        {
          "output_type": "execute_result",
          "data": {
            "text/plain": [
              "(0.7306369865572243, 0.9275343889932054)"
            ]
          },
          "metadata": {},
          "execution_count": 4
        }
      ]
    },
    {
      "cell_type": "code",
      "source": [
        "\n",
        "from surprise.model_selection import GridSearchCV\n",
        "from surprise.model_selection import cross_validate\n",
        "\n",
        "param_grid = {\n",
        "    'n_factors': [50, 100, 150],\n",
        "    'n_epochs': [20, 30],\n",
        "    'lr_all': [0.002, 0.005],\n",
        "    'reg_all': [0.02, 0.1]\n",
        "}\n",
        "\n",
        "svd = SVD()\n",
        "gs = GridSearchCV(SVD, param_grid, measures=['rmse', 'mae'], cv=3)\n",
        "gs.fit(data)\n",
        "print(\"Best Parameters RMSE:\", gs.best_params['rmse'])\n",
        "print(\"Best Score RMSE:\", gs.best_score['rmse'])\n",
        "print(\"\\nBest Parameters MAE:\", gs.best_params['mae'])\n",
        "print(\"Best Score MAE:\", gs.best_score['mae'])\n",
        "best_svd = gs.best_estimator['rmse']\n",
        "results = cross_validate(best_svd, data, measures=['RMSE', 'MAE'], cv=5, verbose=True)\n",
        "\n",
        "print(\"\\nAverage Score RMSE:\", results['test_rmse'].mean())\n",
        "print(\"Average Score MAE:\", results['test_mae'].mean())"
      ],
      "metadata": {
        "colab": {
          "base_uri": "https://localhost:8080/"
        },
        "id": "cJzZwpQhNLuc",
        "outputId": "1ee11411-c936-4d37-cbaf-daad76396003"
      },
      "execution_count": null,
      "outputs": [
        {
          "output_type": "stream",
          "name": "stdout",
          "text": [
            "Best Parameters RMSE: {'n_factors': 150, 'n_epochs': 30, 'lr_all': 0.005, 'reg_all': 0.1}\n",
            "Best Score RMSE: 0.9339644079403207\n",
            "\n",
            "Best Parameters MAE: {'n_factors': 150, 'n_epochs': 30, 'lr_all': 0.005, 'reg_all': 0.1}\n",
            "Best Score MAE: 0.739639897329237\n",
            "Evaluating RMSE, MAE of algorithm SVD on 5 split(s).\n",
            "\n",
            "                  Fold 1  Fold 2  Fold 3  Fold 4  Fold 5  Mean    Std     \n",
            "RMSE (testset)    0.9272  0.9214  0.9261  0.9293  0.9215  0.9251  0.0031  \n",
            "MAE (testset)     0.7347  0.7322  0.7324  0.7341  0.7301  0.7327  0.0016  \n",
            "Fit time          2.54    2.56    3.31    2.61    2.59    2.72    0.29    \n",
            "Test time         0.27    0.12    0.20    0.12    0.12    0.17    0.06    \n",
            "\n",
            "Average Score RMSE: 0.9250941332851552\n",
            "Average Score MAE: 0.7326990527835989\n"
          ]
        }
      ]
    },
    {
      "cell_type": "code",
      "source": [
        "from surprise import Dataset, SVDpp, NMF, NormalPredictor\n",
        "\n",
        "algorithms = [\n",
        "    SVD(),\n",
        "    SVDpp(),\n",
        "    NMF(),\n",
        "    NormalPredictor()\n",
        "]\n",
        "\n",
        "benchmark = []\n",
        "for algorithm in algorithms:\n",
        "    results = cross_validate(algorithm, data, measures=['RMSE', 'MAE'], cv=3, verbose=False)\n",
        "    tmp = pd.DataFrame.from_dict(results).mean(axis=0)\n",
        "    tmp['Algorithm'] = str(algorithm).split(' ')[0].split('.')[-1]\n",
        "    benchmark.append(tmp)\n",
        "df_results = pd.DataFrame(benchmark).set_index('Algorithm').sort_values('test_rmse')\n",
        "\n",
        "print(df_results)\n",
        "best_algorithm = df_results['test_rmse'].idxmin()\n",
        "print(f\"\\nBest algorithm: {best_algorithm}\")\n",
        "print(f\"RMSE: {df_results.loc[best_algorithm, 'test_rmse']:.4f}\")\n",
        "print(f\"MAE: {df_results.loc[best_algorithm, 'test_mae']:.4f}\")"
      ],
      "metadata": {
        "colab": {
          "base_uri": "https://localhost:8080/"
        },
        "id": "3dKnTFlsh3Kw",
        "outputId": "d583cdd8-4372-4a84-c8ef-d44a2cbeec89"
      },
      "execution_count": null,
      "outputs": [
        {
          "output_type": "stream",
          "name": "stdout",
          "text": [
            "                 test_rmse  test_mae   fit_time  test_time\n",
            "Algorithm                                                 \n",
            "SVDpp             0.925759  0.727585  19.161381   7.986858\n",
            "SVD               0.944765  0.745889   1.153443   0.304730\n",
            "NMF               0.976761  0.766878   1.762883   0.287655\n",
            "NormalPredictor   1.523722  1.224030   0.124394   0.288393\n",
            "\n",
            "Best algorithm: SVDpp\n",
            "RMSE: 0.9258\n",
            "MAE: 0.7276\n"
          ]
        }
      ]
    }
  ]
}