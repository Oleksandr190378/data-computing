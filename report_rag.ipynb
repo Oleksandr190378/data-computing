{
  "nbformat": 4,
  "nbformat_minor": 0,
  "metadata": {
    "colab": {
      "provenance": [],
      "authorship_tag": "ABX9TyOLC8Kqvfpoqucqc2k+0VJY",
      "include_colab_link": true
    },
    "kernelspec": {
      "name": "python3",
      "display_name": "Python 3"
    },
    "language_info": {
      "name": "python"
    }
  },
  "cells": [
    {
      "cell_type": "markdown",
      "metadata": {
        "id": "view-in-github",
        "colab_type": "text"
      },
      "source": [
        "<a href=\"https://colab.research.google.com/github/Oleksandr190378/data-computing/blob/main/report_rag.ipynb\" target=\"_parent\"><img src=\"https://colab.research.google.com/assets/colab-badge.svg\" alt=\"Open In Colab\"/></a>"
      ]
    },
    {
      "cell_type": "code",
      "execution_count": null,
      "metadata": {
        "colab": {
          "base_uri": "https://localhost:8080/"
        },
        "id": "0TNmB4dnQ9uW",
        "outputId": "e66fb9b9-e920-4a91-e920-6eafb1cc3fb2"
      },
      "outputs": [
        {
          "output_type": "stream",
          "name": "stdout",
          "text": [
            "\u001b[2K   \u001b[90m━━━━━━━━━━━━━━━━━━━━━━━━━━━━━━━━━━━━━━━━\u001b[0m \u001b[32m1.0/1.0 MB\u001b[0m \u001b[31m13.4 MB/s\u001b[0m eta \u001b[36m0:00:00\u001b[0m\n",
            "\u001b[2K   \u001b[90m━━━━━━━━━━━━━━━━━━━━━━━━━━━━━━━━━━━━━━━━\u001b[0m \u001b[32m2.5/2.5 MB\u001b[0m \u001b[31m23.5 MB/s\u001b[0m eta \u001b[36m0:00:00\u001b[0m\n",
            "\u001b[2K   \u001b[90m━━━━━━━━━━━━━━━━━━━━━━━━━━━━━━━━━━━━━━━━\u001b[0m \u001b[32m411.2/411.2 kB\u001b[0m \u001b[31m9.7 MB/s\u001b[0m eta \u001b[36m0:00:00\u001b[0m\n",
            "\u001b[2K   \u001b[90m━━━━━━━━━━━━━━━━━━━━━━━━━━━━━━━━━━━━━━━━\u001b[0m \u001b[32m135.8/135.8 kB\u001b[0m \u001b[31m6.9 MB/s\u001b[0m eta \u001b[36m0:00:00\u001b[0m\n",
            "\u001b[2K   \u001b[90m━━━━━━━━━━━━━━━━━━━━━━━━━━━━━━━━━━━━━━━━\u001b[0m \u001b[32m50.7/50.7 kB\u001b[0m \u001b[31m2.5 MB/s\u001b[0m eta \u001b[36m0:00:00\u001b[0m\n",
            "\u001b[2K   \u001b[90m━━━━━━━━━━━━━━━━━━━━━━━━━━━━━━━━━━━━━━━━\u001b[0m \u001b[32m27.5/27.5 MB\u001b[0m \u001b[31m40.1 MB/s\u001b[0m eta \u001b[36m0:00:00\u001b[0m\n",
            "\u001b[2K   \u001b[90m━━━━━━━━━━━━━━━━━━━━━━━━━━━━━━━━━━━━━━━━\u001b[0m \u001b[32m298.0/298.0 kB\u001b[0m \u001b[31m17.5 MB/s\u001b[0m eta \u001b[36m0:00:00\u001b[0m\n",
            "\u001b[2K   \u001b[90m━━━━━━━━━━━━━━━━━━━━━━━━━━━━━━━━━━━━━━━━\u001b[0m \u001b[32m43.3/43.3 kB\u001b[0m \u001b[31m2.4 MB/s\u001b[0m eta \u001b[36m0:00:00\u001b[0m\n",
            "\u001b[2K   \u001b[90m━━━━━━━━━━━━━━━━━━━━━━━━━━━━━━━━━━━━━━━━\u001b[0m \u001b[32m454.3/454.3 kB\u001b[0m \u001b[31m19.3 MB/s\u001b[0m eta \u001b[36m0:00:00\u001b[0m\n",
            "\u001b[2K   \u001b[90m━━━━━━━━━━━━━━━━━━━━━━━━━━━━━━━━━━━━━━━━\u001b[0m \u001b[32m1.2/1.2 MB\u001b[0m \u001b[31m28.8 MB/s\u001b[0m eta \u001b[36m0:00:00\u001b[0m\n",
            "\u001b[2K   \u001b[90m━━━━━━━━━━━━━━━━━━━━━━━━━━━━━━━━━━━━━━━━\u001b[0m \u001b[32m49.5/49.5 kB\u001b[0m \u001b[31m2.5 MB/s\u001b[0m eta \u001b[36m0:00:00\u001b[0m\n",
            "\u001b[?25h"
          ]
        }
      ],
      "source": [
        "!pip install --quiet -U langchain langchain-community langchain-core langgraph langchain_openai  langsmith faiss-cpu pypdf gradio\n"
      ]
    },
    {
      "cell_type": "code",
      "source": [
        "from langchain_openai import ChatOpenAI\n",
        "from langchain.text_splitter import RecursiveCharacterTextSplitter\n",
        "from langchain_openai import OpenAIEmbeddings\n",
        "from langchain_community.vectorstores import FAISS\n",
        "from langgraph.graph import START, END, StateGraph, MessagesState\n",
        "from langgraph.checkpoint.memory import MemorySaver\n",
        "from langchain_core.messages import AIMessage, HumanMessage, SystemMessage, RemoveMessage\n",
        "from langchain_core.prompts import PromptTemplate\n",
        "from langchain_core.output_parsers import StrOutputParser\n",
        "from langgraph.prebuilt import ToolNode\n",
        "from langchain_community.document_loaders import PyPDFLoader\n",
        "from IPython.display import Image, display\n",
        "from langgraph.prebuilt import tools_condition"
      ],
      "metadata": {
        "id": "i_QYQat0TXa8"
      },
      "execution_count": null,
      "outputs": []
    },
    {
      "cell_type": "code",
      "source": [
        "import os, getpass\n",
        "\n",
        "def _set_env(var: str):\n",
        "    if not os.environ.get(var):\n",
        "        os.environ[var] = getpass.getpass(f\"{var}: \")\n",
        "\n",
        "_set_env(\"OPENAI_API_KEY\")"
      ],
      "metadata": {
        "colab": {
          "base_uri": "https://localhost:8080/"
        },
        "id": "vNibYQKKSXMD",
        "outputId": "1893b10f-54b1-440e-ba59-83c50c16128e"
      },
      "execution_count": null,
      "outputs": [
        {
          "name": "stdout",
          "output_type": "stream",
          "text": [
            "OPENAI_API_KEY: ··········\n"
          ]
        }
      ]
    },
    {
      "cell_type": "code",
      "source": [
        "_set_env(\"LANGCHAIN_API_KEY\")\n",
        "os.environ[\"LANGCHAIN_TRACING_V2\"] = \"true\"\n",
        "os.environ[\"LANGCHAIN_PROJECT\"] = \"project_annual_report\""
      ],
      "metadata": {
        "id": "0cqPtd2XhZ8I"
      },
      "execution_count": null,
      "outputs": []
    },
    {
      "cell_type": "code",
      "source": [
        "from langsmith import utils\n",
        "utils.tracing_is_enabled()"
      ],
      "metadata": {
        "id": "PI6KXuAehr0R"
      },
      "execution_count": null,
      "outputs": []
    },
    {
      "cell_type": "code",
      "source": [
        "from google.colab import drive\n",
        "drive.mount('/content/drive')"
      ],
      "metadata": {
        "colab": {
          "base_uri": "https://localhost:8080/"
        },
        "id": "vhi5NELpS5YX",
        "outputId": "0c23df21-b6c0-4ca6-b6d3-aa81c753cc5d"
      },
      "execution_count": null,
      "outputs": [
        {
          "output_type": "stream",
          "name": "stdout",
          "text": [
            "Mounted at /content/drive\n"
          ]
        }
      ]
    },
    {
      "cell_type": "code",
      "source": [
        "folder_path='/content/drive/MyDrive/Colab Notebooks/company/'\n",
        "file_path='/content/drive/MyDrive/Colab Notebooks/company/mercurity_fintech.pdf'"
      ],
      "metadata": {
        "id": "MLsZx8ezjNBT"
      },
      "execution_count": null,
      "outputs": []
    },
    {
      "cell_type": "code",
      "source": [
        "loader = PyPDFLoader(file_path)\n",
        "pages = []\n",
        "async for page in loader.alazy_load():\n",
        "    pages.append(page)\n"
      ],
      "metadata": {
        "id": "B2bVKG4MS-q0"
      },
      "execution_count": null,
      "outputs": []
    },
    {
      "cell_type": "code",
      "source": [
        "page_texts = []\n",
        "\n",
        "for page in pages[5:]:\n",
        "    page_texts.append(page.page_content)\n",
        "\n",
        "continuous_text = \" \".join(page_texts)"
      ],
      "metadata": {
        "id": "jDe57nn3AgzN"
      },
      "execution_count": null,
      "outputs": []
    },
    {
      "cell_type": "code",
      "source": [
        "len(continuous_text)"
      ],
      "metadata": {
        "colab": {
          "base_uri": "https://localhost:8080/"
        },
        "id": "mYdGEfgjBmgq",
        "outputId": "fcfccb8b-0550-4cc2-a9e0-d0fddbacef6f"
      },
      "execution_count": null,
      "outputs": [
        {
          "output_type": "execute_result",
          "data": {
            "text/plain": [
              "1020750"
            ]
          },
          "metadata": {},
          "execution_count": 56
        }
      ]
    },
    {
      "cell_type": "code",
      "source": [
        "text_splitter = RecursiveCharacterTextSplitter(chunk_size=1500, chunk_overlap=250)\n",
        "text_splits = text_splitter.split_text(continuous_text)\n",
        "#Creating embeddings\n",
        "embeddings = OpenAIEmbeddings()\n",
        "#Creating vector store\"\n",
        "vectorstore = FAISS.from_texts(text_splits, embeddings)\n",
        "#Saving vector store locally\n",
        "vectorstore.save_local(folder_path + \"vector_db\")\n",
        "#Creating retriever\n",
        "retriever = vectorstore.as_retriever(search_kwargs={\"k\": 3})"
      ],
      "metadata": {
        "id": "R0ig5GBuWDgC"
      },
      "execution_count": null,
      "outputs": []
    },
    {
      "cell_type": "code",
      "source": [
        "text_splits[0]"
      ],
      "metadata": {
        "colab": {
          "base_uri": "https://localhost:8080/",
          "height": 184
        },
        "id": "_oV1fai89-LO",
        "outputId": "c388df0e-2e47-463a-bff8-7c744f1960dc"
      },
      "execution_count": null,
      "outputs": [
        {
          "output_type": "execute_result",
          "data": {
            "text/plain": [
              "'Table of Contents\\n3\\nPART I\\nITEM 1. IDENTITY OF DIRECTORS, SENIOR MANAGEMENT AND ADVISERS\\nNot applicable.\\nITEM 2. OFFER STATISTICS AND EXPECTED TIMETABLE\\nNot applicable.\\nITEM 3. KEY INFORMATION\\nA.\\nSelected Financial Data\\nThe following selected consolidated statements of operations data for the year ended December 31, 2020, 2021 and 2022, and selected consolidated\\nbalance sheet data as of December 31, 2021 and 2022, have been derived from our audited consolidated financial statements included elsewhere in this annual\\nreport. The selected consolidated statements of operations data for the year ended December 31, 2018 and 2019, and consolidated balance sheet data as of\\nDecember 31, 2018, 2019 and 2020 are derived from our consolidated financial statements not included in this annual report, of which the selected consolidated\\nstatements of operations data for the year ended December 31, 2018 and consolidated balance sheet data as of December 31, 2018 have been restated due to\\nthe divestiture of the discontinued operations in 2019. Our consolidated financial statements are prepared and presented in accordance with accounting\\nprinciples generally accepted in the United States of America, or U.S. GAAP. Our historical results are not necessarily indicative of results expected for future\\nperiods. You should read this selected financial data section together with our consolidated financial statements and the related notes and \"Item 5. Operating'"
            ],
            "application/vnd.google.colaboratory.intrinsic+json": {
              "type": "string"
            }
          },
          "metadata": {},
          "execution_count": 60
        }
      ]
    },
    {
      "cell_type": "code",
      "source": [
        "vector_db_path = folder_path + \"vector_db\"\n",
        "#Creating embeddings\n",
        "embeddings = OpenAIEmbeddings()\n",
        "# loading vector data base\n",
        "vectorstore = FAISS.load_local(vector_db_path, embeddings, allow_dangerous_deserialization=True)\n",
        "#Creating retriever\n",
        "retriever = vectorstore.as_retriever(search_kwargs={\"k\": 3})\n"
      ],
      "metadata": {
        "id": "MWichfj4cgyi"
      },
      "execution_count": null,
      "outputs": []
    },
    {
      "cell_type": "code",
      "source": [
        "response = retriever.invoke(\"Risk factors\")\n",
        "response"
      ],
      "metadata": {
        "colab": {
          "base_uri": "https://localhost:8080/"
        },
        "id": "Zk_y-2ZJ58ZJ",
        "outputId": "c3814e1c-567a-4435-f6f1-041ec54174a9"
      },
      "execution_count": null,
      "outputs": [
        {
          "output_type": "execute_result",
          "data": {
            "text/plain": [
              "[Document(metadata={}, page_content='in the loss of significant rights.\\n●\\nWe are subject to changing laws and regulations regarding regulatory matters, corporate governance and public disclosure that may increase both\\nour operating costs and the risk of non-compliance.\\n●\\nIf we fail to maintain an effective system of internal control over financial reporting, we may be unable to accurately report our financial results or\\nprevent fraud, and investor confidence and the market price of our shares may be adversely impacted. Table of Contents\\n7\\n●\\nWe face risks related to natural disasters, health epidemics and other outbreaks, which could significantly disrupt our operations.\\nRisks Relating to Doing Business in China\\n●\\nAdverse changes in PRC regulation of internet businesses and companies could negatively impact our business in China.\\n●\\nUncertainties concerning the PRC legal system may adversely affect our business in China.\\n●\\nYou may experience difficulties in effecting service of legal process, enforcing foreign judgments or bringing actions in the PRC against us or our\\nmanagement named in the prospectus based on foreign laws.\\n●\\nRegulation and censorship of information disseminated over the internet in the PRC could adversely affect our business in China, and we may be\\nliable for any such information displayed on, retrieved from or linked to our website.\\n●\\nGovernmental control of currency conversion may affect the value of our shares.\\n●'),\n",
              " Document(metadata={}, page_content='We face risks related to natural disasters, health epidemics and other outbreaks, which could significantly disrupt our operations.\\nOur business could be materially and adversely affected by natural disasters or the outbreak of COVID 19, avian influenza, severe acute respiratory\\nsyndrome, or SARS, influenza A (H1N1), Ebola or another epidemic. Any such occurrences could cause severe disruption to our daily operations, including\\nour fulfillment infrastructure and our customer service center, and may even require a temporary closure of our facilities. Earthquakes or other similar disasters\\naffecting cities where we have major operations in PRC, Singapore and the U.S. could materially and adversely affect our operations due to loss of personnel\\nand damages to property, including our inventory and our technology systems. Our operation could also be severely disrupted if our suppliers, customers or\\nbusiness partners were affected by health epidemics or other natural disasters.\\nRisks Relating to Doing Business in the PRC\\nAdverse changes in PRC regulation of internet businesses and companies could negatively impact our business in China.\\nThe PRC government extensively regulates the internet industry, including foreign ownership of, and the licensing and permit requirements on companies\\nin the internet industry. These internet-related laws and regulations are relatively new and evolving, and their interpretation and enforcement involve')]"
            ]
          },
          "metadata": {},
          "execution_count": 64
        }
      ]
    },
    {
      "cell_type": "code",
      "source": [
        "from langchain.tools.retriever import create_retriever_tool\n",
        "\n",
        "retriever_tool = create_retriever_tool(\n",
        "    retriever,\n",
        "    \"retrieve_annual_report\",\n",
        "    \"Accurate Answers to Annual Report Questions\",\n",
        ")\n",
        "\n",
        "tools = [retriever_tool]"
      ],
      "metadata": {
        "id": "n8LhBoNpZ7JU"
      },
      "execution_count": null,
      "outputs": []
    },
    {
      "cell_type": "code",
      "source": [
        "model = ChatOpenAI(model=\"gpt-4o-mini\", temperature=0)\n",
        "llm = ChatOpenAI(model=\"gpt-4o\", temperature=0)"
      ],
      "metadata": {
        "id": "ioQiNR6rfm20"
      },
      "execution_count": null,
      "outputs": []
    },
    {
      "cell_type": "code",
      "source": [
        "# Table of Contents from the vector database\n",
        "table_of_contents = \"\"\"\n",
        "    PART I\n",
        "    Item 1. Business\n",
        "    Item 1A. Risk Factors\n",
        "    Item 1B. Unresolved Staff Comments\n",
        "    Item 2. Properties\n",
        "    Item 3. Legal Proceedings\n",
        "    Item 4. Mine Safety Disclosures\n",
        "    PART II\n",
        "    Item 5. Market for Registrant’s Common Equity, Related Stockholder Matters and Issuer Purchases of Equity Securities\n",
        "    Item 6. [Reserved]\n",
        "    Item 7. Management’s Discussion and Analysis of Financial Condition and Results of Operations\n",
        "    Item 7A. Quantitative and Qualitative Disclosures About Market Risk\n",
        "    Item 8. Consolidated Financial Statements and Supplementary Data\n",
        "    Item 9. Changes in and Disagreements with Accountants on Accounting and Financial Disclosure\n",
        "    Item 9A. Controls and Procedures\n",
        "    Item 9B. Other Information\n",
        "    Item 9C. Disclosure Regarding Foreign Jurisdictions that Prevent Inspections\n",
        "    PART III\n",
        "    Item 10. Directors, Executive Officers and Corporate Governance\n",
        "    Item 11. Executive Compensation\n",
        "    Item 12. Security Ownership of Certain Beneficial Owners and Management and Related Stockholder Matters\n",
        "    Item 13. Certain Relationships and Related Transactions, and Director Independence\n",
        "    Item 14. Principal Accounting Fees and Services\n",
        "    PART IV\n",
        "    Item 15. Exhibits and Financial Statement Schedules\n",
        "    Item 16. Form 10-K Summary\n",
        "    \"\"\"\n"
      ],
      "metadata": {
        "id": "71D5XvQ7001V"
      },
      "execution_count": null,
      "outputs": []
    },
    {
      "cell_type": "code",
      "source": [
        "def generate_detailed_question(state: MessagesState):\n",
        "    \"\"\"\n",
        "    Generate a more detailed question from the user's input to improve retrieval accuracy.\n",
        "\n",
        "    Args:\n",
        "        state (messages): The current state containing user messages.\n",
        "\n",
        "    Returns:\n",
        "        dict: The updated state with the detailed question.\n",
        "    \"\"\"\n",
        "    messages = state[\"messages\"]\n",
        "    user_question = messages[-1].content  # Get the last user message\n",
        "\n",
        "    # Define a prompt to generate a detailed question\n",
        "    prompt = PromptTemplate(\n",
        "        template=\"\"\"\n",
        "        You are an expert in generating detailed and specific questions based on user queries.\n",
        "        Your goal is to transform the user's short question into a more comprehensive and detailed question to improve retrieval of relevant documents from a vector database.\n",
        "\n",
        "        **Information about the Vector Database**:\n",
        "        The database contains the following sections from the company's annual report:\n",
        "        {table_of_contents}\n",
        "\n",
        "        **User's Original Question**:\n",
        "        {question}\n",
        "\n",
        "        **Instructions**:\n",
        "        - Expand the question by adding relevant details, context, or clarifications.\n",
        "        - Ensure the question is specific and focused on the topic of the annual report.\n",
        "        - Use the information from the Table of Contents to guide the generation of the detailed question.\n",
        "        - If the question is already detailed, return it as is.\n",
        "\n",
        "        **Detailed Question**:\n",
        "        \"\"\",\n",
        "        input_variables=[\"question\", \"table_of_contents\"],\n",
        "    )\n",
        "\n",
        "\n",
        "    # Use the language model to generate the detailed question\n",
        "    detailed_question_chain = prompt | model | StrOutputParser()\n",
        "    # Generate the detailed question\n",
        "    detailed_question = detailed_question_chain.invoke({\"question\": user_question, \"table_of_contents\": table_of_contents})\n",
        "\n",
        "    return {\"messages\": [detailed_question]}"
      ],
      "metadata": {
        "id": "9oOr5xSVqrhO"
      },
      "execution_count": null,
      "outputs": []
    },
    {
      "cell_type": "code",
      "source": [
        "def agent(state: MessagesState):\n",
        "    \"\"\"\n",
        "    Invokes the agent model to generate a response based on the current state. Given\n",
        "    the question, it will decide to retrieve using the retriever tool, or simply end.\n",
        "\n",
        "    Args:\n",
        "        state (messages): The current state\n",
        "\n",
        "    Returns:\n",
        "        dict: The updated state with the agent response appended to messages\n",
        "    \"\"\"\n",
        "    messages = state[\"messages\"]\n",
        "    model_with_tools = model.bind_tools(tools)\n",
        "    response = model_with_tools.invoke(messages)\n",
        "    return {\"messages\": [response]}"
      ],
      "metadata": {
        "id": "UN1Jg0s0djX5"
      },
      "execution_count": null,
      "outputs": []
    },
    {
      "cell_type": "code",
      "source": [
        "def generate(state: MessagesState):\n",
        "    \"\"\"\n",
        "    Generate answer\n",
        "\n",
        "    Args:\n",
        "        state (messages): The current state\n",
        "\n",
        "    Returns:\n",
        "         dict: The updated state with re-phrased question\n",
        "    \"\"\"\n",
        "    messages = state[\"messages\"]\n",
        "    question = messages[0].content\n",
        "    detailed_question = messages[1].content\n",
        "    last_message = messages[-1]\n",
        "\n",
        "    docs = last_message.content\n",
        "    prompt = PromptTemplate(\n",
        "        template=\"\"\"\n",
        "        You are an expert financial analyst specializing in analyzing and interpreting annual reports of companies.\n",
        "        Your task is to provide accurate and insightful answers to user questions based on the provided context.\n",
        "\n",
        "        **Context Guidelines**:\n",
        "        - Carefully analyze the retrieved documents to find relevant information.\n",
        "\n",
        "\n",
        "        **Retrieved Documents**:\n",
        "        {context}\n",
        "\n",
        "        **User Question**:\n",
        "        {question}\n",
        "\n",
        "        **Detailed Question**:\n",
        "        {detailed_question}\n",
        "\n",
        "        **Instructions**:\n",
        "        - Use both the **User Question** and the **Detailed Question** to guide your analysis and response.\n",
        "        - The **Detailed Question** is a more specific and detailed version of the **User Question**, generated to improve retrieval accuracy.\n",
        "        - Provide a clear and concise answer based on the context.\n",
        "\n",
        "        \"\"\",\n",
        "        input_variables=[\"context\", \"question\", \"detailed_question\"],\n",
        "    )\n",
        "    # Post-processing\n",
        "    def format_docs(docs):\n",
        "        return \"\\n\\n\".join(doc.page_content for doc in docs)\n",
        "\n",
        "    # Chain\n",
        "    rag_chain = prompt | model | StrOutputParser()\n",
        "\n",
        "    # Run\n",
        "    response = rag_chain.invoke({\"context\": docs, \"question\": question, \"detailed_question\": detailed_question})\n",
        "    return {\"messages\": [response]}\n"
      ],
      "metadata": {
        "id": "fRt2MXE9hv0N"
      },
      "execution_count": null,
      "outputs": []
    },
    {
      "cell_type": "code",
      "source": [
        "workflow = StateGraph(MessagesState)\n",
        "\n",
        "# Define the nodes we will cycle between\n",
        "workflow.add_node(\"generate_detailed_question\", generate_detailed_question)  # Detailed question generator\n",
        "workflow.add_node(\"agent\", agent)  # agent\n",
        "retrieve = ToolNode([retriever_tool])\n",
        "workflow.add_node(\"retrieve\", retrieve)  # retrieval\n",
        "workflow.add_node(\"generate\", generate)\n",
        "\n",
        "workflow.add_edge(START, \"generate_detailed_question\")\n",
        "workflow.add_edge(\"generate_detailed_question\", \"agent\")\n",
        "# Decide whether to retrieve\n",
        "workflow.add_conditional_edges(\n",
        "    \"agent\",\n",
        "    # Assess agent decision\n",
        "    tools_condition,\n",
        "    {\n",
        "        # Translate the condition outputs to nodes in our graph\n",
        "        \"tools\": \"retrieve\",\n",
        "        END: END,\n",
        "    },\n",
        ")\n",
        "\n",
        "workflow.add_edge( \"retrieve\",\"generate\")\n",
        "workflow.add_edge(\"generate\", END)\n",
        "#workflow.add_edge(\"delete\", END)\n",
        "\n",
        "# Compile\n",
        "graph = workflow.compile()"
      ],
      "metadata": {
        "id": "zFP-xI2Fj0lq"
      },
      "execution_count": null,
      "outputs": []
    },
    {
      "cell_type": "code",
      "source": [
        "try:\n",
        "    display(Image(graph.get_graph(xray=True).draw_mermaid_png()))\n",
        "except Exception:\n",
        "    # This requires some extra dependencies and is optional\n",
        "    pass"
      ],
      "metadata": {
        "colab": {
          "base_uri": "https://localhost:8080/",
          "height": 572
        },
        "id": "oGs3takblbSI",
        "outputId": "319012c5-8796-4f65-f46e-cac78e64c8a0"
      },
      "execution_count": null,
      "outputs": [
        {
          "output_type": "display_data",
          "data": {
            "image/png": "[encoded data removed]",
            "text/plain": [
              "<IPython.core.display.Image object>"
            ]
          },
          "metadata": {}
        }
      ]
    },
    {
      "cell_type": "code",
      "source": [
        "input_message =  \"analize the amounts of cash  cash equivalents and restricted cash in 2021 and 2022\"\n",
        "\n",
        "for step in graph.stream(\n",
        "    {\"messages\": [{\"role\": \"user\", \"content\": input_message}]},\n",
        "    stream_mode=\"values\",\n",
        "):\n",
        "    step[\"messages\"][-1].pretty_print()"
      ],
      "metadata": {
        "colab": {
          "base_uri": "https://localhost:8080/"
        },
        "id": "Ca36f8RKlhpC",
        "outputId": "a61aab9b-14f4-4c33-e949-ea24bc6b9adf"
      },
      "execution_count": null,
      "outputs": [
        {
          "output_type": "stream",
          "name": "stdout",
          "text": [
            "================================\u001b[1m Human Message \u001b[0m=================================\n",
            "\n",
            "analize the amounts of cash  cash equivalents and restricted cash in 2021 and 2022\n",
            "================================\u001b[1m Human Message \u001b[0m=================================\n",
            "\n",
            "Could you provide a detailed analysis of the amounts reported for cash, cash equivalents, and restricted cash in the consolidated financial statements for the years 2021 and 2022? Specifically, I am interested in understanding the year-over-year changes in these figures, any notes or explanations provided in the financial statements regarding these amounts, and how they relate to the company's overall financial condition and liquidity as discussed in the Management’s Discussion and Analysis section of the annual report. Additionally, if there are any relevant disclosures about market risks or other factors that may have influenced these cash positions, please include that information as well.\n",
            "==================================\u001b[1m Ai Message \u001b[0m==================================\n",
            "Tool Calls:\n",
            "  retrieve_annual_report (call_pQdjhdp58xW6D0jZ5RWoeytZ)\n",
            " Call ID: call_pQdjhdp58xW6D0jZ5RWoeytZ\n",
            "  Args:\n",
            "    query: cash and cash equivalents 2021 2022\n",
            "  retrieve_annual_report (call_8HYiFoFV8palKOSsVE8hTV8Y)\n",
            " Call ID: call_8HYiFoFV8palKOSsVE8hTV8Y\n",
            "  Args:\n",
            "    query: restricted cash 2021 2022\n",
            "  retrieve_annual_report (call_cKvAQBbdsqwA28MMq0m7yNln)\n",
            " Call ID: call_cKvAQBbdsqwA28MMq0m7yNln\n",
            "  Args:\n",
            "    query: Management’s Discussion and Analysis cash liquidity 2021 2022\n",
            "  retrieve_annual_report (call_mLulnBlXu7gDFECkYEvNQM4k)\n",
            " Call ID: call_mLulnBlXu7gDFECkYEvNQM4k\n",
            "  Args:\n",
            "    query: market risks cash position 2021 2022\n",
            "=================================\u001b[1m Tool Message \u001b[0m=================================\n",
            "Name: retrieve_annual_report\n",
            "\n",
            "restrict our operations and our ability to pay dividends to our shareholders. If we are unable to obtain additional equity or debt financing as required, our\n",
            "business operations and prospects may suffer.\n",
            "The following table sets forth a summary of our cash flows for the periods indicated:\n",
            "For the Year Ended December 31,\n",
            "2020\n",
            "2021\n",
            "2022\n",
            "(in US$ thousands)\n",
            "Net cash used in operating activities\n",
            "    \n",
            " (606)\n",
            "    \n",
            " (1,411)\n",
            "    \n",
            " (582)\n",
            "Net cash used in investing activities\n",
            " \n",
            " —\n",
            " \n",
            " —\n",
            " \n",
            " (32)\n",
            "Net cash provided by financing activities\n",
            " \n",
            " 300\n",
            " \n",
            " 1,676\n",
            " \n",
            " 7,720\n",
            "Effect of exchange rate changes\n",
            " \n",
            " 45\n",
            " \n",
            " 3\n",
            " \n",
            " (9)\n",
            "Increase/(decrease) in cash and cash equivalents\n",
            " \n",
            " (260)\n",
            " \n",
            " 269\n",
            " \n",
            " 7,097\n",
            "Cash at the beginning of the period\n",
            " \n",
            " 435\n",
            " \n",
            " 175\n",
            " \n",
            " 440\n",
            "Cash at the end of the period\n",
            " \n",
            " 175\n",
            " \n",
            " 443\n",
            " \n",
            " 7,538\n",
            "Net cash used in operating activities\n",
            "Net cash used in operating activities was US$582,423 for the year ended December 31, 2022, all from continuing operations. The net cash used in\n",
            "continuing operations was primarily due to:1) Net loss from continuing operations of US$1,872,453 after excluding provision for doubtful accounts, impairment\n",
            "loss of intangible assets, stock-based compensation, loss from disposal of intangible assets, loss from disposal of subsidiaries, depreciation and amortization\n",
            "and other income/(expenses) those non-cash items; 2) A decrease in digital assets of US$215,464; 3) A decrease in prepaid expenses and other current assets\n",
            "\n",
            "2021 and 2022, and \n",
            "4,937,916,229\n",
            " and \n",
            "14,069,445,558\n",
            " shares \n",
            "issued\n",
            " and \n",
            "outstanding\n",
            " as of\n",
            "December 31, 2021 and 2022)\n",
            " \n",
            "13\n",
            " \n",
            "140,716\n",
            "49,401\n",
            "Additional paid-in capital\n",
            " \n",
            "  \n",
            " \n",
            "682,848,997\n",
            "668,183,689\n",
            "Accumulated deficit\n",
            " \n",
            "  \n",
            " \n",
            "(\n",
            "667,320,289\n",
            ")\n",
            "(\n",
            "661,685,318\n",
            ")\n",
            "Accumulated other comprehensive (loss)/income\n",
            " \n",
            "  \n",
            " \n",
            "1,159,440\n",
            "1,099,867\n",
            "Total shareholders’ equity\n",
            " \n",
            "  \n",
            " \n",
            "$\n",
            "16,828,864\n",
            "$\n",
            "7,647,639\n",
            " \n",
            "  \n",
            " \n",
            "  \n",
            "  \n",
            "TOTAL LIABILITIES AND SHAREHOLDERS’ EQUITY\n",
            " \n",
            "  \n",
            " \n",
            "$\n",
            "18,893,082\n",
            "$\n",
            "9,019,621\n",
            "The accompanying notes are an integral part of these consolidated financial statements. Table of Contents\n",
            "F-7\n",
            "MERCURITY FINTECH HOLDING INC.\n",
            "FORMERLY KNOWN AS JMU LIMITED\n",
            "CONSOLIDATED STATEMENTS OF OPERATIONS\n",
            "(In U.S. dollars, except for number of shares and per share (or ADS) data)\n",
            "For the year Ended December 31, \n",
            "    \n",
            "Note\n",
            "    \n",
            "2022\n",
            "    \n",
            "2021\n",
            "    \n",
            "2020\n",
            "( as restated )\n",
            "( as restated )\n",
            "Revenue:\n",
            " \n",
            "  \n",
            " \n",
            " \n",
            "  \n",
            " \n",
            "  \n",
            "Technical services\n",
            " \n",
            " \n",
            "—\n",
            " \n",
            "5,864\n",
            " \n",
            "1,402,300\n",
            "Cryptocurrency mining\n",
            "783,438\n",
            "664,307\n",
            "—\n",
            "Consultation services\n",
            "80,000\n",
            "—\n",
            "—\n",
            "Total Revenue\n",
            " \n",
            "  \n",
            " \n",
            "$\n",
            "863,438\n",
            " \n",
            "$\n",
            "670,171\n",
            " \n",
            "$\n",
            "1,402,300\n",
            " \n",
            "  \n",
            " \n",
            "  \n",
            " \n",
            "  \n",
            " \n",
            "  \n",
            "Cost of Revenue:\n",
            " \n",
            "  \n",
            " \n",
            " \n",
            " \n",
            "Technical services\n",
            "—\n",
            "—\n",
            "(\n",
            "79,150\n",
            ")\n",
            "Cryptocurrency mining\n",
            "(\n",
            "1,361,600\n",
            ")\n",
            "(\n",
            "702,679\n",
            ")\n",
            "—\n",
            "Consultation services\n",
            "(\n",
            "19,000\n",
            ")\n",
            "—\n",
            "—\n",
            "Total Cost of Revenue\n",
            "$\n",
            "(\n",
            "1,380,600\n",
            ")\n",
            "$\n",
            "(\n",
            "702,679\n",
            ")\n",
            "$\n",
            "(\n",
            "79,150\n",
            ")\n",
            "Gross profit\n",
            " \n",
            "  \n",
            " \n",
            "$\n",
            "(\n",
            "517,162\n",
            ")\n",
            " \n",
            "$\n",
            "(\n",
            "32,508\n",
            ")\n",
            " \n",
            "$\n",
            "1,323,150\n",
            " \n",
            "  \n",
            " \n",
            "  \n",
            " \n",
            "  \n",
            " \n",
            "  \n",
            "Operating expenses:\n",
            " \n",
            "  \n",
            " \n",
            "  \n",
            " \n",
            "  \n",
            " \n",
            "  \n",
            "Sales and marketing\n",
            " \n",
            "  \n",
            " \n",
            "(\n",
            "35,000\n",
            ")\n",
            " \n",
            "—\n",
            " \n",
            "—\n",
            "================================\u001b[1m Human Message \u001b[0m=================================\n",
            "\n",
            "Based on the provided context, here is the analysis of cash, cash equivalents, and restricted cash for the years 2021 and 2022:\n",
            "\n",
            "### Cash and Cash Equivalents\n",
            "- **2021**: Cash at the end of the period was **$443,000**.\n",
            "- **2022**: Cash at the end of the period increased significantly to **$7,538,000**.\n",
            "\n",
            "### Year-over-Year Changes\n",
            "- The increase in cash and cash equivalents from 2021 to 2022 was **$7,095,000**. This substantial rise indicates improved liquidity for the company, which may be attributed to the net cash provided by financing activities, which was **$7,720,000** in 2022 compared to **$1,676,000** in 2021.\n",
            "\n",
            "### Restricted Cash\n",
            "The context does not provide specific information regarding restricted cash for the years 2021 and 2022. Therefore, I cannot provide a detailed analysis or any notes related to restricted cash.\n",
            "\n",
            "### Overall Financial Condition and Liquidity\n",
            "The significant increase in cash and cash equivalents suggests a stronger liquidity position for the company in 2022 compared to 2021. However, the company also reported a net loss from continuing operations of **$1,872,453** in 2022, which indicates ongoing operational challenges despite the improved cash position.\n",
            "\n",
            "### Market Risks and Other Factors\n",
            "The context does not include any disclosures about market risks or other factors that may have influenced these cash positions. Therefore, I cannot provide insights into those aspects.\n",
            "\n",
            "In summary, while there is a notable improvement in cash and cash equivalents from 2021 to 2022, the lack of information on restricted cash and market risks limits a comprehensive analysis. If you have further questions or need clarification on specific aspects, please let me know!\n"
          ]
        }
      ]
    },
    {
      "cell_type": "code",
      "source": [
        "input_message =  \"analize company's Lease Expense during 2020 2021 2022 years\"\n",
        "\n",
        "for step in graph.stream(\n",
        "    {\"messages\": [{\"role\": \"user\", \"content\": input_message}]},\n",
        "    stream_mode=\"values\",\n",
        "):\n",
        "    step[\"messages\"][-1].pretty_print()"
      ],
      "metadata": {
        "colab": {
          "base_uri": "https://localhost:8080/"
        },
        "id": "S2KUFqAZR3ZJ",
        "outputId": "25b4ceb0-31d2-4a83-977b-0090d5951453"
      },
      "execution_count": null,
      "outputs": [
        {
          "output_type": "stream",
          "name": "stdout",
          "text": [
            "================================\u001b[1m Human Message \u001b[0m=================================\n",
            "\n",
            "analize company's Lease Expense during 2020 2021 2022 years\n",
            "================================\u001b[1m Human Message \u001b[0m=================================\n",
            "\n",
            "Could you provide a comprehensive analysis of the company's lease expenses reported in the annual financial statements for the years 2020, 2021, and 2022? Specifically, I am interested in understanding the trends in lease expenses over these years, any significant changes or fluctuations, and how these expenses are reflected in the Management’s Discussion and Analysis of Financial Condition and Results of Operations (Item 7) as well as in the Consolidated Financial Statements (Item 8). Additionally, please include any relevant notes or disclosures regarding lease obligations that may be found in the financial statements or risk factors (Item 1A) that could impact these expenses.\n",
            "==================================\u001b[1m Ai Message \u001b[0m==================================\n",
            "Tool Calls:\n",
            "  retrieve_annual_report (call_3m1wwwfQzyIa5YutdA1HdDcB)\n",
            " Call ID: call_3m1wwwfQzyIa5YutdA1HdDcB\n",
            "  Args:\n",
            "    query: Lease Expense 2020 2021 2022\n",
            "=================================\u001b[1m Tool Message \u001b[0m=================================\n",
            "Name: retrieve_annual_report\n",
            "\n",
            "NOTES TO THE CONSOLIDATED FINANCIAL STATEMENTS (CONTINUED)\n",
            "F-46\n",
            "12.    LEASES\n",
            "As of December 31, 2022, the Company had operating leases for its New York and Shenzhen offices. The remaining lease terms ranges from \n",
            "0.83\n",
            " to \n",
            "2.75\n",
            " years.\n",
            "The Company’s lease agreements do not contain any material residual value guarantees or material restrictive covenants. The Company’s lease agreements do\n",
            "not contain any material residual value guarantees or material restrictive covenants. As of December 31, 2021, the weighted average remaining lease term was\n",
            "1.8\n",
            " years and the weighted average discount rate was \n",
            "5\n",
            "%.\n",
            "The following table presents the operating lease related assets and liabilities recorded on the Group's consolidated balance sheet.\n",
            "As of December 31,\n",
            "2022\n",
            "2021\n",
            "US$\n",
            "US$\n",
            "Right-of-use assets\n",
            "    \n",
            "873,878\n",
            "    \n",
            "—\n",
            "Impairment of right-of-use assets\n",
            " \n",
            "—\n",
            " \n",
            "—\n",
            "Right-of-use assets, net\n",
            " \n",
            "873,878\n",
            " \n",
            "—\n",
            "Operating lease liabilities - current\n",
            " \n",
            "269,675\n",
            " \n",
            "—\n",
            "Operating lease liabilities – non-current\n",
            " \n",
            "634,457\n",
            " \n",
            "—\n",
            "Total operating lease liabilities\n",
            " \n",
            "904,132\n",
            " \n",
            "—\n",
            "The following table presents the components of the Company’s office lease expense in 2022, which are included in general administrative on the consolidated\n",
            "statements of operations:\n",
            "    \n",
            "For the year ended December 31,\n",
            "2022\n",
            "US$\n",
            "Operating lease cost\n",
            " \n",
            "60,578\n",
            "Variable lease cost\n",
            " \n",
            "—\n",
            "Operating lease expense\n",
            " \n",
            "60,578\n",
            "Short-term lease rent expense\n",
            " \n",
            "31,301\n",
            "Total lease expense\n",
            " \n",
            "91,879\n",
            "\n",
            "statements of operations:\n",
            "    \n",
            "For the year ended December 31,\n",
            "2022\n",
            "US$\n",
            "Operating lease cost\n",
            " \n",
            "60,578\n",
            "Variable lease cost\n",
            " \n",
            "—\n",
            "Operating lease expense\n",
            " \n",
            "60,578\n",
            "Short-term lease rent expense\n",
            " \n",
            "31,301\n",
            "Total lease expense\n",
            " \n",
            "91,879\n",
            "The following table summarizes the maturity of operating lease liabilities as of December 31, 2022:\n",
            "    \n",
            "US$\n",
            "2023\n",
            " \n",
            "309,945\n",
            "2024\n",
            " \n",
            "375,940\n",
            "2025\n",
            " \n",
            "288,594\n",
            "Total\n",
            " \n",
            "974,479\n",
            "Less: imputed interest\n",
            " \n",
            "(\n",
            "70,347\n",
            ")\n",
            "Present value of lease liabilities\n",
            " \n",
            "904,132 Table of Contents\n",
            "MERCURITY FINTECH HOLDING INC.\n",
            "FORMERLY KNOWN AS JMU LIMITED\n",
            "NOTES TO THE CONSOLIDATED FINANCIAL STATEMENTS (CONTINUED)\n",
            "F-47\n",
            "13.  SHAREHOLDERS’ EQUITY\n",
            "On April 8, 2015, the Company completed its IPO on NASDAQ by offering \n",
            "4,000,000\n",
            " ADSs, representing \n",
            "72\n",
            " million ordinary shares at price of $\n",
            "10\n",
            " per ADS. On\n",
            "April 27, 2015, the Company issued an additional \n",
            "220,000\n",
            " ADSs, representing \n",
            "3.96\n",
            " million ordinary shares to the underwriter for exercising the overallotment\n",
            "option at price of $\n",
            "10\n",
            " per ADS. The total proceeds from issuance of ordinary shares upon IPO are $\n",
            "37,294,600\n",
            ", after deducting the IPO related cost of\n",
            "$\n",
            "3,000,000\n",
            ".\n",
            "Upon the completion of the IPO, all of the Company’s then outstanding Series A-1, Series A-2 and Series B preferred shares were automatically converted into\n",
            "12,202,988\n",
            ", \n",
            "122,029,877\n",
            " and \n",
            "30,507,471\n",
            " ordinary shares respectively, and immediately after the completion of the IPO, the indebtedness owed to Mr. Maodong\n",
            "\n",
            "utilities expenses, depreciation of office equipment and other office expenses, and (iii) professional expenses, which consist primarily of legal expense and\n",
            "audit fees.\n",
            "We restructured the board of directors in May 2022 and again in October 2022, and our management had undergone significant changes. The total\n",
            "salaries and benefits for employees for 2022 are $1,374,839, with $816,444 paid in cash and $558,395 in stock. The total professional expenses for 2022 are\n",
            "$581,557, including $367,524 legal expenses. The total other office expenses are $199,667.\n",
            "In 2021, due to the changes in our core management and business teams, many employees participating in our stock incentive plan were allowed to\n",
            "accelerate the vesting of their shares that have not yet reached the vesting period. Combined with the impact of the implementation of the additional stock\n",
            "incentive plan in 2021, our stock incentive expenses recognized in 2021 were $8,349,862. In addition, as a result of these changes, our professional expenses\n",
            "such as lawyers and financial consultants were $1,156,125 in 2021. The total general and administrative expenses of 2021 were $12,354,241.\n",
            "We recorded $1,991,918 general and administrative expenses for the year ended December 31, 2020, which primarily was employment cost. Table of Contents\n",
            "54\n",
            "While our operating expenses currently remain relatively low, we expect, as our recent investments in future business lines capture increasing revenues,\n",
            "\n",
            "economic environment of the associated lease. Table of Contents\n",
            "MERCURITY FINTECH HOLDING INC.\n",
            "FORMERLY KNOWN AS JMU LIMITED\n",
            "NOTES TO THE CONSOLIDATED FINANCIAL STATEMENTS (CONTINUED)\n",
            "F-33\n",
            "3.    SUMMARY OF SIGNIFICANT ACCOUNTING POLICIES (CONTINUED)\n",
            "Operating leases (continued)\n",
            "For the Company’s operating leases, fixed lease payments are recognized as lease expense on a straight-line basis over the lease term. For leases with a term of\n",
            "12 months or less, any fixed lease payments are recognized on a straight-line basis over the lease term and are not recognized on the Company’s consolidated\n",
            "balance sheet as an accounting policy election. Leases qualifying for the short-term lease exception were insignificant. Variable lease costs are recognized as\n",
            "incurred and primarily consist of common area maintenance and utility charges not included in the measurement of right of use assets and operating lease\n",
            "liabilities.\n",
            "The leasing activities of the Company during 2022 are all for the Company to lease the office as the lessee and the Company classified them as operating\n",
            "leases, among which, the Company signed a long-term lease contract with a term of about \n",
            "35 months\n",
            " for the New York office. The Company recognized right-\n",
            "of-use assets and lease liabilities on the consolidated balance sheet as of December 31, 2022.\n",
            "Income taxes\n",
            "The Company follows the liability method in accounting for income taxes in accordance to ASC topic 740 (\"ASC 740”), Income Taxes. Under this method,\n",
            "================================\u001b[1m Human Message \u001b[0m=================================\n",
            "\n",
            "Based on the retrieved documents, here is a comprehensive analysis of the company's lease expenses reported for the years 2020, 2021, and 2022:\n",
            "\n",
            "### Lease Expenses Overview\n",
            "\n",
            "1. **2020**:\n",
            "   - The total general and administrative expenses for the year were reported as $1,991,918, primarily attributed to employment costs. However, specific lease expenses for 2020 are not detailed in the provided context. It is noted that the company had relatively low operating expenses at that time.\n",
            "\n",
            "2. **2021**:\n",
            "   - The total general and administrative expenses increased significantly to $12,354,241. This increase can be attributed to changes in management and business teams, which led to higher professional expenses and stock incentive expenses.\n",
            "   - The context does not provide specific lease expense figures for 2021, but it indicates that many employees were allowed to accelerate the vesting of their shares, which may have impacted overall compensation and related expenses, including lease obligations indirectly.\n",
            "\n",
            "3. **2022**:\n",
            "   - The company reported a total lease expense of **$91,879** for the year, which includes:\n",
            "     - Operating lease cost: **$60,578**\n",
            "     - Short-term lease rent expense: **$31,301**\n",
            "   - The company recognized right-of-use assets and lease liabilities on the consolidated balance sheet, indicating a shift in how lease expenses are recorded due to the adoption of new accounting standards (ASC 842).\n",
            "   - The total operating lease liabilities as of December 31, 2022, amounted to **$904,132**, with current liabilities of **$269,675** and non-current liabilities of **$634,457**.\n",
            "\n",
            "### Trends and Fluctuations\n",
            "\n",
            "- **Trend Analysis**:\n",
            "  - There is a notable increase in lease-related expenses from 2020 to 2022, particularly in 2022, where the company began to recognize significant right-of-use assets and lease liabilities.\n",
            "  - The increase in lease expenses in 2022 reflects the company's commitment to leasing office space in New York and Shenzhen, which may indicate growth or expansion efforts.\n",
            "\n",
            "- **Fluctuations**:\n",
            "  - The absence of specific lease expense figures for 2020 and 2021 makes it challenging to quantify fluctuations accurately. However, the substantial increase in total general and administrative expenses in 2021 suggests that lease expenses may have also contributed to this rise, albeit indirectly.\n",
            "\n",
            "### Management’s Discussion and Analysis (MD&A) and Consolidated Financial Statements\n",
            "\n",
            "- The MD&A section (Item 7) would typically discuss the implications of lease expenses on the company's financial condition and operational results. However, the provided context does not include specific excerpts from this section.\n",
            "- The Consolidated Financial Statements (Item 8) reflect the company's lease obligations through the recognition of right-of-use assets and lease liabilities, which are critical for understanding the company's financial position.\n",
            "\n",
            "### Relevant Notes and Disclosures\n",
            "\n",
            "- The notes to the consolidated financial statements provide insights into the company's lease agreements, indicating that they do not contain material residual value guarantees or restrictive covenants.\n",
            "- The maturity of operating lease liabilities as of December 31, 2022, shows a structured payment plan over the next few years, which could impact cash flow and financial planning.\n",
            "\n",
            "### Risk Factors (Item 1A)\n",
            "\n",
            "- While specific risk factors related to lease expenses are not detailed in the provided context, potential risks could include:\n",
            "  - Changes in market conditions affecting lease rates.\n",
            "  - Economic downturns that could impact the company's ability to meet lease obligations.\n",
            "  - The impact of any future restructuring or changes in business strategy that may lead to adjustments in leased office space.\n",
            "\n",
            "### Conclusion\n",
            "\n",
            "In summary, the company's lease expenses have shown a significant increase from 2020 to 2022, particularly in 2022, where the company began to recognize substantial lease liabilities and right-of-use assets. The trends indicate a strategic move towards leasing office space, likely in response to growth initiatives. However, the lack of detailed figures for 2020 and 2021 limits a comprehensive year-over-year analysis. Future financial statements and MD&A sections will be crucial for understanding the ongoing implications of these lease expenses on the company's financial health.\n"
          ]
        }
      ]
    },
    {
      "cell_type": "code",
      "source": [
        "def generate2(state: MessagesState):\n",
        "    \"\"\"\n",
        "    Generate answer\n",
        "\n",
        "    Args:\n",
        "        state (messages): The current state\n",
        "\n",
        "    Returns:\n",
        "         dict: The updated state with re-phrased question\n",
        "    \"\"\"\n",
        "    messages = state[\"messages\"]\n",
        "    question = messages[0].content\n",
        "    detailed_question = messages[1].content\n",
        "    last_message = messages[-1]\n",
        "\n",
        "    docs = last_message.content\n",
        "    prompt = PromptTemplate(\n",
        "        template=\"\"\"\n",
        "        You are an expert financial analyst specializing in analyzing and interpreting annual reports of companies.\n",
        "        Your task is to provide accurate and insightful answers to user questions based on the provided context.\n",
        "\n",
        "        **Context Guidelines**:\n",
        "        - Carefully analyze the retrieved documents to find relevant information.\n",
        "\n",
        "\n",
        "        **Retrieved Documents**:\n",
        "        {context}\n",
        "\n",
        "        **User Question**:\n",
        "        {question}\n",
        "\n",
        "        **Detailed Question**:\n",
        "        {detailed_question}\n",
        "\n",
        "        **Instructions**:\n",
        "        - Use both the **User Question** and the **Detailed Question** to guide your analysis and response.\n",
        "        - The **Detailed Question** is a more specific and detailed version of the **User Question**, generated to improve retrieval accuracy.\n",
        "        - Provide a clear and concise answer based on the context.\n",
        "\n",
        "        \"\"\",\n",
        "        input_variables=[\"context\", \"question\", \"detailed_question\"],\n",
        "    )\n",
        "    # Post-processing\n",
        "    def format_docs(docs):\n",
        "        return \"\\n\\n\".join(doc.page_content for doc in docs)\n",
        "\n",
        "    # Chain\n",
        "    rag_chain = prompt | llm | StrOutputParser()\n",
        "\n",
        "    # Run\n",
        "    response = rag_chain.invoke({\"context\": docs, \"question\": question, \"detailed_question\": detailed_question})\n",
        "    return {\"messages\": [response]}"
      ],
      "metadata": {
        "id": "hUVCxjATmxbL"
      },
      "execution_count": null,
      "outputs": []
    },
    {
      "cell_type": "code",
      "source": [
        "workflow2 = StateGraph(MessagesState)\n",
        "\n",
        "# Define the nodes we will cycle between\n",
        "workflow2.add_node(\"generate_detailed_question\", generate_detailed_question)  # Detailed question generator\n",
        "workflow2.add_node(\"agent\", agent)  # agent\n",
        "retrieve = ToolNode([retriever_tool])\n",
        "workflow2.add_node(\"retrieve\", retrieve)  # retrieval\n",
        "workflow2.add_node(\"generate\", generate2)\n",
        "\n",
        "workflow2.add_edge(START, \"generate_detailed_question\")\n",
        "workflow2.add_edge(\"generate_detailed_question\", \"agent\")\n",
        "# Decide whether to retrieve\n",
        "workflow2.add_conditional_edges(\n",
        "    \"agent\",\n",
        "    # Assess agent decision\n",
        "    tools_condition,\n",
        "    {\n",
        "        # Translate the condition outputs to nodes in our graph\n",
        "        \"tools\": \"retrieve\",\n",
        "        END: END,\n",
        "    },\n",
        ")\n",
        "\n",
        "workflow2.add_edge( \"retrieve\",\"generate\")\n",
        "workflow2.add_edge(\"generate\", END)\n",
        "#workflow.add_edge(\"delete\", END)\n",
        "\n",
        "# Compile\n",
        "graph2 = workflow2.compile()"
      ],
      "metadata": {
        "id": "0salQOExnCqD"
      },
      "execution_count": null,
      "outputs": []
    },
    {
      "cell_type": "code",
      "source": [
        "import gradio as gr\n",
        "\n",
        "\n",
        "def chat_with_graph(input_message):\n",
        "    \"\"\"\n",
        "   The function for processing the user's question using the graph.\n",
        "    \"\"\"\n",
        "    for step in graph.stream(\n",
        "        {\"messages\": [{\"role\": \"user\", \"content\": input_message}]},\n",
        "        stream_mode=\"values\",\n",
        "    ):\n",
        "        response = step[\"messages\"][-1].content\n",
        "\n",
        "    return response\n",
        "\n",
        "with gr.Blocks() as demo:\n",
        "\n",
        "    chatbot = gr.Chatbot(label=\"Chat\")\n",
        "    msg = gr.Textbox(label=\"Enter your question\")\n",
        "    clear = gr.Button(\"Clear\")\n",
        "\n",
        "    def respond(user_message, history):\n",
        "        \"\"\"\n",
        "        The function for processing the user's message and the response from the graph.\n",
        "        \"\"\"\n",
        "        bot_response = chat_with_graph(user_message)\n",
        "\n",
        "        history.append((user_message, bot_response))\n",
        "        return \"\", history\n",
        "\n",
        "    msg.submit(respond, [msg, chatbot], chatbot)\n",
        "    clear.click(lambda: [], None, chatbot)\n",
        "\n",
        "\n",
        "demo.launch()"
      ],
      "metadata": {
        "colab": {
          "base_uri": "https://localhost:8080/",
          "height": 690
        },
        "id": "2Vc6iJqNmkFn",
        "outputId": "0c3d6ee4-dc25-4a96-d65e-67d45cfb012c"
      },
      "execution_count": null,
      "outputs": [
        {
          "output_type": "stream",
          "name": "stderr",
          "text": [
            "/usr/local/lib/python3.10/dist-packages/gradio/components/chatbot.py:242: UserWarning: You have not specified a value for the `type` parameter. Defaulting to the 'tuples' format for chatbot messages, but this is deprecated and will be removed in a future version of Gradio. Please set type='messages' instead, which uses openai-style dictionaries with 'role' and 'content' keys.\n",
            "  warnings.warn(\n"
          ]
        },
        {
          "output_type": "stream",
          "name": "stdout",
          "text": [
            "Running Gradio in a Colab notebook requires sharing enabled. Automatically setting `share=True` (you can turn this off by setting `share=False` in `launch()` explicitly).\n",
            "\n",
            "Colab notebook detected. To show errors in colab notebook, set debug=True in launch()\n",
            "* Running on public URL: https://5ca5361224f09e0c1c.gradio.live\n",
            "\n",
            "This share link expires in 72 hours. For free permanent hosting and GPU upgrades, run `gradio deploy` from the terminal in the working directory to deploy to Hugging Face Spaces (https://huggingface.co/spaces)\n"
          ]
        },
        {
          "output_type": "display_data",
          "data": {
            "text/plain": [
              "<IPython.core.display.HTML object>"
            ],
            "text/html": [
              "<div><iframe src=\"https://5ca5361224f09e0c1c.gradio.live\" width=\"100%\" height=\"500\" allow=\"autoplay; camera; microphone; clipboard-read; clipboard-write;\" frameborder=\"0\" allowfullscreen></iframe></div>"
            ]
          },
          "metadata": {}
        },
        {
          "output_type": "execute_result",
          "data": {
            "text/plain": []
          },
          "metadata": {},
          "execution_count": 106
        }
      ]
    },
    {
      "cell_type": "code",
      "source": [],
      "metadata": {
        "id": "yE1fpOvdRthI"
      },
      "execution_count": null,
      "outputs": []
    }
  ]
}