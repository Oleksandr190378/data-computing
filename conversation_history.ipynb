{
  "nbformat": 4,
  "nbformat_minor": 0,
  "metadata": {
    "colab": {
      "provenance": [],
      "authorship_tag": "ABX9TyPUlWfk7apF/DQx5q4yuLOe",
      "include_colab_link": true
    },
    "kernelspec": {
      "name": "python3",
      "display_name": "Python 3"
    },
    "language_info": {
      "name": "python"
    }
  },
  "cells": [
    {
      "cell_type": "markdown",
      "metadata": {
        "id": "view-in-github",
        "colab_type": "text"
      },
      "source": [
        "<a href=\"https://colab.research.google.com/github/Oleksandr190378/data-computing/blob/main/conversation_history.ipynb\" target=\"_parent\"><img src=\"https://colab.research.google.com/assets/colab-badge.svg\" alt=\"Open In Colab\"/></a>"
      ]
    },
    {
      "cell_type": "code",
      "execution_count": 1,
      "metadata": {
        "colab": {
          "base_uri": "https://localhost:8080/"
        },
        "id": "SRSb7ikhtoMF",
        "outputId": "91095972-3e24-4f8c-b5f6-153674d34596"
      },
      "outputs": [
        {
          "output_type": "stream",
          "name": "stdout",
          "text": [
            "\u001b[2K     \u001b[90m━━━━━━━━━━━━━━━━━━━━━━━━━━━━━━━━━━━━━━━━\u001b[0m \u001b[32m50.4/50.4 kB\u001b[0m \u001b[31m1.4 MB/s\u001b[0m eta \u001b[36m0:00:00\u001b[0m\n",
            "\u001b[2K   \u001b[90m━━━━━━━━━━━━━━━━━━━━━━━━━━━━━━━━━━━━━━━━\u001b[0m \u001b[32m1.0/1.0 MB\u001b[0m \u001b[31m15.5 MB/s\u001b[0m eta \u001b[36m0:00:00\u001b[0m\n",
            "\u001b[2K   \u001b[90m━━━━━━━━━━━━━━━━━━━━━━━━━━━━━━━━━━━━━━━━\u001b[0m \u001b[32m2.4/2.4 MB\u001b[0m \u001b[31m38.0 MB/s\u001b[0m eta \u001b[36m0:00:00\u001b[0m\n",
            "\u001b[2K   \u001b[90m━━━━━━━━━━━━━━━━━━━━━━━━━━━━━━━━━━━━━━━━\u001b[0m \u001b[32m49.6/49.6 kB\u001b[0m \u001b[31m3.2 MB/s\u001b[0m eta \u001b[36m0:00:00\u001b[0m\n",
            "\u001b[2K   \u001b[90m━━━━━━━━━━━━━━━━━━━━━━━━━━━━━━━━━━━━━━━━\u001b[0m \u001b[32m399.9/399.9 kB\u001b[0m \u001b[31m20.2 MB/s\u001b[0m eta \u001b[36m0:00:00\u001b[0m\n",
            "\u001b[2K   \u001b[90m━━━━━━━━━━━━━━━━━━━━━━━━━━━━━━━━━━━━━━━━\u001b[0m \u001b[32m292.1/292.1 kB\u001b[0m \u001b[31m16.8 MB/s\u001b[0m eta \u001b[36m0:00:00\u001b[0m\n",
            "\u001b[2K   \u001b[90m━━━━━━━━━━━━━━━━━━━━━━━━━━━━━━━━━━━━━━━━\u001b[0m \u001b[32m376.1/376.1 kB\u001b[0m \u001b[31m18.1 MB/s\u001b[0m eta \u001b[36m0:00:00\u001b[0m\n",
            "\u001b[2K   \u001b[90m━━━━━━━━━━━━━━━━━━━━━━━━━━━━━━━━━━━━━━━━\u001b[0m \u001b[32m1.1/1.1 MB\u001b[0m \u001b[31m36.9 MB/s\u001b[0m eta \u001b[36m0:00:00\u001b[0m\n",
            "\u001b[2K   \u001b[90m━━━━━━━━━━━━━━━━━━━━━━━━━━━━━━━━━━━━━━━━\u001b[0m \u001b[32m76.4/76.4 kB\u001b[0m \u001b[31m4.2 MB/s\u001b[0m eta \u001b[36m0:00:00\u001b[0m\n",
            "\u001b[2K   \u001b[90m━━━━━━━━━━━━━━━━━━━━━━━━━━━━━━━━━━━━━━━━\u001b[0m \u001b[32m77.9/77.9 kB\u001b[0m \u001b[31m4.9 MB/s\u001b[0m eta \u001b[36m0:00:00\u001b[0m\n",
            "\u001b[2K   \u001b[90m━━━━━━━━━━━━━━━━━━━━━━━━━━━━━━━━━━━━━━━━\u001b[0m \u001b[32m318.9/318.9 kB\u001b[0m \u001b[31m17.6 MB/s\u001b[0m eta \u001b[36m0:00:00\u001b[0m\n",
            "\u001b[2K   \u001b[90m━━━━━━━━━━━━━━━━━━━━━━━━━━━━━━━━━━━━━━━━\u001b[0m \u001b[32m49.3/49.3 kB\u001b[0m \u001b[31m2.4 MB/s\u001b[0m eta \u001b[36m0:00:00\u001b[0m\n",
            "\u001b[2K   \u001b[90m━━━━━━━━━━━━━━━━━━━━━━━━━━━━━━━━━━━━━━━━\u001b[0m \u001b[32m141.9/141.9 kB\u001b[0m \u001b[31m8.4 MB/s\u001b[0m eta \u001b[36m0:00:00\u001b[0m\n",
            "\u001b[2K   \u001b[90m━━━━━━━━━━━━━━━━━━━━━━━━━━━━━━━━━━━━━━━━\u001b[0m \u001b[32m58.3/58.3 kB\u001b[0m \u001b[31m3.6 MB/s\u001b[0m eta \u001b[36m0:00:00\u001b[0m\n",
            "\u001b[?25h"
          ]
        }
      ],
      "source": [
        "!pip install -qU langchain langchain_community langchain_openai python-dotenv"
      ]
    },
    {
      "cell_type": "code",
      "source": [
        "from os import environ\n",
        "from langchain.chains.conversation.memory import ConversationSummaryBufferMemory\n",
        "from langchain import LLMChain, PromptTemplate\n",
        "from langchain_core.prompts import ChatPromptTemplate, MessagesPlaceholder\n",
        "from langchain_openai import ChatOpenAI\n",
        "from dotenv import load_dotenv\n",
        "import os\n",
        "from langchain_core.runnables.history import RunnableWithMessageHistory\n",
        "from langchain_community.chat_message_histories import ChatMessageHistory"
      ],
      "metadata": {
        "id": "jmx1OywCtyLn"
      },
      "execution_count": 12,
      "outputs": []
    },
    {
      "cell_type": "code",
      "source": [
        "import getpass\n",
        "\n",
        "OPENAI_API_KEY = getpass.getpass(prompt='Введіть ваш OpenAI API ключ: ')\n",
        "\n",
        "print(\"API ключ успішно введений!\")"
      ],
      "metadata": {
        "colab": {
          "base_uri": "https://localhost:8080/"
        },
        "id": "KQw-kgtWur4u",
        "outputId": "3f9ee9bb-7c69-4865-9d22-dd1186639e08"
      },
      "execution_count": 3,
      "outputs": [
        {
          "output_type": "stream",
          "name": "stdout",
          "text": [
            "Введіть ваш OpenAI API ключ: ··········\n",
            "API ключ успішно введений!\n"
          ]
        }
      ]
    },
    {
      "cell_type": "code",
      "source": [
        "import os\n",
        "os.environ['OPENAI_API_KEY'] = OPENAI_API_KEY"
      ],
      "metadata": {
        "id": "Le5f4hoevAuS"
      },
      "execution_count": 4,
      "outputs": []
    },
    {
      "cell_type": "code",
      "source": [
        "template = \"\"\"\n",
        "You are a helpful assistant. Help the user with their requests.\n",
        "\"\"\"\n",
        "\n",
        "prompt_template = ChatPromptTemplate.from_messages(\n",
        "    [\n",
        "        (\"system\", template),\n",
        "        MessagesPlaceholder(variable_name=\"history\"),\n",
        "        (\"human\", \"{query}\"),\n",
        "    ]\n",
        ")\n"
      ],
      "metadata": {
        "id": "Anq6zbSbvLxA"
      },
      "execution_count": 5,
      "outputs": []
    },
    {
      "cell_type": "code",
      "source": [
        "memory = ConversationSummaryBufferMemory(llm=llm, max_token_limit=500, memory_key=\"history\", return_messages=True)"
      ],
      "metadata": {
        "colab": {
          "base_uri": "https://localhost:8080/"
        },
        "id": "mk5eaRBFvT-K",
        "outputId": "6e211b85-56bb-44cc-a046-06aef9a5cd15"
      },
      "execution_count": 13,
      "outputs": [
        {
          "output_type": "stream",
          "name": "stderr",
          "text": [
            "<ipython-input-13-7e5cb334991c>:1: LangChainDeprecationWarning: Please see the migration guide at: https://python.langchain.com/docs/versions/migrating_memory/\n",
            "  memory = ConversationSummaryBufferMemory(llm=llm, max_token_limit=500, memory_key=\"history\", return_messages=True)\n"
          ]
        }
      ]
    },
    {
      "cell_type": "code",
      "source": [
        "llm = ChatOpenAI(model=\"gpt-4o-mini\")"
      ],
      "metadata": {
        "id": "UaI2JcQ5va8t"
      },
      "execution_count": 14,
      "outputs": []
    },
    {
      "cell_type": "code",
      "source": [
        "store = {}\n",
        "\n",
        "def get_session_history(session_id: str):\n",
        "    if session_id not in store:\n",
        "        store[session_id] = ChatMessageHistory()\n",
        "    return store[session_id]\n",
        "\n",
        "session_id = \"bcd\""
      ],
      "metadata": {
        "id": "F4__DoHevyN_"
      },
      "execution_count": 15,
      "outputs": []
    },
    {
      "cell_type": "code",
      "source": [
        "chain = prompt_template | llm\n",
        "chain_with_history = RunnableWithMessageHistory(\n",
        "    chain,\n",
        "    get_session_history,\n",
        "    input_messages_key=\"query\",\n",
        "    history_messages_key=\"history\"\n",
        ")"
      ],
      "metadata": {
        "id": "__C6Kgk2v7yJ"
      },
      "execution_count": 16,
      "outputs": []
    },
    {
      "cell_type": "code",
      "source": [
        "config = {\"configurable\": {\"session_id\": session_id}}"
      ],
      "metadata": {
        "id": "4hF66EV-wRaP"
      },
      "execution_count": 17,
      "outputs": []
    },
    {
      "cell_type": "code",
      "source": [
        "response = chain_with_history.invoke({\"query\": \"Hi GPT, i am going to market in the evening and i need to buy milk, bread, almonds and bananas. Can you remember it for me?\"}, config=config)\n",
        "print(response)"
      ],
      "metadata": {
        "colab": {
          "base_uri": "https://localhost:8080/"
        },
        "id": "E_IBbwwkwuWk",
        "outputId": "5c34e363-6295-4825-e14c-9ba215dae88d"
      },
      "execution_count": 18,
      "outputs": [
        {
          "output_type": "stream",
          "name": "stdout",
          "text": [
            "content=\"I can't remember things for you, but I can help you create a list! Here's what you need to buy:\\n\\n- Milk\\n- Bread\\n- Almonds\\n- Bananas\\n\\nYou can write this down or save it on your phone. Let me know if you need anything else!\" additional_kwargs={'refusal': None} response_metadata={'token_usage': {'completion_tokens': 58, 'prompt_tokens': 56, 'total_tokens': 114, 'completion_tokens_details': {'reasoning_tokens': 0}}, 'model_name': 'gpt-4o-mini-2024-07-18', 'system_fingerprint': 'fp_1bb46167f9', 'finish_reason': 'stop', 'logprobs': None} id='run-8636f933-ec72-4472-a639-f77cce70e86c-0' usage_metadata={'input_tokens': 56, 'output_tokens': 58, 'total_tokens': 114}\n"
          ]
        }
      ]
    },
    {
      "cell_type": "code",
      "source": [
        "response = chain_with_history.invoke({\"query\": \"Can you remind me all items i need to buy today?\"}, config=config)\n",
        "print(response)"
      ],
      "metadata": {
        "colab": {
          "base_uri": "https://localhost:8080/"
        },
        "id": "lupkU7ZWzA7h",
        "outputId": "ecec8496-96b8-4e95-c1f5-2dbcc90640e1"
      },
      "execution_count": 19,
      "outputs": [
        {
          "output_type": "stream",
          "name": "stdout",
          "text": [
            "content=\"I can't send reminders, but I can help you list out the items you need to buy. Here they are:\\n\\n- Milk\\n- Bread\\n- Almonds\\n- Bananas\\n\\nYou might want to set a reminder on your phone or write it down so you don't forget. Let me know if you need help with anything else!\" additional_kwargs={'refusal': None} response_metadata={'token_usage': {'completion_tokens': 67, 'prompt_tokens': 134, 'total_tokens': 201, 'completion_tokens_details': {'reasoning_tokens': 0}}, 'model_name': 'gpt-4o-mini-2024-07-18', 'system_fingerprint': 'fp_3a215618e8', 'finish_reason': 'stop', 'logprobs': None} id='run-e2dfdbec-a622-4fa3-9879-8e3b01ff2d8d-0' usage_metadata={'input_tokens': 134, 'output_tokens': 67, 'total_tokens': 201}\n"
          ]
        }
      ]
    },
    {
      "cell_type": "code",
      "source": [
        "history = get_session_history(session_id).messages\n",
        "print(\"History for session_id:\", session_id)\n",
        "for message in history:\n",
        "    print(message)"
      ],
      "metadata": {
        "colab": {
          "base_uri": "https://localhost:8080/"
        },
        "id": "X9WomlIBzL6o",
        "outputId": "30f51d00-92d8-471f-859b-d5fc89579de9"
      },
      "execution_count": 20,
      "outputs": [
        {
          "output_type": "stream",
          "name": "stdout",
          "text": [
            "History for session_id: bcd\n",
            "content='Hi GPT, i am going to market in the evening and i need to buy milk, bread, almonds and bananas. Can you remember it for me?' additional_kwargs={} response_metadata={}\n",
            "content=\"I can't remember things for you, but I can help you create a list! Here's what you need to buy:\\n\\n- Milk\\n- Bread\\n- Almonds\\n- Bananas\\n\\nYou can write this down or save it on your phone. Let me know if you need anything else!\" additional_kwargs={'refusal': None} response_metadata={'token_usage': {'completion_tokens': 58, 'prompt_tokens': 56, 'total_tokens': 114, 'completion_tokens_details': {'reasoning_tokens': 0}}, 'model_name': 'gpt-4o-mini-2024-07-18', 'system_fingerprint': 'fp_1bb46167f9', 'finish_reason': 'stop', 'logprobs': None} id='run-8636f933-ec72-4472-a639-f77cce70e86c-0' usage_metadata={'input_tokens': 56, 'output_tokens': 58, 'total_tokens': 114}\n",
            "content='Can you remind me all items i need to buy today?' additional_kwargs={} response_metadata={}\n",
            "content=\"I can't send reminders, but I can help you list out the items you need to buy. Here they are:\\n\\n- Milk\\n- Bread\\n- Almonds\\n- Bananas\\n\\nYou might want to set a reminder on your phone or write it down so you don't forget. Let me know if you need help with anything else!\" additional_kwargs={'refusal': None} response_metadata={'token_usage': {'completion_tokens': 67, 'prompt_tokens': 134, 'total_tokens': 201, 'completion_tokens_details': {'reasoning_tokens': 0}}, 'model_name': 'gpt-4o-mini-2024-07-18', 'system_fingerprint': 'fp_3a215618e8', 'finish_reason': 'stop', 'logprobs': None} id='run-e2dfdbec-a622-4fa3-9879-8e3b01ff2d8d-0' usage_metadata={'input_tokens': 134, 'output_tokens': 67, 'total_tokens': 201}\n"
          ]
        }
      ]
    },
    {
      "cell_type": "code",
      "source": [
        "response = chain_with_history.invoke({\"query\": \"write me a healthy meal plan for tomorrow\"}, config=config)\n",
        "response.content"
      ],
      "metadata": {
        "colab": {
          "base_uri": "https://localhost:8080/",
          "height": 110
        },
        "id": "xI0TG7d5zpDq",
        "outputId": "a00d118b-f69f-4165-8b9a-0b135dacb9a5"
      },
      "execution_count": 21,
      "outputs": [
        {
          "output_type": "execute_result",
          "data": {
            "text/plain": [
              "\"Here's a healthy meal plan for tomorrow:\\n\\n### Breakfast\\n- **Oatmeal** topped with fresh berries (strawberries, blueberries) and a tablespoon of almond butter.\\n- A glass of water or herbal tea.\\n\\n### Snack\\n- A small handful of **almonds** (about 1 ounce).\\n- An apple or a banana.\\n\\n### Lunch\\n- **Grilled chicken salad** with mixed greens, cherry tomatoes, cucumber, avocado, and a light vinaigrette dressing.\\n- A slice of whole-grain bread.\\n\\n### Snack\\n- Carrot and cucumber sticks with **hummus**.\\n\\n### Dinner\\n- **Baked salmon** with lemon and herbs.\\n- Steamed broccoli or asparagus on the side.\\n- A small serving of quinoa or brown rice.\\n\\n### Dessert (optional)\\n- A small bowl of Greek yogurt with honey and a sprinkle of cinnamon.\\n\\nFeel free to adjust portion sizes and ingredients based on your preferences and dietary needs! Enjoy your meals!\""
            ],
            "application/vnd.google.colaboratory.intrinsic+json": {
              "type": "string"
            }
          },
          "metadata": {},
          "execution_count": 21
        }
      ]
    },
    {
      "cell_type": "code",
      "source": [
        "def chat_with_history(query):\n",
        "    try:\n",
        "        response = chain_with_history.invoke({\"query\": query}, config=config)\n",
        "        content = response.content if hasattr(response, 'content') else str(response)\n",
        "        history = get_session_history(session_id).messages\n",
        "        history_text = \"\\n\".join([\n",
        "          f\"{msg.type}: {msg.content}\" if hasattr(msg, 'type') else f\"{msg.role}: {msg.content}\"\n",
        "          for msg in history\n",
        "        ])\n",
        "        return content, history_text\n",
        "    except Exception as e:\n",
        "        return f\"Error processing query: {e}\", \"\""
      ],
      "metadata": {
        "id": "8C3ARoQG0AyR"
      },
      "execution_count": 35,
      "outputs": []
    },
    {
      "cell_type": "code",
      "source": [
        "query = \"write me a healthy meal plan for tomorrow\"\n",
        "chat_with_history(query)"
      ],
      "metadata": {
        "colab": {
          "base_uri": "https://localhost:8080/"
        },
        "id": "A9OZznDO241y",
        "outputId": "e23c3022-6966-451f-fbcd-a92462acea58"
      },
      "execution_count": 36,
      "outputs": [
        {
          "output_type": "execute_result",
          "data": {
            "text/plain": [
              "('Here’s another healthy meal plan for tomorrow:\\n\\n### Breakfast\\n- **Overnight Oats**: Combine 1/2 cup rolled oats, 1 cup almond milk (or yogurt), 1 tablespoon chia seeds, and a handful of berries. Let it sit in the fridge overnight. In the morning, add a drizzle of honey or maple syrup if desired.\\n- A cup of herbal tea or black coffee.\\n\\n### Snack\\n- A small handful of **mixed nuts** or a piece of fruit, like a pear or a banana.\\n\\n### Lunch\\n- **Mediterranean Chickpea Salad**: Combine canned chickpeas (rinsed), diced cucumbers, cherry tomatoes, red onion, parsley, and feta cheese with olive oil and lemon juice dressing.\\n- A side of whole grain pita bread.\\n\\n### Snack\\n- **Greek Yogurt** with a sprinkle of granola and a few slices of fresh fruit.\\n\\n### Dinner\\n- **Grilled Chicken or Fish** (like salmon) seasoned with herbs and spices.\\n- A side of roasted vegetables (such as zucchini, bell peppers, and carrots) and quinoa.\\n\\n### Dessert (optional)\\n- A small bowl of **fresh berries** or a piece of dark chocolate.\\n\\nFeel free to customize this meal plan to suit your tastes and dietary needs! Enjoy your meals!',\n",
              " \"human: Hi GPT, i am going to market in the evening and i need to buy milk, bread, almonds and bananas. Can you remember it for me?\\nai: I can't remember things for you, but I can help you create a list! Here's what you need to buy:\\n\\n- Milk\\n- Bread\\n- Almonds\\n- Bananas\\n\\nYou can write this down or save it on your phone. Let me know if you need anything else!\\nhuman: Can you remind me all items i need to buy today?\\nai: I can't send reminders, but I can help you list out the items you need to buy. Here they are:\\n\\n- Milk\\n- Bread\\n- Almonds\\n- Bananas\\n\\nYou might want to set a reminder on your phone or write it down so you don't forget. Let me know if you need help with anything else!\\nhuman: write me a healthy meal plan for tomorrow\\nai: Here's a healthy meal plan for tomorrow:\\n\\n### Breakfast\\n- **Oatmeal** topped with fresh berries (strawberries, blueberries) and a tablespoon of almond butter.\\n- A glass of water or herbal tea.\\n\\n### Snack\\n- A small handful of **almonds** (about 1 ounce).\\n- An apple or a banana.\\n\\n### Lunch\\n- **Grilled chicken salad** with mixed greens, cherry tomatoes, cucumber, avocado, and a light vinaigrette dressing.\\n- A slice of whole-grain bread.\\n\\n### Snack\\n- Carrot and cucumber sticks with **hummus**.\\n\\n### Dinner\\n- **Baked salmon** with lemon and herbs.\\n- Steamed broccoli or asparagus on the side.\\n- A small serving of quinoa or brown rice.\\n\\n### Dessert (optional)\\n- A small bowl of Greek yogurt with honey and a sprinkle of cinnamon.\\n\\nFeel free to adjust portion sizes and ingredients based on your preferences and dietary needs! Enjoy your meals!\\nhuman: будемо розмовляти українською   привіт\\nai: Привіт! Як я можу тобі допомогти?\\nhuman: hello\\nai: Hello! How can I assist you today?\\nhuman: hello\\nai: Hello again! How can I help you?\\nhuman: write me a healthy meal plan for tomorrow\\nai: Here’s a healthy meal plan for tomorrow:\\n\\n### Breakfast\\n- **Greek Yogurt Parfait**: Layer Greek yogurt with mixed berries (strawberries, blueberries, raspberries) and a sprinkle of granola or nuts.\\n- A drizzle of honey (optional).\\n- A cup of green tea or water.\\n\\n### Snack\\n- A small handful of **almonds** (about 1 ounce) or a piece of fruit (like a banana or an apple).\\n\\n### Lunch\\n- **Quinoa Salad**: Quinoa mixed with diced cucumber, cherry tomatoes, bell peppers, red onion, and parsley, dressed with olive oil and lemon juice.\\n- Add grilled chicken or chickpeas for protein.\\n\\n### Snack\\n- Sliced veggies (carrots, cucumbers, bell peppers) with **hummus**.\\n\\n### Dinner\\n- **Baked Chicken Breast** seasoned with herbs and spices.\\n- A side of roasted sweet potatoes and steamed broccoli or green beans.\\n\\n### Dessert (optional)\\n- A small bowl of mixed fruit or a square of dark chocolate.\\n\\nFeel free to modify the plan based on your dietary preferences and needs! Enjoy your meals!\\nhuman: write me a healthy meal plan for tomorrow\\nai: Here’s a healthy meal plan for tomorrow:\\n\\n### Breakfast\\n- **Smoothie**: Blend spinach, a banana, a scoop of protein powder (optional), and almond milk.\\n- **Whole Grain Toast** with avocado and a sprinkle of salt and pepper.\\n\\n### Snack\\n- A small handful of **mixed nuts** or **Greek yogurt** with a drizzle of honey.\\n\\n### Lunch\\n- **Grilled Vegetable Wrap**: Whole grain wrap filled with grilled zucchini, bell peppers, spinach, and hummus.\\n- Side of **baby carrots** or a small salad with olive oil and vinegar dressing.\\n\\n### Snack\\n- **Apple slices** with almond butter or peanut butter.\\n\\n### Dinner\\n- **Baked Salmon** with lemon and dill.\\n- Quinoa or brown rice on the side.\\n- Steamed asparagus or broccoli.\\n\\n### Dessert (optional)\\n- A small bowl of **berries** or a piece of dark chocolate.\\n\\nFeel free to adjust portion sizes and ingredients based on your preferences! Enjoy your healthy meals!\\nhuman: write me a healthy meal plan for tomorrow\\nai: Here’s a healthy meal plan for tomorrow:\\n\\n### Breakfast\\n- **Chia Seed Pudding**: Mix 3 tablespoons of chia seeds with 1 cup of almond milk (or any milk of your choice) and let it sit overnight. In the morning, top with sliced bananas and a sprinkle of cinnamon.\\n- A cup of green tea or herbal tea.\\n\\n### Snack\\n- A small handful of **walnuts** or **mixed nuts**.\\n- A piece of fruit, like an orange or an apple.\\n\\n### Lunch\\n- **Quinoa Salad**: Cooked quinoa mixed with diced cucumbers, cherry tomatoes, red onion, parsley, and a dressing of olive oil and lemon juice. Add grilled chicken or chickpeas for protein.\\n- A side of steamed broccoli or kale.\\n\\n### Snack\\n- **Carrot and Celery Sticks** with hummus.\\n\\n### Dinner\\n- **Stir-Fried Tofu** or chicken with mixed vegetables (bell peppers, broccoli, snap peas) in a light soy sauce or teriyaki sauce.\\n- Serve over brown rice or cauliflower rice.\\n\\n### Dessert (optional)\\n- A small bowl of **Greek yogurt** with a drizzle of honey and a few berries.\\n\\nFeel free to adjust the meal plan based on your preferences and any dietary restrictions you may have! Enjoy your healthy day!\\nhuman: hello\\nai: Hello! How can I assist you today?\\nhuman: remind me what were we talking about\\nai: We were discussing healthy meal plans. I provided a meal plan for tomorrow with suggestions for breakfast, snacks, lunch, dinner, and dessert. If you need another meal plan or have any other questions, feel free to ask!\\nhuman: write me a healthy meal plan for tomorrow\\nai: Here’s another healthy meal plan for tomorrow:\\n\\n### Breakfast\\n- **Overnight Oats**: Combine 1/2 cup rolled oats, 1 cup almond milk (or yogurt), 1 tablespoon chia seeds, and a handful of berries. Let it sit in the fridge overnight. In the morning, add a drizzle of honey or maple syrup if desired.\\n- A cup of herbal tea or black coffee.\\n\\n### Snack\\n- A small handful of **mixed nuts** or a piece of fruit, like a pear or a banana.\\n\\n### Lunch\\n- **Mediterranean Chickpea Salad**: Combine canned chickpeas (rinsed), diced cucumbers, cherry tomatoes, red onion, parsley, and feta cheese with olive oil and lemon juice dressing.\\n- A side of whole grain pita bread.\\n\\n### Snack\\n- **Greek Yogurt** with a sprinkle of granola and a few slices of fresh fruit.\\n\\n### Dinner\\n- **Grilled Chicken or Fish** (like salmon) seasoned with herbs and spices.\\n- A side of roasted vegetables (such as zucchini, bell peppers, and carrots) and quinoa.\\n\\n### Dessert (optional)\\n- A small bowl of **fresh berries** or a piece of dark chocolate.\\n\\nFeel free to customize this meal plan to suit your tastes and dietary needs! Enjoy your meals!\")"
            ]
          },
          "metadata": {},
          "execution_count": 36
        }
      ]
    },
    {
      "cell_type": "code",
      "source": [
        "!pip install -qU  gradio"
      ],
      "metadata": {
        "colab": {
          "base_uri": "https://localhost:8080/"
        },
        "id": "g8yr298y1QYV",
        "outputId": "050475f8-7bed-4993-946e-6a5dc6ead3e2"
      },
      "execution_count": 23,
      "outputs": [
        {
          "output_type": "stream",
          "name": "stdout",
          "text": [
            "\u001b[2K   \u001b[90m━━━━━━━━━━━━━━━━━━━━━━━━━━━━━━━━━━━━━━━━\u001b[0m \u001b[32m18.1/18.1 MB\u001b[0m \u001b[31m34.7 MB/s\u001b[0m eta \u001b[36m0:00:00\u001b[0m\n",
            "\u001b[2K   \u001b[90m━━━━━━━━━━━━━━━━━━━━━━━━━━━━━━━━━━━━━━━━\u001b[0m \u001b[32m318.7/318.7 kB\u001b[0m \u001b[31m17.8 MB/s\u001b[0m eta \u001b[36m0:00:00\u001b[0m\n",
            "\u001b[2K   \u001b[90m━━━━━━━━━━━━━━━━━━━━━━━━━━━━━━━━━━━━━━━━\u001b[0m \u001b[32m94.6/94.6 kB\u001b[0m \u001b[31m5.6 MB/s\u001b[0m eta \u001b[36m0:00:00\u001b[0m\n",
            "\u001b[2K   \u001b[90m━━━━━━━━━━━━━━━━━━━━━━━━━━━━━━━━━━━━━━━━\u001b[0m \u001b[32m10.8/10.8 MB\u001b[0m \u001b[31m47.9 MB/s\u001b[0m eta \u001b[36m0:00:00\u001b[0m\n",
            "\u001b[2K   \u001b[90m━━━━━━━━━━━━━━━━━━━━━━━━━━━━━━━━━━━━━━━━\u001b[0m \u001b[32m62.8/62.8 kB\u001b[0m \u001b[31m4.0 MB/s\u001b[0m eta \u001b[36m0:00:00\u001b[0m\n",
            "\u001b[2K   \u001b[90m━━━━━━━━━━━━━━━━━━━━━━━━━━━━━━━━━━━━━━━━\u001b[0m \u001b[32m71.5/71.5 kB\u001b[0m \u001b[31m4.6 MB/s\u001b[0m eta \u001b[36m0:00:00\u001b[0m\n",
            "\u001b[2K   \u001b[90m━━━━━━━━━━━━━━━━━━━━━━━━━━━━━━━━━━━━━━━━\u001b[0m \u001b[32m130.2/130.2 kB\u001b[0m \u001b[31m9.0 MB/s\u001b[0m eta \u001b[36m0:00:00\u001b[0m\n",
            "\u001b[?25h"
          ]
        }
      ]
    },
    {
      "cell_type": "code",
      "source": [
        "import gradio as gr\n",
        "iface = gr.Interface(\n",
        "    fn=chat_with_history,\n",
        "    inputs=\"text\",\n",
        "    outputs=[\"text\", \"text\"],\n",
        "    title=\"Chat with History\",\n",
        "    description=\"Interact with the assistant and view the chat history.\",\n",
        "\n",
        ")"
      ],
      "metadata": {
        "id": "zivbWuuy0wAN"
      },
      "execution_count": 37,
      "outputs": []
    },
    {
      "cell_type": "code",
      "source": [
        "iface.launch()"
      ],
      "metadata": {
        "colab": {
          "base_uri": "https://localhost:8080/",
          "height": 633
        },
        "id": "3mFfz5AH1jTv",
        "outputId": "87c513ac-8c06-46cc-ed2c-358f563baa2c"
      },
      "execution_count": 38,
      "outputs": [
        {
          "output_type": "stream",
          "name": "stdout",
          "text": [
            "Setting queue=True in a Colab notebook requires sharing enabled. Setting `share=True` (you can turn this off by setting `share=False` in `launch()` explicitly).\n",
            "\n",
            "Colab notebook detected. To show errors in colab notebook, set debug=True in launch()\n",
            "Running on public URL: https://7142ad650ea1920460.gradio.live\n",
            "\n",
            "This share link expires in 72 hours. For free permanent hosting and GPU upgrades, run `gradio deploy` from Terminal to deploy to Spaces (https://huggingface.co/spaces)\n"
          ]
        },
        {
          "output_type": "display_data",
          "data": {
            "text/plain": [
              "<IPython.core.display.HTML object>"
            ],
            "text/html": [
              "<div><iframe src=\"https://7142ad650ea1920460.gradio.live\" width=\"100%\" height=\"500\" allow=\"autoplay; camera; microphone; clipboard-read; clipboard-write;\" frameborder=\"0\" allowfullscreen></iframe></div>"
            ]
          },
          "metadata": {}
        },
        {
          "output_type": "execute_result",
          "data": {
            "text/plain": []
          },
          "metadata": {},
          "execution_count": 38
        }
      ]
    },
    {
      "cell_type": "code",
      "source": [],
      "metadata": {
        "id": "Qs9LducU1o4W"
      },
      "execution_count": null,
      "outputs": []
    }
  ]
}