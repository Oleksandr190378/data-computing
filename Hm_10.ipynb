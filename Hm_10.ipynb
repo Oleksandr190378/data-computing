{
  "nbformat": 4,
  "nbformat_minor": 0,
  "metadata": {
    "colab": {
      "provenance": [],
      "gpuType": "T4",
      "authorship_tag": "ABX9TyP3S/FJGKDRml+uxsifrS4K",
      "include_colab_link": true
    },
    "kernelspec": {
      "name": "python3",
      "display_name": "Python 3"
    },
    "language_info": {
      "name": "python"
    },
    "accelerator": "GPU"
  },
  "cells": [
    {
      "cell_type": "markdown",
      "metadata": {
        "id": "view-in-github",
        "colab_type": "text"
      },
      "source": [
        "<a href=\"https://colab.research.google.com/github/Oleksandr190378/data-computing/blob/main/Hm_10.ipynb\" target=\"_parent\"><img src=\"https://colab.research.google.com/assets/colab-badge.svg\" alt=\"Open In Colab\"/></a>"
      ]
    },
    {
      "cell_type": "code",
      "execution_count": 29,
      "metadata": {
        "id": "DjC1iR1jJarD"
      },
      "outputs": [],
      "source": [
        "import numpy as np\n",
        "import tensorflow as tf\n",
        "from tensorflow import keras\n",
        "from keras import layers, Model\n",
        "from keras.models import Sequential\n",
        "from tensorflow.keras.utils import to_categorical\n",
        "from keras.callbacks import  EarlyStopping\n",
        "from sklearn.metrics import ConfusionMatrixDisplay\n",
        "from sklearn.metrics import classification_report, confusion_matrix"
      ]
    },
    {
      "cell_type": "code",
      "source": [
        "from tensorflow.keras.datasets import fashion_mnist\n",
        "(train_data, train_labels), (test_data, test_labels) = fashion_mnist.load_data()"
      ],
      "metadata": {
        "id": "xceMQhw0Jobt"
      },
      "execution_count": 28,
      "outputs": []
    },
    {
      "cell_type": "code",
      "source": [
        "x_train = train_data\n",
        "x_test = test_data\n",
        "y_train = to_categorical(train_labels)\n",
        "y_test = to_categorical(test_labels)"
      ],
      "metadata": {
        "id": "YdHwsAY2KTMD"
      },
      "execution_count": 30,
      "outputs": []
    },
    {
      "cell_type": "code",
      "source": [
        "data_augmentation = Sequential(\n",
        "  [\n",
        "  layers.RandomFlip(\"horizontal\"),\n",
        "  layers.RandomRotation(0.1),\n",
        "  layers.RandomZoom(0.2),\n",
        "  ]\n",
        "  )"
      ],
      "metadata": {
        "id": "KneJbCGZoL5v"
      },
      "execution_count": null,
      "outputs": []
    },
    {
      "cell_type": "code",
      "source": [
        "inputs = keras.Input(shape=(28, 28, 1))\n",
        "x = data_augmentation(inputs)\n",
        "x = layers.Rescaling(1./255)(x)\n",
        "x = layers.Conv2D(32, 5, activation='relu')(x)\n",
        "x = layers.MaxPooling2D(2)(x)\n",
        "x = layers.Conv2D(64, 3, activation='relu', padding='same')(x)\n",
        "x = layers.MaxPooling2D(2)(x)\n",
        "x = layers.Conv2D(64, 3, padding='same', use_bias=False)(x)\n",
        "x = layers.BatchNormalization()(x)\n",
        "x = layers.Activation('relu')(x)\n",
        "x = layers.AveragePooling2D(2)(x)\n",
        "x = layers.Flatten()(x)\n",
        "x = layers.Dense(128, activation='relu')(x)\n",
        "x = layers.Dropout(0.5)(x)\n",
        "outputs = layers.Dense(10, activation='softmax')(x)\n",
        "\n",
        "model1 = keras.Model(inputs=inputs, outputs=outputs)"
      ],
      "metadata": {
        "id": "cH4K0DNlJwM8"
      },
      "execution_count": 5,
      "outputs": []
    },
    {
      "cell_type": "code",
      "source": [
        "METRICS = ['accuracy',\n",
        "           tf.metrics.Precision(name='precision'),\n",
        "           tf.metrics.Recall(name='recall')]"
      ],
      "metadata": {
        "id": "lbn2KEJLNtKo"
      },
      "execution_count": 31,
      "outputs": []
    },
    {
      "cell_type": "code",
      "source": [
        "model1.compile(optimizer=\"adam\",\n",
        "  loss=\"categorical_crossentropy\",\n",
        "  metrics=METRICS)"
      ],
      "metadata": {
        "id": "Cxdul_FyKeDp"
      },
      "execution_count": 7,
      "outputs": []
    },
    {
      "cell_type": "code",
      "source": [
        "early_stopping = EarlyStopping(monitor='val_accuracy', patience=8, verbose=5, restore_best_weights=True)\n"
      ],
      "metadata": {
        "id": "jJDEki0HKlS0"
      },
      "execution_count": 32,
      "outputs": []
    },
    {
      "cell_type": "code",
      "source": [
        "history1 = model1.fit(\n",
        "    x_train,\n",
        "    y_train,\n",
        "    epochs=50,\n",
        "    batch_size=128,\n",
        "    validation_data=(x_test, y_test),\n",
        "    callbacks=[early_stopping]\n",
        ")"
      ],
      "metadata": {
        "id": "rjk9h6-aC20I",
        "outputId": "3ddd1c50-1e1a-4ee1-a3a6-4429afc4fc51",
        "colab": {
          "base_uri": "https://localhost:8080/"
        }
      },
      "execution_count": 9,
      "outputs": [
        {
          "output_type": "stream",
          "name": "stdout",
          "text": [
            "Epoch 1/50\n",
            "\u001b[1m469/469\u001b[0m \u001b[32m━━━━━━━━━━━━━━━━━━━━\u001b[0m\u001b[37m\u001b[0m \u001b[1m73s\u001b[0m 149ms/step - accuracy: 0.7225 - loss: 0.7777 - precision: 0.8477 - recall: 0.6134 - val_accuracy: 0.8597 - val_loss: 0.4602 - val_precision: 0.9359 - val_recall: 0.7538\n",
            "Epoch 2/50\n",
            "\u001b[1m469/469\u001b[0m \u001b[32m━━━━━━━━━━━━━━━━━━━━\u001b[0m\u001b[37m\u001b[0m \u001b[1m82s\u001b[0m 148ms/step - accuracy: 0.8732 - loss: 0.3586 - precision: 0.9001 - recall: 0.8435 - val_accuracy: 0.8865 - val_loss: 0.3031 - val_precision: 0.9034 - val_recall: 0.8730\n",
            "Epoch 3/50\n",
            "\u001b[1m469/469\u001b[0m \u001b[32m━━━━━━━━━━━━━━━━━━━━\u001b[0m\u001b[37m\u001b[0m \u001b[1m83s\u001b[0m 151ms/step - accuracy: 0.8901 - loss: 0.3021 - precision: 0.9112 - recall: 0.8695 - val_accuracy: 0.8940 - val_loss: 0.2851 - val_precision: 0.9089 - val_recall: 0.8826\n",
            "Epoch 4/50\n",
            "\u001b[1m469/469\u001b[0m \u001b[32m━━━━━━━━━━━━━━━━━━━━\u001b[0m\u001b[37m\u001b[0m \u001b[1m72s\u001b[0m 154ms/step - accuracy: 0.9027 - loss: 0.2713 - precision: 0.9212 - recall: 0.8848 - val_accuracy: 0.8944 - val_loss: 0.2911 - val_precision: 0.9130 - val_recall: 0.8801\n",
            "Epoch 5/50\n",
            "\u001b[1m469/469\u001b[0m \u001b[32m━━━━━━━━━━━━━━━━━━━━\u001b[0m\u001b[37m\u001b[0m \u001b[1m82s\u001b[0m 153ms/step - accuracy: 0.9095 - loss: 0.2511 - precision: 0.9255 - recall: 0.8941 - val_accuracy: 0.9012 - val_loss: 0.2723 - val_precision: 0.9138 - val_recall: 0.8928\n",
            "Epoch 6/50\n",
            "\u001b[1m469/469\u001b[0m \u001b[32m━━━━━━━━━━━━━━━━━━━━\u001b[0m\u001b[37m\u001b[0m \u001b[1m82s\u001b[0m 152ms/step - accuracy: 0.9144 - loss: 0.2325 - precision: 0.9284 - recall: 0.9000 - val_accuracy: 0.8923 - val_loss: 0.3095 - val_precision: 0.9033 - val_recall: 0.8818\n",
            "Epoch 7/50\n",
            "\u001b[1m469/469\u001b[0m \u001b[32m━━━━━━━━━━━━━━━━━━━━\u001b[0m\u001b[37m\u001b[0m \u001b[1m82s\u001b[0m 153ms/step - accuracy: 0.9201 - loss: 0.2197 - precision: 0.9333 - recall: 0.9081 - val_accuracy: 0.9006 - val_loss: 0.2908 - val_precision: 0.9095 - val_recall: 0.8939\n",
            "Epoch 8/50\n",
            "\u001b[1m469/469\u001b[0m \u001b[32m━━━━━━━━━━━━━━━━━━━━\u001b[0m\u001b[37m\u001b[0m \u001b[1m81s\u001b[0m 151ms/step - accuracy: 0.9269 - loss: 0.2012 - precision: 0.9387 - recall: 0.9155 - val_accuracy: 0.9111 - val_loss: 0.2448 - val_precision: 0.9205 - val_recall: 0.9035\n",
            "Epoch 9/50\n",
            "\u001b[1m469/469\u001b[0m \u001b[32m━━━━━━━━━━━━━━━━━━━━\u001b[0m\u001b[37m\u001b[0m \u001b[1m82s\u001b[0m 151ms/step - accuracy: 0.9284 - loss: 0.1944 - precision: 0.9393 - recall: 0.9190 - val_accuracy: 0.8892 - val_loss: 0.3016 - val_precision: 0.9007 - val_recall: 0.8791\n",
            "Epoch 10/50\n",
            "\u001b[1m469/469\u001b[0m \u001b[32m━━━━━━━━━━━━━━━━━━━━\u001b[0m\u001b[37m\u001b[0m \u001b[1m80s\u001b[0m 148ms/step - accuracy: 0.9303 - loss: 0.1857 - precision: 0.9404 - recall: 0.9208 - val_accuracy: 0.9123 - val_loss: 0.2489 - val_precision: 0.9218 - val_recall: 0.9053\n",
            "Epoch 11/50\n",
            "\u001b[1m469/469\u001b[0m \u001b[32m━━━━━━━━━━━━━━━━━━━━\u001b[0m\u001b[37m\u001b[0m \u001b[1m69s\u001b[0m 147ms/step - accuracy: 0.9322 - loss: 0.1776 - precision: 0.9425 - recall: 0.9237 - val_accuracy: 0.9150 - val_loss: 0.2428 - val_precision: 0.9239 - val_recall: 0.9065\n",
            "Epoch 12/50\n",
            "\u001b[1m469/469\u001b[0m \u001b[32m━━━━━━━━━━━━━━━━━━━━\u001b[0m\u001b[37m\u001b[0m \u001b[1m82s\u001b[0m 148ms/step - accuracy: 0.9394 - loss: 0.1622 - precision: 0.9481 - recall: 0.9313 - val_accuracy: 0.9150 - val_loss: 0.2386 - val_precision: 0.9213 - val_recall: 0.9096\n",
            "Epoch 13/50\n",
            "\u001b[1m469/469\u001b[0m \u001b[32m━━━━━━━━━━━━━━━━━━━━\u001b[0m\u001b[37m\u001b[0m \u001b[1m82s\u001b[0m 148ms/step - accuracy: 0.9424 - loss: 0.1541 - precision: 0.9490 - recall: 0.9358 - val_accuracy: 0.9111 - val_loss: 0.2446 - val_precision: 0.9226 - val_recall: 0.9033\n",
            "Epoch 14/50\n",
            "\u001b[1m469/469\u001b[0m \u001b[32m━━━━━━━━━━━━━━━━━━━━\u001b[0m\u001b[37m\u001b[0m \u001b[1m83s\u001b[0m 150ms/step - accuracy: 0.9469 - loss: 0.1463 - precision: 0.9531 - recall: 0.9397 - val_accuracy: 0.9179 - val_loss: 0.2295 - val_precision: 0.9265 - val_recall: 0.9112\n",
            "Epoch 15/50\n",
            "\u001b[1m469/469\u001b[0m \u001b[32m━━━━━━━━━━━━━━━━━━━━\u001b[0m\u001b[37m\u001b[0m \u001b[1m82s\u001b[0m 151ms/step - accuracy: 0.9453 - loss: 0.1462 - precision: 0.9523 - recall: 0.9391 - val_accuracy: 0.8979 - val_loss: 0.3296 - val_precision: 0.9052 - val_recall: 0.8945\n",
            "Epoch 16/50\n",
            "\u001b[1m469/469\u001b[0m \u001b[32m━━━━━━━━━━━━━━━━━━━━\u001b[0m\u001b[37m\u001b[0m \u001b[1m81s\u001b[0m 149ms/step - accuracy: 0.9497 - loss: 0.1340 - precision: 0.9554 - recall: 0.9430 - val_accuracy: 0.9188 - val_loss: 0.2559 - val_precision: 0.9232 - val_recall: 0.9149\n",
            "Epoch 17/50\n",
            "\u001b[1m469/469\u001b[0m \u001b[32m━━━━━━━━━━━━━━━━━━━━\u001b[0m\u001b[37m\u001b[0m \u001b[1m83s\u001b[0m 150ms/step - accuracy: 0.9513 - loss: 0.1274 - precision: 0.9571 - recall: 0.9463 - val_accuracy: 0.9168 - val_loss: 0.2538 - val_precision: 0.9239 - val_recall: 0.9133\n",
            "Epoch 18/50\n",
            "\u001b[1m469/469\u001b[0m \u001b[32m━━━━━━━━━━━━━━━━━━━━\u001b[0m\u001b[37m\u001b[0m \u001b[1m80s\u001b[0m 146ms/step - accuracy: 0.9536 - loss: 0.1206 - precision: 0.9591 - recall: 0.9494 - val_accuracy: 0.9101 - val_loss: 0.2760 - val_precision: 0.9171 - val_recall: 0.9057\n",
            "Epoch 19/50\n",
            "\u001b[1m469/469\u001b[0m \u001b[32m━━━━━━━━━━━━━━━━━━━━\u001b[0m\u001b[37m\u001b[0m \u001b[1m84s\u001b[0m 150ms/step - accuracy: 0.9565 - loss: 0.1159 - precision: 0.9609 - recall: 0.9520 - val_accuracy: 0.9115 - val_loss: 0.2682 - val_precision: 0.9177 - val_recall: 0.9076\n",
            "Epoch 20/50\n",
            "\u001b[1m469/469\u001b[0m \u001b[32m━━━━━━━━━━━━━━━━━━━━\u001b[0m\u001b[37m\u001b[0m \u001b[1m82s\u001b[0m 149ms/step - accuracy: 0.9591 - loss: 0.1093 - precision: 0.9630 - recall: 0.9547 - val_accuracy: 0.9139 - val_loss: 0.3013 - val_precision: 0.9202 - val_recall: 0.9105\n",
            "Epoch 21/50\n",
            "\u001b[1m469/469\u001b[0m \u001b[32m━━━━━━━━━━━━━━━━━━━━\u001b[0m\u001b[37m\u001b[0m \u001b[1m82s\u001b[0m 150ms/step - accuracy: 0.9606 - loss: 0.1040 - precision: 0.9649 - recall: 0.9568 - val_accuracy: 0.9213 - val_loss: 0.2683 - val_precision: 0.9264 - val_recall: 0.9181\n",
            "Epoch 22/50\n",
            "\u001b[1m469/469\u001b[0m \u001b[32m━━━━━━━━━━━━━━━━━━━━\u001b[0m\u001b[37m\u001b[0m \u001b[1m70s\u001b[0m 150ms/step - accuracy: 0.9639 - loss: 0.0937 - precision: 0.9671 - recall: 0.9606 - val_accuracy: 0.9033 - val_loss: 0.3284 - val_precision: 0.9100 - val_recall: 0.8984\n",
            "Epoch 23/50\n",
            "\u001b[1m469/469\u001b[0m \u001b[32m━━━━━━━━━━━━━━━━━━━━\u001b[0m\u001b[37m\u001b[0m \u001b[1m83s\u001b[0m 152ms/step - accuracy: 0.9624 - loss: 0.0982 - precision: 0.9658 - recall: 0.9593 - val_accuracy: 0.9192 - val_loss: 0.2724 - val_precision: 0.9235 - val_recall: 0.9165\n",
            "Epoch 24/50\n",
            "\u001b[1m469/469\u001b[0m \u001b[32m━━━━━━━━━━━━━━━━━━━━\u001b[0m\u001b[37m\u001b[0m \u001b[1m80s\u001b[0m 148ms/step - accuracy: 0.9668 - loss: 0.0873 - precision: 0.9700 - recall: 0.9634 - val_accuracy: 0.9187 - val_loss: 0.2798 - val_precision: 0.9242 - val_recall: 0.9157\n",
            "Epoch 25/50\n",
            "\u001b[1m469/469\u001b[0m \u001b[32m━━━━━━━━━━━━━━━━━━━━\u001b[0m\u001b[37m\u001b[0m \u001b[1m83s\u001b[0m 150ms/step - accuracy: 0.9681 - loss: 0.0835 - precision: 0.9704 - recall: 0.9650 - val_accuracy: 0.9053 - val_loss: 0.3352 - val_precision: 0.9097 - val_recall: 0.9026\n",
            "Epoch 26/50\n",
            "\u001b[1m469/469\u001b[0m \u001b[32m━━━━━━━━━━━━━━━━━━━━\u001b[0m\u001b[37m\u001b[0m \u001b[1m70s\u001b[0m 150ms/step - accuracy: 0.9685 - loss: 0.0804 - precision: 0.9711 - recall: 0.9659 - val_accuracy: 0.9094 - val_loss: 0.3280 - val_precision: 0.9138 - val_recall: 0.9060\n",
            "Epoch 27/50\n",
            "\u001b[1m469/469\u001b[0m \u001b[32m━━━━━━━━━━━━━━━━━━━━\u001b[0m\u001b[37m\u001b[0m \u001b[1m82s\u001b[0m 150ms/step - accuracy: 0.9693 - loss: 0.0775 - precision: 0.9719 - recall: 0.9671 - val_accuracy: 0.9120 - val_loss: 0.3371 - val_precision: 0.9157 - val_recall: 0.9105\n",
            "Epoch 28/50\n",
            "\u001b[1m469/469\u001b[0m \u001b[32m━━━━━━━━━━━━━━━━━━━━\u001b[0m\u001b[37m\u001b[0m \u001b[1m82s\u001b[0m 150ms/step - accuracy: 0.9718 - loss: 0.0742 - precision: 0.9739 - recall: 0.9700 - val_accuracy: 0.9203 - val_loss: 0.3181 - val_precision: 0.9244 - val_recall: 0.9175\n",
            "Epoch 29/50\n",
            "\u001b[1m469/469\u001b[0m \u001b[32m━━━━━━━━━━━━━━━━━━━━\u001b[0m\u001b[37m\u001b[0m \u001b[1m70s\u001b[0m 149ms/step - accuracy: 0.9711 - loss: 0.0719 - precision: 0.9730 - recall: 0.9692 - val_accuracy: 0.9198 - val_loss: 0.3332 - val_precision: 0.9224 - val_recall: 0.9180\n",
            "Epoch 29: early stopping\n",
            "Restoring model weights from the end of the best epoch: 21.\n"
          ]
        }
      ]
    },
    {
      "cell_type": "code",
      "source": [
        "evaluation= model1.evaluate(x_test, y_test)\n",
        "print(f'test accuracy - {evaluation[1]*100:.2f}%')"
      ],
      "metadata": {
        "id": "FAGoS83qNVwZ",
        "outputId": "b455cc34-1d44-4691-cedf-58a1a475661c",
        "colab": {
          "base_uri": "https://localhost:8080/"
        }
      },
      "execution_count": 11,
      "outputs": [
        {
          "output_type": "stream",
          "name": "stdout",
          "text": [
            "\u001b[1m313/313\u001b[0m \u001b[32m━━━━━━━━━━━━━━━━━━━━\u001b[0m\u001b[37m\u001b[0m \u001b[1m8s\u001b[0m 24ms/step - accuracy: 0.9197 - loss: 0.2809 - precision: 0.9239 - recall: 0.9169\n",
            "test accuracy - 92.13%\n"
          ]
        }
      ]
    },
    {
      "cell_type": "code",
      "source": [
        "y_predict= model1.predict(x_test)\n",
        "y_predict =np.argmax(y_predict, axis=1)\n",
        "y_test =np.argmax(y_test, axis=1)\n",
        "print(classification_report(y_test, y_predict))"
      ],
      "metadata": {
        "id": "ztm4o8mhPr-l",
        "outputId": "11afc989-aa9f-46b8-fa6f-c716ac9a98c3",
        "colab": {
          "base_uri": "https://localhost:8080/"
        }
      },
      "execution_count": 24,
      "outputs": [
        {
          "output_type": "stream",
          "name": "stdout",
          "text": [
            "\u001b[1m313/313\u001b[0m \u001b[32m━━━━━━━━━━━━━━━━━━━━\u001b[0m\u001b[37m\u001b[0m \u001b[1m4s\u001b[0m 14ms/step\n",
            "              precision    recall  f1-score   support\n",
            "\n",
            "           0       0.86      0.87      0.86      1000\n",
            "           1       0.99      0.99      0.99      1000\n",
            "           2       0.85      0.90      0.87      1000\n",
            "           3       0.93      0.92      0.92      1000\n",
            "           4       0.89      0.87      0.88      1000\n",
            "           5       0.99      0.98      0.99      1000\n",
            "           6       0.79      0.76      0.77      1000\n",
            "           7       0.95      0.98      0.97      1000\n",
            "           8       0.98      0.99      0.98      1000\n",
            "           9       0.98      0.96      0.97      1000\n",
            "\n",
            "    accuracy                           0.92     10000\n",
            "   macro avg       0.92      0.92      0.92     10000\n",
            "weighted avg       0.92      0.92      0.92     10000\n",
            "\n"
          ]
        }
      ]
    },
    {
      "cell_type": "code",
      "source": [
        "from keras.applications.vgg16 import VGG16"
      ],
      "metadata": {
        "id": "9MUtpJuntO8j"
      },
      "execution_count": 6,
      "outputs": []
    },
    {
      "cell_type": "code",
      "source": [
        "conv_base = keras.applications.VGG16(weights='imagenet', include_top=False, input_shape=(32, 32, 3))\n",
        "conv_base.trainable = False\n"
      ],
      "metadata": {
        "colab": {
          "base_uri": "https://localhost:8080/"
        },
        "id": "3K1lIkDLtRQX",
        "outputId": "a0a8e224-c115-4bd9-a6a8-1b6698f8d5ef"
      },
      "execution_count": 7,
      "outputs": [
        {
          "output_type": "stream",
          "name": "stdout",
          "text": [
            "Downloading data from https://storage.googleapis.com/tensorflow/keras-applications/vgg16/vgg16_weights_tf_dim_ordering_tf_kernels_notop.h5\n",
            "\u001b[1m58889256/58889256\u001b[0m \u001b[32m━━━━━━━━━━━━━━━━━━━━\u001b[0m\u001b[37m\u001b[0m \u001b[1m4s\u001b[0m 0us/step\n"
          ]
        }
      ]
    },
    {
      "cell_type": "code",
      "source": [
        "conv_base.summary()"
      ],
      "metadata": {
        "id": "T215zBSLiqsN",
        "outputId": "6ef322d2-65c7-470a-993c-d2afa5f050a1",
        "colab": {
          "base_uri": "https://localhost:8080/",
          "height": 767
        }
      },
      "execution_count": 8,
      "outputs": [
        {
          "output_type": "display_data",
          "data": {
            "text/plain": [
              "\u001b[1mModel: \"vgg16\"\u001b[0m\n"
            ],
            "text/html": [
              "<pre style=\"white-space:pre;overflow-x:auto;line-height:normal;font-family:Menlo,'DejaVu Sans Mono',consolas,'Courier New',monospace\"><span style=\"font-weight: bold\">Model: \"vgg16\"</span>\n",
              "</pre>\n"
            ]
          },
          "metadata": {}
        },
        {
          "output_type": "display_data",
          "data": {
            "text/plain": [
              "┏━━━━━━━━━━━━━━━━━━━━━━━━━━━━━━━━━━━━━━┳━━━━━━━━━━━━━━━━━━━━━━━━━━━━━┳━━━━━━━━━━━━━━━━━┓\n",
              "┃\u001b[1m \u001b[0m\u001b[1mLayer (type)                        \u001b[0m\u001b[1m \u001b[0m┃\u001b[1m \u001b[0m\u001b[1mOutput Shape               \u001b[0m\u001b[1m \u001b[0m┃\u001b[1m \u001b[0m\u001b[1m        Param #\u001b[0m\u001b[1m \u001b[0m┃\n",
              "┡━━━━━━━━━━━━━━━━━━━━━━━━━━━━━━━━━━━━━━╇━━━━━━━━━━━━━━━━━━━━━━━━━━━━━╇━━━━━━━━━━━━━━━━━┩\n",
              "│ input_layer (\u001b[38;5;33mInputLayer\u001b[0m)             │ (\u001b[38;5;45mNone\u001b[0m, \u001b[38;5;34m32\u001b[0m, \u001b[38;5;34m32\u001b[0m, \u001b[38;5;34m3\u001b[0m)           │               \u001b[38;5;34m0\u001b[0m │\n",
              "├──────────────────────────────────────┼─────────────────────────────┼─────────────────┤\n",
              "│ block1_conv1 (\u001b[38;5;33mConv2D\u001b[0m)                │ (\u001b[38;5;45mNone\u001b[0m, \u001b[38;5;34m32\u001b[0m, \u001b[38;5;34m32\u001b[0m, \u001b[38;5;34m64\u001b[0m)          │           \u001b[38;5;34m1,792\u001b[0m │\n",
              "├──────────────────────────────────────┼─────────────────────────────┼─────────────────┤\n",
              "│ block1_conv2 (\u001b[38;5;33mConv2D\u001b[0m)                │ (\u001b[38;5;45mNone\u001b[0m, \u001b[38;5;34m32\u001b[0m, \u001b[38;5;34m32\u001b[0m, \u001b[38;5;34m64\u001b[0m)          │          \u001b[38;5;34m36,928\u001b[0m │\n",
              "├──────────────────────────────────────┼─────────────────────────────┼─────────────────┤\n",
              "│ block1_pool (\u001b[38;5;33mMaxPooling2D\u001b[0m)           │ (\u001b[38;5;45mNone\u001b[0m, \u001b[38;5;34m16\u001b[0m, \u001b[38;5;34m16\u001b[0m, \u001b[38;5;34m64\u001b[0m)          │               \u001b[38;5;34m0\u001b[0m │\n",
              "├──────────────────────────────────────┼─────────────────────────────┼─────────────────┤\n",
              "│ block2_conv1 (\u001b[38;5;33mConv2D\u001b[0m)                │ (\u001b[38;5;45mNone\u001b[0m, \u001b[38;5;34m16\u001b[0m, \u001b[38;5;34m16\u001b[0m, \u001b[38;5;34m128\u001b[0m)         │          \u001b[38;5;34m73,856\u001b[0m │\n",
              "├──────────────────────────────────────┼─────────────────────────────┼─────────────────┤\n",
              "│ block2_conv2 (\u001b[38;5;33mConv2D\u001b[0m)                │ (\u001b[38;5;45mNone\u001b[0m, \u001b[38;5;34m16\u001b[0m, \u001b[38;5;34m16\u001b[0m, \u001b[38;5;34m128\u001b[0m)         │         \u001b[38;5;34m147,584\u001b[0m │\n",
              "├──────────────────────────────────────┼─────────────────────────────┼─────────────────┤\n",
              "│ block2_pool (\u001b[38;5;33mMaxPooling2D\u001b[0m)           │ (\u001b[38;5;45mNone\u001b[0m, \u001b[38;5;34m8\u001b[0m, \u001b[38;5;34m8\u001b[0m, \u001b[38;5;34m128\u001b[0m)           │               \u001b[38;5;34m0\u001b[0m │\n",
              "├──────────────────────────────────────┼─────────────────────────────┼─────────────────┤\n",
              "│ block3_conv1 (\u001b[38;5;33mConv2D\u001b[0m)                │ (\u001b[38;5;45mNone\u001b[0m, \u001b[38;5;34m8\u001b[0m, \u001b[38;5;34m8\u001b[0m, \u001b[38;5;34m256\u001b[0m)           │         \u001b[38;5;34m295,168\u001b[0m │\n",
              "├──────────────────────────────────────┼─────────────────────────────┼─────────────────┤\n",
              "│ block3_conv2 (\u001b[38;5;33mConv2D\u001b[0m)                │ (\u001b[38;5;45mNone\u001b[0m, \u001b[38;5;34m8\u001b[0m, \u001b[38;5;34m8\u001b[0m, \u001b[38;5;34m256\u001b[0m)           │         \u001b[38;5;34m590,080\u001b[0m │\n",
              "├──────────────────────────────────────┼─────────────────────────────┼─────────────────┤\n",
              "│ block3_conv3 (\u001b[38;5;33mConv2D\u001b[0m)                │ (\u001b[38;5;45mNone\u001b[0m, \u001b[38;5;34m8\u001b[0m, \u001b[38;5;34m8\u001b[0m, \u001b[38;5;34m256\u001b[0m)           │         \u001b[38;5;34m590,080\u001b[0m │\n",
              "├──────────────────────────────────────┼─────────────────────────────┼─────────────────┤\n",
              "│ block3_pool (\u001b[38;5;33mMaxPooling2D\u001b[0m)           │ (\u001b[38;5;45mNone\u001b[0m, \u001b[38;5;34m4\u001b[0m, \u001b[38;5;34m4\u001b[0m, \u001b[38;5;34m256\u001b[0m)           │               \u001b[38;5;34m0\u001b[0m │\n",
              "├──────────────────────────────────────┼─────────────────────────────┼─────────────────┤\n",
              "│ block4_conv1 (\u001b[38;5;33mConv2D\u001b[0m)                │ (\u001b[38;5;45mNone\u001b[0m, \u001b[38;5;34m4\u001b[0m, \u001b[38;5;34m4\u001b[0m, \u001b[38;5;34m512\u001b[0m)           │       \u001b[38;5;34m1,180,160\u001b[0m │\n",
              "├──────────────────────────────────────┼─────────────────────────────┼─────────────────┤\n",
              "│ block4_conv2 (\u001b[38;5;33mConv2D\u001b[0m)                │ (\u001b[38;5;45mNone\u001b[0m, \u001b[38;5;34m4\u001b[0m, \u001b[38;5;34m4\u001b[0m, \u001b[38;5;34m512\u001b[0m)           │       \u001b[38;5;34m2,359,808\u001b[0m │\n",
              "├──────────────────────────────────────┼─────────────────────────────┼─────────────────┤\n",
              "│ block4_conv3 (\u001b[38;5;33mConv2D\u001b[0m)                │ (\u001b[38;5;45mNone\u001b[0m, \u001b[38;5;34m4\u001b[0m, \u001b[38;5;34m4\u001b[0m, \u001b[38;5;34m512\u001b[0m)           │       \u001b[38;5;34m2,359,808\u001b[0m │\n",
              "├──────────────────────────────────────┼─────────────────────────────┼─────────────────┤\n",
              "│ block4_pool (\u001b[38;5;33mMaxPooling2D\u001b[0m)           │ (\u001b[38;5;45mNone\u001b[0m, \u001b[38;5;34m2\u001b[0m, \u001b[38;5;34m2\u001b[0m, \u001b[38;5;34m512\u001b[0m)           │               \u001b[38;5;34m0\u001b[0m │\n",
              "├──────────────────────────────────────┼─────────────────────────────┼─────────────────┤\n",
              "│ block5_conv1 (\u001b[38;5;33mConv2D\u001b[0m)                │ (\u001b[38;5;45mNone\u001b[0m, \u001b[38;5;34m2\u001b[0m, \u001b[38;5;34m2\u001b[0m, \u001b[38;5;34m512\u001b[0m)           │       \u001b[38;5;34m2,359,808\u001b[0m │\n",
              "├──────────────────────────────────────┼─────────────────────────────┼─────────────────┤\n",
              "│ block5_conv2 (\u001b[38;5;33mConv2D\u001b[0m)                │ (\u001b[38;5;45mNone\u001b[0m, \u001b[38;5;34m2\u001b[0m, \u001b[38;5;34m2\u001b[0m, \u001b[38;5;34m512\u001b[0m)           │       \u001b[38;5;34m2,359,808\u001b[0m │\n",
              "├──────────────────────────────────────┼─────────────────────────────┼─────────────────┤\n",
              "│ block5_conv3 (\u001b[38;5;33mConv2D\u001b[0m)                │ (\u001b[38;5;45mNone\u001b[0m, \u001b[38;5;34m2\u001b[0m, \u001b[38;5;34m2\u001b[0m, \u001b[38;5;34m512\u001b[0m)           │       \u001b[38;5;34m2,359,808\u001b[0m │\n",
              "├──────────────────────────────────────┼─────────────────────────────┼─────────────────┤\n",
              "│ block5_pool (\u001b[38;5;33mMaxPooling2D\u001b[0m)           │ (\u001b[38;5;45mNone\u001b[0m, \u001b[38;5;34m1\u001b[0m, \u001b[38;5;34m1\u001b[0m, \u001b[38;5;34m512\u001b[0m)           │               \u001b[38;5;34m0\u001b[0m │\n",
              "└──────────────────────────────────────┴─────────────────────────────┴─────────────────┘\n"
            ],
            "text/html": [
              "<pre style=\"white-space:pre;overflow-x:auto;line-height:normal;font-family:Menlo,'DejaVu Sans Mono',consolas,'Courier New',monospace\">┏━━━━━━━━━━━━━━━━━━━━━━━━━━━━━━━━━━━━━━┳━━━━━━━━━━━━━━━━━━━━━━━━━━━━━┳━━━━━━━━━━━━━━━━━┓\n",
              "┃<span style=\"font-weight: bold\"> Layer (type)                         </span>┃<span style=\"font-weight: bold\"> Output Shape                </span>┃<span style=\"font-weight: bold\">         Param # </span>┃\n",
              "┡━━━━━━━━━━━━━━━━━━━━━━━━━━━━━━━━━━━━━━╇━━━━━━━━━━━━━━━━━━━━━━━━━━━━━╇━━━━━━━━━━━━━━━━━┩\n",
              "│ input_layer (<span style=\"color: #0087ff; text-decoration-color: #0087ff\">InputLayer</span>)             │ (<span style=\"color: #00d7ff; text-decoration-color: #00d7ff\">None</span>, <span style=\"color: #00af00; text-decoration-color: #00af00\">32</span>, <span style=\"color: #00af00; text-decoration-color: #00af00\">32</span>, <span style=\"color: #00af00; text-decoration-color: #00af00\">3</span>)           │               <span style=\"color: #00af00; text-decoration-color: #00af00\">0</span> │\n",
              "├──────────────────────────────────────┼─────────────────────────────┼─────────────────┤\n",
              "│ block1_conv1 (<span style=\"color: #0087ff; text-decoration-color: #0087ff\">Conv2D</span>)                │ (<span style=\"color: #00d7ff; text-decoration-color: #00d7ff\">None</span>, <span style=\"color: #00af00; text-decoration-color: #00af00\">32</span>, <span style=\"color: #00af00; text-decoration-color: #00af00\">32</span>, <span style=\"color: #00af00; text-decoration-color: #00af00\">64</span>)          │           <span style=\"color: #00af00; text-decoration-color: #00af00\">1,792</span> │\n",
              "├──────────────────────────────────────┼─────────────────────────────┼─────────────────┤\n",
              "│ block1_conv2 (<span style=\"color: #0087ff; text-decoration-color: #0087ff\">Conv2D</span>)                │ (<span style=\"color: #00d7ff; text-decoration-color: #00d7ff\">None</span>, <span style=\"color: #00af00; text-decoration-color: #00af00\">32</span>, <span style=\"color: #00af00; text-decoration-color: #00af00\">32</span>, <span style=\"color: #00af00; text-decoration-color: #00af00\">64</span>)          │          <span style=\"color: #00af00; text-decoration-color: #00af00\">36,928</span> │\n",
              "├──────────────────────────────────────┼─────────────────────────────┼─────────────────┤\n",
              "│ block1_pool (<span style=\"color: #0087ff; text-decoration-color: #0087ff\">MaxPooling2D</span>)           │ (<span style=\"color: #00d7ff; text-decoration-color: #00d7ff\">None</span>, <span style=\"color: #00af00; text-decoration-color: #00af00\">16</span>, <span style=\"color: #00af00; text-decoration-color: #00af00\">16</span>, <span style=\"color: #00af00; text-decoration-color: #00af00\">64</span>)          │               <span style=\"color: #00af00; text-decoration-color: #00af00\">0</span> │\n",
              "├──────────────────────────────────────┼─────────────────────────────┼─────────────────┤\n",
              "│ block2_conv1 (<span style=\"color: #0087ff; text-decoration-color: #0087ff\">Conv2D</span>)                │ (<span style=\"color: #00d7ff; text-decoration-color: #00d7ff\">None</span>, <span style=\"color: #00af00; text-decoration-color: #00af00\">16</span>, <span style=\"color: #00af00; text-decoration-color: #00af00\">16</span>, <span style=\"color: #00af00; text-decoration-color: #00af00\">128</span>)         │          <span style=\"color: #00af00; text-decoration-color: #00af00\">73,856</span> │\n",
              "├──────────────────────────────────────┼─────────────────────────────┼─────────────────┤\n",
              "│ block2_conv2 (<span style=\"color: #0087ff; text-decoration-color: #0087ff\">Conv2D</span>)                │ (<span style=\"color: #00d7ff; text-decoration-color: #00d7ff\">None</span>, <span style=\"color: #00af00; text-decoration-color: #00af00\">16</span>, <span style=\"color: #00af00; text-decoration-color: #00af00\">16</span>, <span style=\"color: #00af00; text-decoration-color: #00af00\">128</span>)         │         <span style=\"color: #00af00; text-decoration-color: #00af00\">147,584</span> │\n",
              "├──────────────────────────────────────┼─────────────────────────────┼─────────────────┤\n",
              "│ block2_pool (<span style=\"color: #0087ff; text-decoration-color: #0087ff\">MaxPooling2D</span>)           │ (<span style=\"color: #00d7ff; text-decoration-color: #00d7ff\">None</span>, <span style=\"color: #00af00; text-decoration-color: #00af00\">8</span>, <span style=\"color: #00af00; text-decoration-color: #00af00\">8</span>, <span style=\"color: #00af00; text-decoration-color: #00af00\">128</span>)           │               <span style=\"color: #00af00; text-decoration-color: #00af00\">0</span> │\n",
              "├──────────────────────────────────────┼─────────────────────────────┼─────────────────┤\n",
              "│ block3_conv1 (<span style=\"color: #0087ff; text-decoration-color: #0087ff\">Conv2D</span>)                │ (<span style=\"color: #00d7ff; text-decoration-color: #00d7ff\">None</span>, <span style=\"color: #00af00; text-decoration-color: #00af00\">8</span>, <span style=\"color: #00af00; text-decoration-color: #00af00\">8</span>, <span style=\"color: #00af00; text-decoration-color: #00af00\">256</span>)           │         <span style=\"color: #00af00; text-decoration-color: #00af00\">295,168</span> │\n",
              "├──────────────────────────────────────┼─────────────────────────────┼─────────────────┤\n",
              "│ block3_conv2 (<span style=\"color: #0087ff; text-decoration-color: #0087ff\">Conv2D</span>)                │ (<span style=\"color: #00d7ff; text-decoration-color: #00d7ff\">None</span>, <span style=\"color: #00af00; text-decoration-color: #00af00\">8</span>, <span style=\"color: #00af00; text-decoration-color: #00af00\">8</span>, <span style=\"color: #00af00; text-decoration-color: #00af00\">256</span>)           │         <span style=\"color: #00af00; text-decoration-color: #00af00\">590,080</span> │\n",
              "├──────────────────────────────────────┼─────────────────────────────┼─────────────────┤\n",
              "│ block3_conv3 (<span style=\"color: #0087ff; text-decoration-color: #0087ff\">Conv2D</span>)                │ (<span style=\"color: #00d7ff; text-decoration-color: #00d7ff\">None</span>, <span style=\"color: #00af00; text-decoration-color: #00af00\">8</span>, <span style=\"color: #00af00; text-decoration-color: #00af00\">8</span>, <span style=\"color: #00af00; text-decoration-color: #00af00\">256</span>)           │         <span style=\"color: #00af00; text-decoration-color: #00af00\">590,080</span> │\n",
              "├──────────────────────────────────────┼─────────────────────────────┼─────────────────┤\n",
              "│ block3_pool (<span style=\"color: #0087ff; text-decoration-color: #0087ff\">MaxPooling2D</span>)           │ (<span style=\"color: #00d7ff; text-decoration-color: #00d7ff\">None</span>, <span style=\"color: #00af00; text-decoration-color: #00af00\">4</span>, <span style=\"color: #00af00; text-decoration-color: #00af00\">4</span>, <span style=\"color: #00af00; text-decoration-color: #00af00\">256</span>)           │               <span style=\"color: #00af00; text-decoration-color: #00af00\">0</span> │\n",
              "├──────────────────────────────────────┼─────────────────────────────┼─────────────────┤\n",
              "│ block4_conv1 (<span style=\"color: #0087ff; text-decoration-color: #0087ff\">Conv2D</span>)                │ (<span style=\"color: #00d7ff; text-decoration-color: #00d7ff\">None</span>, <span style=\"color: #00af00; text-decoration-color: #00af00\">4</span>, <span style=\"color: #00af00; text-decoration-color: #00af00\">4</span>, <span style=\"color: #00af00; text-decoration-color: #00af00\">512</span>)           │       <span style=\"color: #00af00; text-decoration-color: #00af00\">1,180,160</span> │\n",
              "├──────────────────────────────────────┼─────────────────────────────┼─────────────────┤\n",
              "│ block4_conv2 (<span style=\"color: #0087ff; text-decoration-color: #0087ff\">Conv2D</span>)                │ (<span style=\"color: #00d7ff; text-decoration-color: #00d7ff\">None</span>, <span style=\"color: #00af00; text-decoration-color: #00af00\">4</span>, <span style=\"color: #00af00; text-decoration-color: #00af00\">4</span>, <span style=\"color: #00af00; text-decoration-color: #00af00\">512</span>)           │       <span style=\"color: #00af00; text-decoration-color: #00af00\">2,359,808</span> │\n",
              "├──────────────────────────────────────┼─────────────────────────────┼─────────────────┤\n",
              "│ block4_conv3 (<span style=\"color: #0087ff; text-decoration-color: #0087ff\">Conv2D</span>)                │ (<span style=\"color: #00d7ff; text-decoration-color: #00d7ff\">None</span>, <span style=\"color: #00af00; text-decoration-color: #00af00\">4</span>, <span style=\"color: #00af00; text-decoration-color: #00af00\">4</span>, <span style=\"color: #00af00; text-decoration-color: #00af00\">512</span>)           │       <span style=\"color: #00af00; text-decoration-color: #00af00\">2,359,808</span> │\n",
              "├──────────────────────────────────────┼─────────────────────────────┼─────────────────┤\n",
              "│ block4_pool (<span style=\"color: #0087ff; text-decoration-color: #0087ff\">MaxPooling2D</span>)           │ (<span style=\"color: #00d7ff; text-decoration-color: #00d7ff\">None</span>, <span style=\"color: #00af00; text-decoration-color: #00af00\">2</span>, <span style=\"color: #00af00; text-decoration-color: #00af00\">2</span>, <span style=\"color: #00af00; text-decoration-color: #00af00\">512</span>)           │               <span style=\"color: #00af00; text-decoration-color: #00af00\">0</span> │\n",
              "├──────────────────────────────────────┼─────────────────────────────┼─────────────────┤\n",
              "│ block5_conv1 (<span style=\"color: #0087ff; text-decoration-color: #0087ff\">Conv2D</span>)                │ (<span style=\"color: #00d7ff; text-decoration-color: #00d7ff\">None</span>, <span style=\"color: #00af00; text-decoration-color: #00af00\">2</span>, <span style=\"color: #00af00; text-decoration-color: #00af00\">2</span>, <span style=\"color: #00af00; text-decoration-color: #00af00\">512</span>)           │       <span style=\"color: #00af00; text-decoration-color: #00af00\">2,359,808</span> │\n",
              "├──────────────────────────────────────┼─────────────────────────────┼─────────────────┤\n",
              "│ block5_conv2 (<span style=\"color: #0087ff; text-decoration-color: #0087ff\">Conv2D</span>)                │ (<span style=\"color: #00d7ff; text-decoration-color: #00d7ff\">None</span>, <span style=\"color: #00af00; text-decoration-color: #00af00\">2</span>, <span style=\"color: #00af00; text-decoration-color: #00af00\">2</span>, <span style=\"color: #00af00; text-decoration-color: #00af00\">512</span>)           │       <span style=\"color: #00af00; text-decoration-color: #00af00\">2,359,808</span> │\n",
              "├──────────────────────────────────────┼─────────────────────────────┼─────────────────┤\n",
              "│ block5_conv3 (<span style=\"color: #0087ff; text-decoration-color: #0087ff\">Conv2D</span>)                │ (<span style=\"color: #00d7ff; text-decoration-color: #00d7ff\">None</span>, <span style=\"color: #00af00; text-decoration-color: #00af00\">2</span>, <span style=\"color: #00af00; text-decoration-color: #00af00\">2</span>, <span style=\"color: #00af00; text-decoration-color: #00af00\">512</span>)           │       <span style=\"color: #00af00; text-decoration-color: #00af00\">2,359,808</span> │\n",
              "├──────────────────────────────────────┼─────────────────────────────┼─────────────────┤\n",
              "│ block5_pool (<span style=\"color: #0087ff; text-decoration-color: #0087ff\">MaxPooling2D</span>)           │ (<span style=\"color: #00d7ff; text-decoration-color: #00d7ff\">None</span>, <span style=\"color: #00af00; text-decoration-color: #00af00\">1</span>, <span style=\"color: #00af00; text-decoration-color: #00af00\">1</span>, <span style=\"color: #00af00; text-decoration-color: #00af00\">512</span>)           │               <span style=\"color: #00af00; text-decoration-color: #00af00\">0</span> │\n",
              "└──────────────────────────────────────┴─────────────────────────────┴─────────────────┘\n",
              "</pre>\n"
            ]
          },
          "metadata": {}
        },
        {
          "output_type": "display_data",
          "data": {
            "text/plain": [
              "\u001b[1m Total params: \u001b[0m\u001b[38;5;34m14,714,688\u001b[0m (56.13 MB)\n"
            ],
            "text/html": [
              "<pre style=\"white-space:pre;overflow-x:auto;line-height:normal;font-family:Menlo,'DejaVu Sans Mono',consolas,'Courier New',monospace\"><span style=\"font-weight: bold\"> Total params: </span><span style=\"color: #00af00; text-decoration-color: #00af00\">14,714,688</span> (56.13 MB)\n",
              "</pre>\n"
            ]
          },
          "metadata": {}
        },
        {
          "output_type": "display_data",
          "data": {
            "text/plain": [
              "\u001b[1m Trainable params: \u001b[0m\u001b[38;5;34m14,714,688\u001b[0m (56.13 MB)\n"
            ],
            "text/html": [
              "<pre style=\"white-space:pre;overflow-x:auto;line-height:normal;font-family:Menlo,'DejaVu Sans Mono',consolas,'Courier New',monospace\"><span style=\"font-weight: bold\"> Trainable params: </span><span style=\"color: #00af00; text-decoration-color: #00af00\">14,714,688</span> (56.13 MB)\n",
              "</pre>\n"
            ]
          },
          "metadata": {}
        },
        {
          "output_type": "display_data",
          "data": {
            "text/plain": [
              "\u001b[1m Non-trainable params: \u001b[0m\u001b[38;5;34m0\u001b[0m (0.00 B)\n"
            ],
            "text/html": [
              "<pre style=\"white-space:pre;overflow-x:auto;line-height:normal;font-family:Menlo,'DejaVu Sans Mono',consolas,'Courier New',monospace\"><span style=\"font-weight: bold\"> Non-trainable params: </span><span style=\"color: #00af00; text-decoration-color: #00af00\">0</span> (0.00 B)\n",
              "</pre>\n"
            ]
          },
          "metadata": {}
        }
      ]
    },
    {
      "cell_type": "code",
      "source": [
        "import tensorflow as tf"
      ],
      "metadata": {
        "id": "pjIb9nUa1OTL"
      },
      "execution_count": 9,
      "outputs": []
    },
    {
      "cell_type": "code",
      "source": [
        "x_train = x_train.reshape(-1, 28, 28, 1)\n",
        "x_test = x_test.reshape(-1, 28, 28, 1)"
      ],
      "metadata": {
        "id": "f0h6g7jL7A1V"
      },
      "execution_count": 26,
      "outputs": []
    },
    {
      "cell_type": "code",
      "source": [
        "inputs = keras.Input(shape=(28, 28, 1))\n",
        "x = layers.Rescaling(1./255)(inputs)\n",
        "x = layers.Resizing(32, 32)(x)\n",
        "x = layers.Lambda(lambda x: tf.repeat(x, 3, axis=-1), output_shape=(32, 32, 3))(x)\n",
        "x = conv_base(x)\n",
        "x = layers.Flatten()(x)\n",
        "x = layers.BatchNormalization()(x)\n",
        "x = layers.Dropout(0.3)(x)\n",
        "x = layers.Dense(256, activation='relu')(x)\n",
        "outputs = layers.Dense(10, activation='softmax')(x)\n",
        "model_modified4 = keras.Model(inputs, outputs)"
      ],
      "metadata": {
        "id": "N0JEXkQ3utS8"
      },
      "execution_count": 11,
      "outputs": []
    },
    {
      "cell_type": "code",
      "source": [
        "model_modified4.compile(optimizer = keras.optimizers.Adam(learning_rate=1e-5),\n",
        "loss='categorical_crossentropy',\n",
        "metrics=METRICS)"
      ],
      "metadata": {
        "id": "tk4zlqxMvRZe"
      },
      "execution_count": 12,
      "outputs": []
    },
    {
      "cell_type": "code",
      "source": [
        "history_2 = model_modified4.fit(\n",
        "    x_train,\n",
        "    y_train,\n",
        "    epochs=100,\n",
        "    batch_size=64,\n",
        "    validation_data=(x_test, y_test),\n",
        "    callbacks=[early_stopping]\n",
        ")\n"
      ],
      "metadata": {
        "colab": {
          "base_uri": "https://localhost:8080/"
        },
        "id": "LEngZNbswYtD",
        "outputId": "994c99df-6cd1-44e5-85ba-6f578cc94541"
      },
      "execution_count": 13,
      "outputs": [
        {
          "output_type": "stream",
          "name": "stdout",
          "text": [
            "Epoch 1/100\n",
            "\u001b[1m938/938\u001b[0m \u001b[32m━━━━━━━━━━━━━━━━━━━━\u001b[0m\u001b[37m\u001b[0m \u001b[1m70s\u001b[0m 59ms/step - accuracy: 0.7461 - loss: 0.7736 - precision: 0.8755 - recall: 0.6471 - val_accuracy: 0.8872 - val_loss: 0.3230 - val_precision: 0.9109 - val_recall: 0.8670\n",
            "Epoch 2/100\n",
            "\u001b[1m938/938\u001b[0m \u001b[32m━━━━━━━━━━━━━━━━━━━━\u001b[0m\u001b[37m\u001b[0m \u001b[1m61s\u001b[0m 46ms/step - accuracy: 0.8989 - loss: 0.2900 - precision: 0.9181 - recall: 0.8803 - val_accuracy: 0.8978 - val_loss: 0.2858 - val_precision: 0.9110 - val_recall: 0.8851\n",
            "Epoch 3/100\n",
            "\u001b[1m938/938\u001b[0m \u001b[32m━━━━━━━━━━━━━━━━━━━━\u001b[0m\u001b[37m\u001b[0m \u001b[1m82s\u001b[0m 46ms/step - accuracy: 0.9134 - loss: 0.2425 - precision: 0.9272 - recall: 0.9001 - val_accuracy: 0.8986 - val_loss: 0.2859 - val_precision: 0.9103 - val_recall: 0.8903\n",
            "Epoch 4/100\n",
            "\u001b[1m938/938\u001b[0m \u001b[32m━━━━━━━━━━━━━━━━━━━━\u001b[0m\u001b[37m\u001b[0m \u001b[1m44s\u001b[0m 47ms/step - accuracy: 0.9260 - loss: 0.2066 - precision: 0.9382 - recall: 0.9163 - val_accuracy: 0.8836 - val_loss: 0.3234 - val_precision: 0.8926 - val_recall: 0.8772\n",
            "Epoch 5/100\n",
            "\u001b[1m938/938\u001b[0m \u001b[32m━━━━━━━━━━━━━━━━━━━━\u001b[0m\u001b[37m\u001b[0m \u001b[1m82s\u001b[0m 47ms/step - accuracy: 0.9344 - loss: 0.1863 - precision: 0.9439 - recall: 0.9268 - val_accuracy: 0.9025 - val_loss: 0.2782 - val_precision: 0.9096 - val_recall: 0.8947\n",
            "Epoch 6/100\n",
            "\u001b[1m938/938\u001b[0m \u001b[32m━━━━━━━━━━━━━━━━━━━━\u001b[0m\u001b[37m\u001b[0m \u001b[1m81s\u001b[0m 46ms/step - accuracy: 0.9400 - loss: 0.1669 - precision: 0.9475 - recall: 0.9323 - val_accuracy: 0.9253 - val_loss: 0.2146 - val_precision: 0.9319 - val_recall: 0.9189\n",
            "Epoch 7/100\n",
            "\u001b[1m938/938\u001b[0m \u001b[32m━━━━━━━━━━━━━━━━━━━━\u001b[0m\u001b[37m\u001b[0m \u001b[1m81s\u001b[0m 46ms/step - accuracy: 0.9471 - loss: 0.1466 - precision: 0.9535 - recall: 0.9399 - val_accuracy: 0.9230 - val_loss: 0.2201 - val_precision: 0.9315 - val_recall: 0.9181\n",
            "Epoch 8/100\n",
            "\u001b[1m938/938\u001b[0m \u001b[32m━━━━━━━━━━━━━━━━━━━━\u001b[0m\u001b[37m\u001b[0m \u001b[1m82s\u001b[0m 46ms/step - accuracy: 0.9533 - loss: 0.1328 - precision: 0.9582 - recall: 0.9476 - val_accuracy: 0.9272 - val_loss: 0.2147 - val_precision: 0.9340 - val_recall: 0.9219\n",
            "Epoch 9/100\n",
            "\u001b[1m938/938\u001b[0m \u001b[32m━━━━━━━━━━━━━━━━━━━━\u001b[0m\u001b[37m\u001b[0m \u001b[1m46s\u001b[0m 49ms/step - accuracy: 0.9582 - loss: 0.1171 - precision: 0.9629 - recall: 0.9537 - val_accuracy: 0.9206 - val_loss: 0.2351 - val_precision: 0.9269 - val_recall: 0.9167\n",
            "Epoch 10/100\n",
            "\u001b[1m938/938\u001b[0m \u001b[32m━━━━━━━━━━━━━━━━━━━━\u001b[0m\u001b[37m\u001b[0m \u001b[1m44s\u001b[0m 47ms/step - accuracy: 0.9616 - loss: 0.1054 - precision: 0.9647 - recall: 0.9581 - val_accuracy: 0.9215 - val_loss: 0.2344 - val_precision: 0.9281 - val_recall: 0.9181\n",
            "Epoch 11/100\n",
            "\u001b[1m938/938\u001b[0m \u001b[32m━━━━━━━━━━━━━━━━━━━━\u001b[0m\u001b[37m\u001b[0m \u001b[1m82s\u001b[0m 47ms/step - accuracy: 0.9655 - loss: 0.0923 - precision: 0.9687 - recall: 0.9630 - val_accuracy: 0.9192 - val_loss: 0.2628 - val_precision: 0.9271 - val_recall: 0.9157\n",
            "Epoch 12/100\n",
            "\u001b[1m938/938\u001b[0m \u001b[32m━━━━━━━━━━━━━━━━━━━━\u001b[0m\u001b[37m\u001b[0m \u001b[1m81s\u001b[0m 46ms/step - accuracy: 0.9714 - loss: 0.0788 - precision: 0.9742 - recall: 0.9691 - val_accuracy: 0.9238 - val_loss: 0.2537 - val_precision: 0.9282 - val_recall: 0.9203\n",
            "Epoch 13/100\n",
            "\u001b[1m938/938\u001b[0m \u001b[32m━━━━━━━━━━━━━━━━━━━━\u001b[0m\u001b[37m\u001b[0m \u001b[1m83s\u001b[0m 47ms/step - accuracy: 0.9755 - loss: 0.0689 - precision: 0.9773 - recall: 0.9736 - val_accuracy: 0.9232 - val_loss: 0.2722 - val_precision: 0.9258 - val_recall: 0.9202\n",
            "Epoch 14/100\n",
            "\u001b[1m938/938\u001b[0m \u001b[32m━━━━━━━━━━━━━━━━━━━━\u001b[0m\u001b[37m\u001b[0m \u001b[1m82s\u001b[0m 47ms/step - accuracy: 0.9796 - loss: 0.0584 - precision: 0.9808 - recall: 0.9780 - val_accuracy: 0.9294 - val_loss: 0.2478 - val_precision: 0.9325 - val_recall: 0.9272\n",
            "Epoch 15/100\n",
            "\u001b[1m938/938\u001b[0m \u001b[32m━━━━━━━━━━━━━━━━━━━━\u001b[0m\u001b[37m\u001b[0m \u001b[1m82s\u001b[0m 47ms/step - accuracy: 0.9826 - loss: 0.0499 - precision: 0.9836 - recall: 0.9816 - val_accuracy: 0.9234 - val_loss: 0.2716 - val_precision: 0.9264 - val_recall: 0.9221\n",
            "Epoch 16/100\n",
            "\u001b[1m938/938\u001b[0m \u001b[32m━━━━━━━━━━━━━━━━━━━━\u001b[0m\u001b[37m\u001b[0m \u001b[1m81s\u001b[0m 47ms/step - accuracy: 0.9852 - loss: 0.0426 - precision: 0.9861 - recall: 0.9844 - val_accuracy: 0.9288 - val_loss: 0.2709 - val_precision: 0.9315 - val_recall: 0.9265\n",
            "Epoch 17/100\n",
            "\u001b[1m938/938\u001b[0m \u001b[32m━━━━━━━━━━━━━━━━━━━━\u001b[0m\u001b[37m\u001b[0m \u001b[1m81s\u001b[0m 45ms/step - accuracy: 0.9865 - loss: 0.0382 - precision: 0.9872 - recall: 0.9859 - val_accuracy: 0.9218 - val_loss: 0.3343 - val_precision: 0.9246 - val_recall: 0.9201\n",
            "Epoch 18/100\n",
            "\u001b[1m938/938\u001b[0m \u001b[32m━━━━━━━━━━━━━━━━━━━━\u001b[0m\u001b[37m\u001b[0m \u001b[1m42s\u001b[0m 45ms/step - accuracy: 0.9876 - loss: 0.0353 - precision: 0.9882 - recall: 0.9868 - val_accuracy: 0.9300 - val_loss: 0.2906 - val_precision: 0.9316 - val_recall: 0.9288\n",
            "Epoch 19/100\n",
            "\u001b[1m938/938\u001b[0m \u001b[32m━━━━━━━━━━━━━━━━━━━━\u001b[0m\u001b[37m\u001b[0m \u001b[1m43s\u001b[0m 45ms/step - accuracy: 0.9904 - loss: 0.0285 - precision: 0.9906 - recall: 0.9898 - val_accuracy: 0.9296 - val_loss: 0.3023 - val_precision: 0.9311 - val_recall: 0.9281\n",
            "Epoch 20/100\n",
            "\u001b[1m938/938\u001b[0m \u001b[32m━━━━━━━━━━━━━━━━━━━━\u001b[0m\u001b[37m\u001b[0m \u001b[1m82s\u001b[0m 46ms/step - accuracy: 0.9909 - loss: 0.0264 - precision: 0.9913 - recall: 0.9905 - val_accuracy: 0.9170 - val_loss: 0.3872 - val_precision: 0.9189 - val_recall: 0.9158\n",
            "Epoch 21/100\n",
            "\u001b[1m938/938\u001b[0m \u001b[32m━━━━━━━━━━━━━━━━━━━━\u001b[0m\u001b[37m\u001b[0m \u001b[1m82s\u001b[0m 45ms/step - accuracy: 0.9917 - loss: 0.0241 - precision: 0.9920 - recall: 0.9916 - val_accuracy: 0.9282 - val_loss: 0.3371 - val_precision: 0.9302 - val_recall: 0.9267\n",
            "Epoch 22/100\n",
            "\u001b[1m938/938\u001b[0m \u001b[32m━━━━━━━━━━━━━━━━━━━━\u001b[0m\u001b[37m\u001b[0m \u001b[1m83s\u001b[0m 47ms/step - accuracy: 0.9925 - loss: 0.0211 - precision: 0.9928 - recall: 0.9921 - val_accuracy: 0.9262 - val_loss: 0.3454 - val_precision: 0.9282 - val_recall: 0.9252\n",
            "Epoch 23/100\n",
            "\u001b[1m938/938\u001b[0m \u001b[32m━━━━━━━━━━━━━━━━━━━━\u001b[0m\u001b[37m\u001b[0m \u001b[1m81s\u001b[0m 45ms/step - accuracy: 0.9935 - loss: 0.0195 - precision: 0.9937 - recall: 0.9933 - val_accuracy: 0.9153 - val_loss: 0.4322 - val_precision: 0.9168 - val_recall: 0.9144\n",
            "Epoch 24/100\n",
            "\u001b[1m938/938\u001b[0m \u001b[32m━━━━━━━━━━━━━━━━━━━━\u001b[0m\u001b[37m\u001b[0m \u001b[1m44s\u001b[0m 46ms/step - accuracy: 0.9946 - loss: 0.0165 - precision: 0.9947 - recall: 0.9943 - val_accuracy: 0.9262 - val_loss: 0.3647 - val_precision: 0.9276 - val_recall: 0.9254\n",
            "Epoch 25/100\n",
            "\u001b[1m938/938\u001b[0m \u001b[32m━━━━━━━━━━━━━━━━━━━━\u001b[0m\u001b[37m\u001b[0m \u001b[1m81s\u001b[0m 46ms/step - accuracy: 0.9931 - loss: 0.0188 - precision: 0.9933 - recall: 0.9929 - val_accuracy: 0.9263 - val_loss: 0.3591 - val_precision: 0.9280 - val_recall: 0.9254\n",
            "Epoch 26/100\n",
            "\u001b[1m938/938\u001b[0m \u001b[32m━━━━━━━━━━━━━━━━━━━━\u001b[0m\u001b[37m\u001b[0m \u001b[1m82s\u001b[0m 46ms/step - accuracy: 0.9964 - loss: 0.0119 - precision: 0.9965 - recall: 0.9962 - val_accuracy: 0.9157 - val_loss: 0.4531 - val_precision: 0.9173 - val_recall: 0.9150\n",
            "Epoch 26: early stopping\n",
            "Restoring model weights from the end of the best epoch: 18.\n"
          ]
        }
      ]
    },
    {
      "cell_type": "code",
      "source": [
        "evaluation2= model_modified4.evaluate(x_test, y_test)\n",
        "print(f'test accuracy - {evaluation2[1]*100:.2f}%')"
      ],
      "metadata": {
        "id": "iN7XmgfLaot2",
        "outputId": "2874784e-6c34-4224-8489-806bed3d8160",
        "colab": {
          "base_uri": "https://localhost:8080/"
        }
      },
      "execution_count": 14,
      "outputs": [
        {
          "output_type": "stream",
          "name": "stdout",
          "text": [
            "\u001b[1m313/313\u001b[0m \u001b[32m━━━━━━━━━━━━━━━━━━━━\u001b[0m\u001b[37m\u001b[0m \u001b[1m4s\u001b[0m 7ms/step - accuracy: 0.9280 - loss: 0.3070 - precision: 0.9297 - recall: 0.9268\n",
            "test accuracy - 93.00%\n"
          ]
        }
      ]
    },
    {
      "cell_type": "code",
      "source": [
        "y_predict= model_modified4.predict(x_test)\n",
        "y_predict =np.argmax(y_predict, axis=1)\n",
        "y_test =np.argmax(y_test, axis=1)\n",
        "print(classification_report(y_test, y_predict))"
      ],
      "metadata": {
        "id": "gTBjPTiURnEh",
        "outputId": "2839b41f-c278-4973-e828-7b667aa68fc4",
        "colab": {
          "base_uri": "https://localhost:8080/"
        }
      },
      "execution_count": 15,
      "outputs": [
        {
          "output_type": "stream",
          "name": "stdout",
          "text": [
            "\u001b[1m313/313\u001b[0m \u001b[32m━━━━━━━━━━━━━━━━━━━━\u001b[0m\u001b[37m\u001b[0m \u001b[1m3s\u001b[0m 8ms/step\n",
            "              precision    recall  f1-score   support\n",
            "\n",
            "           0       0.90      0.85      0.87      1000\n",
            "           1       0.99      0.98      0.99      1000\n",
            "           2       0.92      0.89      0.90      1000\n",
            "           3       0.94      0.92      0.93      1000\n",
            "           4       0.91      0.88      0.89      1000\n",
            "           5       0.99      0.98      0.99      1000\n",
            "           6       0.74      0.85      0.79      1000\n",
            "           7       0.97      0.98      0.98      1000\n",
            "           8       0.99      0.99      0.99      1000\n",
            "           9       0.98      0.98      0.98      1000\n",
            "\n",
            "    accuracy                           0.93     10000\n",
            "   macro avg       0.93      0.93      0.93     10000\n",
            "weighted avg       0.93      0.93      0.93     10000\n",
            "\n"
          ]
        }
      ]
    },
    {
      "cell_type": "code",
      "source": [
        "conv_base3 = keras.applications.VGG16(weights='imagenet', include_top=False, input_shape=(32, 32, 3))\n",
        "conv_base3.trainable = True\n",
        "for layer in conv_base.layers[:-5]:\n",
        "  layer.trainable = False"
      ],
      "metadata": {
        "id": "Zdid_RfmcHie"
      },
      "execution_count": 33,
      "outputs": []
    },
    {
      "cell_type": "code",
      "source": [
        "inputs = keras.Input(shape=(28, 28, 1))\n",
        "x = layers.Rescaling(1./255)(inputs)\n",
        "x = layers.Resizing(32, 32)(x)\n",
        "x = layers.Lambda(lambda x: tf.repeat(x, 3, axis=-1), output_shape=(32, 32, 3))(x)\n",
        "x = conv_base3(x)\n",
        "x = layers.Flatten()(x)\n",
        "x = layers.BatchNormalization()(x)\n",
        "x = layers.Dropout(0.3)(x)\n",
        "x = layers.Dense(128, activation='relu')(x)\n",
        "outputs = layers.Dense(10, activation='softmax')(x)\n",
        "model_modified5 = keras.Model(inputs, outputs)"
      ],
      "metadata": {
        "id": "P0ZjjCEhceXw"
      },
      "execution_count": 35,
      "outputs": []
    },
    {
      "cell_type": "code",
      "source": [
        "model_modified5.compile(optimizer = keras.optimizers.Adam(learning_rate=1e-5),\n",
        "loss='categorical_crossentropy',\n",
        "metrics=METRICS)"
      ],
      "metadata": {
        "id": "iUptQgfrcuhv"
      },
      "execution_count": 36,
      "outputs": []
    },
    {
      "cell_type": "code",
      "source": [
        "history_1 = model_modified5.fit(\n",
        "    x_train,\n",
        "    y_train,\n",
        "    epochs=80,\n",
        "    batch_size=64,\n",
        "    validation_data=(x_test, y_test),\n",
        "    callbacks=[early_stopping]\n",
        ")\n"
      ],
      "metadata": {
        "id": "gL7w8KBoc7Az",
        "outputId": "61252f23-ba2a-49df-e36d-aaea66e18888",
        "colab": {
          "base_uri": "https://localhost:8080/"
        }
      },
      "execution_count": 37,
      "outputs": [
        {
          "output_type": "stream",
          "name": "stdout",
          "text": [
            "Epoch 1/80\n",
            "\u001b[1m938/938\u001b[0m \u001b[32m━━━━━━━━━━━━━━━━━━━━\u001b[0m\u001b[37m\u001b[0m \u001b[1m56s\u001b[0m 50ms/step - accuracy: 0.7379 - loss: 0.7963 - precision: 0.8663 - recall: 0.6373 - val_accuracy: 0.8927 - val_loss: 0.3046 - val_precision: 0.9107 - val_recall: 0.8754\n",
            "Epoch 2/80\n",
            "\u001b[1m938/938\u001b[0m \u001b[32m━━━━━━━━━━━━━━━━━━━━\u001b[0m\u001b[37m\u001b[0m \u001b[1m72s\u001b[0m 44ms/step - accuracy: 0.8998 - loss: 0.2877 - precision: 0.9191 - recall: 0.8822 - val_accuracy: 0.8992 - val_loss: 0.2843 - val_precision: 0.9150 - val_recall: 0.8865\n",
            "Epoch 3/80\n",
            "\u001b[1m938/938\u001b[0m \u001b[32m━━━━━━━━━━━━━━━━━━━━\u001b[0m\u001b[37m\u001b[0m \u001b[1m83s\u001b[0m 45ms/step - accuracy: 0.9165 - loss: 0.2366 - precision: 0.9308 - recall: 0.9036 - val_accuracy: 0.8967 - val_loss: 0.2894 - val_precision: 0.9109 - val_recall: 0.8867\n",
            "Epoch 4/80\n",
            "\u001b[1m938/938\u001b[0m \u001b[32m━━━━━━━━━━━━━━━━━━━━\u001b[0m\u001b[37m\u001b[0m \u001b[1m81s\u001b[0m 44ms/step - accuracy: 0.9231 - loss: 0.2173 - precision: 0.9357 - recall: 0.9114 - val_accuracy: 0.9053 - val_loss: 0.2845 - val_precision: 0.9158 - val_recall: 0.8955\n",
            "Epoch 5/80\n",
            "\u001b[1m938/938\u001b[0m \u001b[32m━━━━━━━━━━━━━━━━━━━━\u001b[0m\u001b[37m\u001b[0m \u001b[1m82s\u001b[0m 44ms/step - accuracy: 0.9309 - loss: 0.1909 - precision: 0.9416 - recall: 0.9217 - val_accuracy: 0.9203 - val_loss: 0.2238 - val_precision: 0.9307 - val_recall: 0.9128\n",
            "Epoch 6/80\n",
            "\u001b[1m938/938\u001b[0m \u001b[32m━━━━━━━━━━━━━━━━━━━━\u001b[0m\u001b[37m\u001b[0m \u001b[1m83s\u001b[0m 46ms/step - accuracy: 0.9385 - loss: 0.1695 - precision: 0.9467 - recall: 0.9311 - val_accuracy: 0.9161 - val_loss: 0.2428 - val_precision: 0.9268 - val_recall: 0.9099\n",
            "Epoch 7/80\n",
            "\u001b[1m938/938\u001b[0m \u001b[32m━━━━━━━━━━━━━━━━━━━━\u001b[0m\u001b[37m\u001b[0m \u001b[1m82s\u001b[0m 46ms/step - accuracy: 0.9450 - loss: 0.1514 - precision: 0.9519 - recall: 0.9390 - val_accuracy: 0.9239 - val_loss: 0.2235 - val_precision: 0.9313 - val_recall: 0.9175\n",
            "Epoch 8/80\n",
            "\u001b[1m938/938\u001b[0m \u001b[32m━━━━━━━━━━━━━━━━━━━━\u001b[0m\u001b[37m\u001b[0m \u001b[1m82s\u001b[0m 45ms/step - accuracy: 0.9527 - loss: 0.1340 - precision: 0.9590 - recall: 0.9473 - val_accuracy: 0.9269 - val_loss: 0.2184 - val_precision: 0.9330 - val_recall: 0.9203\n",
            "Epoch 9/80\n",
            "\u001b[1m938/938\u001b[0m \u001b[32m━━━━━━━━━━━━━━━━━━━━\u001b[0m\u001b[37m\u001b[0m \u001b[1m42s\u001b[0m 45ms/step - accuracy: 0.9579 - loss: 0.1178 - precision: 0.9625 - recall: 0.9531 - val_accuracy: 0.9206 - val_loss: 0.2295 - val_precision: 0.9279 - val_recall: 0.9159\n",
            "Epoch 10/80\n",
            "\u001b[1m938/938\u001b[0m \u001b[32m━━━━━━━━━━━━━━━━━━━━\u001b[0m\u001b[37m\u001b[0m \u001b[1m82s\u001b[0m 46ms/step - accuracy: 0.9618 - loss: 0.1067 - precision: 0.9657 - recall: 0.9580 - val_accuracy: 0.9283 - val_loss: 0.2298 - val_precision: 0.9325 - val_recall: 0.9228\n",
            "Epoch 11/80\n",
            "\u001b[1m938/938\u001b[0m \u001b[32m━━━━━━━━━━━━━━━━━━━━\u001b[0m\u001b[37m\u001b[0m \u001b[1m83s\u001b[0m 47ms/step - accuracy: 0.9667 - loss: 0.0964 - precision: 0.9696 - recall: 0.9637 - val_accuracy: 0.9266 - val_loss: 0.2343 - val_precision: 0.9308 - val_recall: 0.9218\n",
            "Epoch 12/80\n",
            "\u001b[1m938/938\u001b[0m \u001b[32m━━━━━━━━━━━━━━━━━━━━\u001b[0m\u001b[37m\u001b[0m \u001b[1m82s\u001b[0m 47ms/step - accuracy: 0.9701 - loss: 0.0828 - precision: 0.9727 - recall: 0.9677 - val_accuracy: 0.9285 - val_loss: 0.2414 - val_precision: 0.9331 - val_recall: 0.9257\n",
            "Epoch 13/80\n",
            "\u001b[1m938/938\u001b[0m \u001b[32m━━━━━━━━━━━━━━━━━━━━\u001b[0m\u001b[37m\u001b[0m \u001b[1m81s\u001b[0m 46ms/step - accuracy: 0.9760 - loss: 0.0676 - precision: 0.9780 - recall: 0.9744 - val_accuracy: 0.9120 - val_loss: 0.3093 - val_precision: 0.9148 - val_recall: 0.9086\n",
            "Epoch 14/80\n",
            "\u001b[1m938/938\u001b[0m \u001b[32m━━━━━━━━━━━━━━━━━━━━\u001b[0m\u001b[37m\u001b[0m \u001b[1m82s\u001b[0m 46ms/step - accuracy: 0.9786 - loss: 0.0607 - precision: 0.9808 - recall: 0.9770 - val_accuracy: 0.9254 - val_loss: 0.2656 - val_precision: 0.9299 - val_recall: 0.9227\n",
            "Epoch 15/80\n",
            "\u001b[1m938/938\u001b[0m \u001b[32m━━━━━━━━━━━━━━━━━━━━\u001b[0m\u001b[37m\u001b[0m \u001b[1m82s\u001b[0m 46ms/step - accuracy: 0.9818 - loss: 0.0520 - precision: 0.9834 - recall: 0.9809 - val_accuracy: 0.9297 - val_loss: 0.2532 - val_precision: 0.9320 - val_recall: 0.9271\n",
            "Epoch 16/80\n",
            "\u001b[1m938/938\u001b[0m \u001b[32m━━━━━━━━━━━━━━━━━━━━\u001b[0m\u001b[37m\u001b[0m \u001b[1m83s\u001b[0m 47ms/step - accuracy: 0.9844 - loss: 0.0442 - precision: 0.9855 - recall: 0.9836 - val_accuracy: 0.9267 - val_loss: 0.2697 - val_precision: 0.9289 - val_recall: 0.9245\n",
            "Epoch 17/80\n",
            "\u001b[1m938/938\u001b[0m \u001b[32m━━━━━━━━━━━━━━━━━━━━\u001b[0m\u001b[37m\u001b[0m \u001b[1m81s\u001b[0m 46ms/step - accuracy: 0.9870 - loss: 0.0364 - precision: 0.9880 - recall: 0.9862 - val_accuracy: 0.9319 - val_loss: 0.2893 - val_precision: 0.9345 - val_recall: 0.9306\n",
            "Epoch 18/80\n",
            "\u001b[1m938/938\u001b[0m \u001b[32m━━━━━━━━━━━━━━━━━━━━\u001b[0m\u001b[37m\u001b[0m \u001b[1m83s\u001b[0m 47ms/step - accuracy: 0.9875 - loss: 0.0340 - precision: 0.9883 - recall: 0.9867 - val_accuracy: 0.9306 - val_loss: 0.3101 - val_precision: 0.9330 - val_recall: 0.9291\n",
            "Epoch 19/80\n",
            "\u001b[1m938/938\u001b[0m \u001b[32m━━━━━━━━━━━━━━━━━━━━\u001b[0m\u001b[37m\u001b[0m \u001b[1m81s\u001b[0m 46ms/step - accuracy: 0.9896 - loss: 0.0294 - precision: 0.9904 - recall: 0.9893 - val_accuracy: 0.9239 - val_loss: 0.3262 - val_precision: 0.9259 - val_recall: 0.9228\n",
            "Epoch 20/80\n",
            "\u001b[1m938/938\u001b[0m \u001b[32m━━━━━━━━━━━━━━━━━━━━\u001b[0m\u001b[37m\u001b[0m \u001b[1m83s\u001b[0m 47ms/step - accuracy: 0.9908 - loss: 0.0258 - precision: 0.9912 - recall: 0.9901 - val_accuracy: 0.9263 - val_loss: 0.3211 - val_precision: 0.9288 - val_recall: 0.9246\n",
            "Epoch 21/80\n",
            "\u001b[1m938/938\u001b[0m \u001b[32m━━━━━━━━━━━━━━━━━━━━\u001b[0m\u001b[37m\u001b[0m \u001b[1m81s\u001b[0m 46ms/step - accuracy: 0.9918 - loss: 0.0244 - precision: 0.9923 - recall: 0.9916 - val_accuracy: 0.9318 - val_loss: 0.3164 - val_precision: 0.9334 - val_recall: 0.9307\n",
            "Epoch 22/80\n",
            "\u001b[1m938/938\u001b[0m \u001b[32m━━━━━━━━━━━━━━━━━━━━\u001b[0m\u001b[37m\u001b[0m \u001b[1m83s\u001b[0m 47ms/step - accuracy: 0.9935 - loss: 0.0197 - precision: 0.9938 - recall: 0.9931 - val_accuracy: 0.9272 - val_loss: 0.3415 - val_precision: 0.9287 - val_recall: 0.9260\n",
            "Epoch 23/80\n",
            "\u001b[1m938/938\u001b[0m \u001b[32m━━━━━━━━━━━━━━━━━━━━\u001b[0m\u001b[37m\u001b[0m \u001b[1m81s\u001b[0m 46ms/step - accuracy: 0.9924 - loss: 0.0212 - precision: 0.9927 - recall: 0.9920 - val_accuracy: 0.9308 - val_loss: 0.3441 - val_precision: 0.9326 - val_recall: 0.9291\n",
            "Epoch 24/80\n",
            "\u001b[1m938/938\u001b[0m \u001b[32m━━━━━━━━━━━━━━━━━━━━\u001b[0m\u001b[37m\u001b[0m \u001b[1m83s\u001b[0m 47ms/step - accuracy: 0.9942 - loss: 0.0175 - precision: 0.9944 - recall: 0.9939 - val_accuracy: 0.9292 - val_loss: 0.3550 - val_precision: 0.9306 - val_recall: 0.9282\n",
            "Epoch 25/80\n",
            "\u001b[1m938/938\u001b[0m \u001b[32m━━━━━━━━━━━━━━━━━━━━\u001b[0m\u001b[37m\u001b[0m \u001b[1m82s\u001b[0m 47ms/step - accuracy: 0.9935 - loss: 0.0197 - precision: 0.9938 - recall: 0.9933 - val_accuracy: 0.9291 - val_loss: 0.3610 - val_precision: 0.9301 - val_recall: 0.9280\n",
            "Epoch 25: early stopping\n",
            "Restoring model weights from the end of the best epoch: 17.\n"
          ]
        }
      ]
    },
    {
      "cell_type": "code",
      "source": [
        "evaluation2= model_modified5.evaluate(x_test, y_test)\n",
        "print(f'test accuracy - {evaluation2[1]*100:.2f}%')"
      ],
      "metadata": {
        "id": "GzOPK_9zc2hR",
        "outputId": "35359815-4153-4605-9217-abc4f1158a29",
        "colab": {
          "base_uri": "https://localhost:8080/"
        }
      },
      "execution_count": 38,
      "outputs": [
        {
          "output_type": "stream",
          "name": "stdout",
          "text": [
            "\u001b[1m313/313\u001b[0m \u001b[32m━━━━━━━━━━━━━━━━━━━━\u001b[0m\u001b[37m\u001b[0m \u001b[1m4s\u001b[0m 7ms/step - accuracy: 0.9320 - loss: 0.2865 - precision: 0.9336 - recall: 0.9312\n",
            "test accuracy - 93.19%\n"
          ]
        }
      ]
    },
    {
      "cell_type": "markdown",
      "source": [
        "За допомогою прийомів донавчання та виділення ознак ми покращили accuracy , precision та recall моделі...\n"
      ],
      "metadata": {
        "id": "NO4kKAE0qmLY"
      }
    }
  ]
}